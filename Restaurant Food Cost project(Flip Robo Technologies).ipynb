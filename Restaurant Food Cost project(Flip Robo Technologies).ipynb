{
 "cells": [
  {
   "cell_type": "markdown",
   "id": "d2e001cb",
   "metadata": {},
   "source": [
    "# Project Description\n",
    "\n",
    "**Who doesn’t love food? All of us must have craving for at least a few favourite food items, we may also have a few places where we like to get them, a restaurant which serves our favourite food the way we want it to be. But there is one factor that will make us reconsider having our favourite food from our favourite restaurant, the cost. Here in this hackathon, you will be predicting the cost of the food served by the restaurants across different cities in India. You will use your Data Science skills to investigate the factors that really affect the cost, and who knows maybe you will even gain some very interesting insights that might help you choose what to eat and from where.**"
   ]
  },
  {
   "cell_type": "markdown",
   "id": "df6be466",
   "metadata": {},
   "source": [
    "# Dataset Attributes\n",
    "\n",
    "**TITLE: The feature of the restaurant which can help identify what and for whom it is suitable for.**\n",
    "\n",
    "**RESTAURANT_ID: A unique ID for each restaurant.**\n",
    "\n",
    "**CUISINES: The variety of cuisines that the restaurant offers.**\n",
    "\n",
    "**TIME: The open hours of the restaurant.**\n",
    "\n",
    "**CITY: The city in which the restaurant is located.**\n",
    "\n",
    "**LOCALITY: The locality of the restaurant.**\n",
    "\n",
    "**RATING: The average rating of the restaurant by customers.**\n",
    "\n",
    "**VOTES: The overall votes received by the restaurant.**\n",
    "\n",
    "**COST: The average cost of a two-person meal.**\n"
   ]
  },
  {
   "cell_type": "markdown",
   "id": "b4bf298a",
   "metadata": {},
   "source": [
    "# To predict the cost of a two person meal with help of trained model"
   ]
  },
  {
   "cell_type": "code",
   "execution_count": 135,
   "id": "636debb2",
   "metadata": {},
   "outputs": [],
   "source": [
    "#importing necessary libraries\n",
    "\n",
    "import pandas as pd\n",
    "import numpy as np\n",
    "import matplotlib.pyplot as plt\n",
    "import seaborn as sns\n",
    "import warnings\n",
    "warnings.filterwarnings(\"ignore\")\n",
    "\n",
    "from scipy.stats import zscore\n",
    "\n",
    "from sklearn.preprocessing import StandardScaler\n",
    "from sklearn.model_selection import train_test_split\n",
    "\n",
    "from sklearn.linear_model import LinearRegression\n",
    "from sklearn.ensemble import RandomForestRegressor\n",
    "from sklearn.tree import DecisionTreeRegressor\n",
    "from sklearn.neighbors import KNeighborsRegressor as knn\n",
    "from sklearn.linear_model import Lasso,Ridge\n",
    "from sklearn.svm import SVR\n",
    "from sklearn.ensemble import ExtraTreesRegressor\n",
    "\n",
    "from statsmodels.stats.outliers_influence import variance_inflation_factor\n",
    "from sklearn.preprocessing import OrdinalEncoder\n",
    "from sklearn.model_selection import train_test_split\n",
    "from sklearn.metrics import mean_absolute_error,mean_squared_error,r2_score\n",
    "from sklearn.ensemble import GradientBoostingRegressor\n",
    "\n",
    "from sklearn.model_selection import cross_val_score\n",
    "from sklearn.model_selection import GridSearchCV\n",
    "\n",
    "\n",
    "import joblib"
   ]
  },
  {
   "cell_type": "markdown",
   "id": "9d66b468",
   "metadata": {},
   "source": [
    "# Train Dataset"
   ]
  },
  {
   "cell_type": "code",
   "execution_count": 136,
   "id": "55e39be4",
   "metadata": {},
   "outputs": [
    {
     "data": {
      "text/html": [
       "<div>\n",
       "<style scoped>\n",
       "    .dataframe tbody tr th:only-of-type {\n",
       "        vertical-align: middle;\n",
       "    }\n",
       "\n",
       "    .dataframe tbody tr th {\n",
       "        vertical-align: top;\n",
       "    }\n",
       "\n",
       "    .dataframe thead th {\n",
       "        text-align: right;\n",
       "    }\n",
       "</style>\n",
       "<table border=\"1\" class=\"dataframe\">\n",
       "  <thead>\n",
       "    <tr style=\"text-align: right;\">\n",
       "      <th></th>\n",
       "      <th>TITLE</th>\n",
       "      <th>RESTAURANT_ID</th>\n",
       "      <th>CUISINES</th>\n",
       "      <th>TIME</th>\n",
       "      <th>CITY</th>\n",
       "      <th>LOCALITY</th>\n",
       "      <th>RATING</th>\n",
       "      <th>VOTES</th>\n",
       "      <th>COST</th>\n",
       "    </tr>\n",
       "  </thead>\n",
       "  <tbody>\n",
       "    <tr>\n",
       "      <th>0</th>\n",
       "      <td>CASUAL DINING</td>\n",
       "      <td>9438</td>\n",
       "      <td>Malwani, Goan, North Indian</td>\n",
       "      <td>11am – 4pm, 7:30pm – 11:30pm (Mon-Sun)</td>\n",
       "      <td>Thane</td>\n",
       "      <td>Dombivali East</td>\n",
       "      <td>3.6</td>\n",
       "      <td>49 votes</td>\n",
       "      <td>1200</td>\n",
       "    </tr>\n",
       "    <tr>\n",
       "      <th>1</th>\n",
       "      <td>CASUAL DINING,BAR</td>\n",
       "      <td>13198</td>\n",
       "      <td>Asian, Modern Indian, Japanese</td>\n",
       "      <td>6pm – 11pm (Mon-Sun)</td>\n",
       "      <td>Chennai</td>\n",
       "      <td>Ramapuram</td>\n",
       "      <td>4.2</td>\n",
       "      <td>30 votes</td>\n",
       "      <td>1500</td>\n",
       "    </tr>\n",
       "    <tr>\n",
       "      <th>2</th>\n",
       "      <td>CASUAL DINING</td>\n",
       "      <td>10915</td>\n",
       "      <td>North Indian, Chinese, Biryani, Hyderabadi</td>\n",
       "      <td>11am – 3:30pm, 7pm – 11pm (Mon-Sun)</td>\n",
       "      <td>Chennai</td>\n",
       "      <td>Saligramam</td>\n",
       "      <td>3.8</td>\n",
       "      <td>221 votes</td>\n",
       "      <td>800</td>\n",
       "    </tr>\n",
       "    <tr>\n",
       "      <th>3</th>\n",
       "      <td>QUICK BITES</td>\n",
       "      <td>6346</td>\n",
       "      <td>Tibetan, Chinese</td>\n",
       "      <td>11:30am – 1am (Mon-Sun)</td>\n",
       "      <td>Mumbai</td>\n",
       "      <td>Bandra West</td>\n",
       "      <td>4.1</td>\n",
       "      <td>24 votes</td>\n",
       "      <td>800</td>\n",
       "    </tr>\n",
       "    <tr>\n",
       "      <th>4</th>\n",
       "      <td>DESSERT PARLOR</td>\n",
       "      <td>15387</td>\n",
       "      <td>Desserts</td>\n",
       "      <td>11am – 1am (Mon-Sun)</td>\n",
       "      <td>Mumbai</td>\n",
       "      <td>Lower Parel</td>\n",
       "      <td>3.8</td>\n",
       "      <td>165 votes</td>\n",
       "      <td>300</td>\n",
       "    </tr>\n",
       "    <tr>\n",
       "      <th>5</th>\n",
       "      <td>CASUAL DINING</td>\n",
       "      <td>5618</td>\n",
       "      <td>North Indian, Chinese, Seafood, Biryani</td>\n",
       "      <td>12noon – 12:30AM (Mon-Sun)</td>\n",
       "      <td>Mumbai</td>\n",
       "      <td>Vile Parle West</td>\n",
       "      <td>4.0</td>\n",
       "      <td>550 votes</td>\n",
       "      <td>800</td>\n",
       "    </tr>\n",
       "    <tr>\n",
       "      <th>6</th>\n",
       "      <td>CAFÉ</td>\n",
       "      <td>4383</td>\n",
       "      <td>Cafe, Chinese, Pizza, North Indian, Burger</td>\n",
       "      <td>12noon – 11:30pm (Mon, Tue, Thu, Fri, Sat, Sun...</td>\n",
       "      <td>Bangalore</td>\n",
       "      <td>Koramangala 6th Block</td>\n",
       "      <td>4.1</td>\n",
       "      <td>509 votes</td>\n",
       "      <td>600</td>\n",
       "    </tr>\n",
       "    <tr>\n",
       "      <th>7</th>\n",
       "      <td>MICROBREWERY</td>\n",
       "      <td>1249</td>\n",
       "      <td>Bar Food</td>\n",
       "      <td>1pm – 1am (Mon-Sun)</td>\n",
       "      <td>Gurgaon</td>\n",
       "      <td>Sector 29</td>\n",
       "      <td>4.3</td>\n",
       "      <td>1612 votes</td>\n",
       "      <td>1600</td>\n",
       "    </tr>\n",
       "    <tr>\n",
       "      <th>8</th>\n",
       "      <td>QUICK BITES</td>\n",
       "      <td>7062</td>\n",
       "      <td>South Indian, North Indian</td>\n",
       "      <td>7am – 10:30pm (Mon-Sun)</td>\n",
       "      <td>Bangalore</td>\n",
       "      <td>Bannerghatta Road</td>\n",
       "      <td>3.9</td>\n",
       "      <td>101 votes</td>\n",
       "      <td>300</td>\n",
       "    </tr>\n",
       "    <tr>\n",
       "      <th>9</th>\n",
       "      <td>QUICK BITES</td>\n",
       "      <td>10109</td>\n",
       "      <td>North Indian</td>\n",
       "      <td>11am – 2pm, 4pm – 10:30pm (Mon-Sun)</td>\n",
       "      <td>Hyderabad</td>\n",
       "      <td>Dilsukhnagar</td>\n",
       "      <td>3.3</td>\n",
       "      <td>219 votes</td>\n",
       "      <td>200</td>\n",
       "    </tr>\n",
       "  </tbody>\n",
       "</table>\n",
       "</div>"
      ],
      "text/plain": [
       "               TITLE  RESTAURANT_ID  \\\n",
       "0      CASUAL DINING           9438   \n",
       "1  CASUAL DINING,BAR          13198   \n",
       "2      CASUAL DINING          10915   \n",
       "3        QUICK BITES           6346   \n",
       "4     DESSERT PARLOR          15387   \n",
       "5      CASUAL DINING           5618   \n",
       "6               CAFÉ           4383   \n",
       "7       MICROBREWERY           1249   \n",
       "8        QUICK BITES           7062   \n",
       "9        QUICK BITES          10109   \n",
       "\n",
       "                                     CUISINES  \\\n",
       "0                 Malwani, Goan, North Indian   \n",
       "1              Asian, Modern Indian, Japanese   \n",
       "2  North Indian, Chinese, Biryani, Hyderabadi   \n",
       "3                            Tibetan, Chinese   \n",
       "4                                    Desserts   \n",
       "5     North Indian, Chinese, Seafood, Biryani   \n",
       "6  Cafe, Chinese, Pizza, North Indian, Burger   \n",
       "7                                    Bar Food   \n",
       "8                  South Indian, North Indian   \n",
       "9                                North Indian   \n",
       "\n",
       "                                                TIME       CITY  \\\n",
       "0             11am – 4pm, 7:30pm – 11:30pm (Mon-Sun)      Thane   \n",
       "1                               6pm – 11pm (Mon-Sun)    Chennai   \n",
       "2                11am – 3:30pm, 7pm – 11pm (Mon-Sun)    Chennai   \n",
       "3                            11:30am – 1am (Mon-Sun)     Mumbai   \n",
       "4                               11am – 1am (Mon-Sun)     Mumbai   \n",
       "5                         12noon – 12:30AM (Mon-Sun)     Mumbai   \n",
       "6  12noon – 11:30pm (Mon, Tue, Thu, Fri, Sat, Sun...  Bangalore   \n",
       "7                                1pm – 1am (Mon-Sun)    Gurgaon   \n",
       "8                            7am – 10:30pm (Mon-Sun)  Bangalore   \n",
       "9                11am – 2pm, 4pm – 10:30pm (Mon-Sun)  Hyderabad   \n",
       "\n",
       "                LOCALITY RATING       VOTES  COST  \n",
       "0         Dombivali East    3.6    49 votes  1200  \n",
       "1              Ramapuram    4.2    30 votes  1500  \n",
       "2             Saligramam    3.8   221 votes   800  \n",
       "3            Bandra West    4.1    24 votes   800  \n",
       "4            Lower Parel    3.8   165 votes   300  \n",
       "5        Vile Parle West    4.0   550 votes   800  \n",
       "6  Koramangala 6th Block    4.1   509 votes   600  \n",
       "7              Sector 29    4.3  1612 votes  1600  \n",
       "8      Bannerghatta Road    3.9   101 votes   300  \n",
       "9           Dilsukhnagar    3.3   219 votes   200  "
      ]
     },
     "execution_count": 136,
     "metadata": {},
     "output_type": "execute_result"
    }
   ],
   "source": [
    "df_train=pd.read_excel(r\"C:\\Users\\surie\\Downloads\\Data_Train.xlsx\")\n",
    "\n",
    "df_train.head(10)   #Displaying the first 10 rows"
   ]
  },
  {
   "cell_type": "markdown",
   "id": "d005bce4",
   "metadata": {},
   "source": [
    "# Test Dataset"
   ]
  },
  {
   "cell_type": "code",
   "execution_count": 137,
   "id": "32dd1c29",
   "metadata": {},
   "outputs": [
    {
     "data": {
      "text/html": [
       "<div>\n",
       "<style scoped>\n",
       "    .dataframe tbody tr th:only-of-type {\n",
       "        vertical-align: middle;\n",
       "    }\n",
       "\n",
       "    .dataframe tbody tr th {\n",
       "        vertical-align: top;\n",
       "    }\n",
       "\n",
       "    .dataframe thead th {\n",
       "        text-align: right;\n",
       "    }\n",
       "</style>\n",
       "<table border=\"1\" class=\"dataframe\">\n",
       "  <thead>\n",
       "    <tr style=\"text-align: right;\">\n",
       "      <th></th>\n",
       "      <th>TITLE</th>\n",
       "      <th>RESTAURANT_ID</th>\n",
       "      <th>CUISINES</th>\n",
       "      <th>TIME</th>\n",
       "      <th>CITY</th>\n",
       "      <th>LOCALITY</th>\n",
       "      <th>RATING</th>\n",
       "      <th>VOTES</th>\n",
       "    </tr>\n",
       "  </thead>\n",
       "  <tbody>\n",
       "    <tr>\n",
       "      <th>0</th>\n",
       "      <td>CASUAL DINING</td>\n",
       "      <td>4085</td>\n",
       "      <td>North Indian, Chinese, Mughlai, Kebab</td>\n",
       "      <td>12noon – 12midnight (Mon-Sun)</td>\n",
       "      <td>Noida</td>\n",
       "      <td>Sector 18</td>\n",
       "      <td>4.3</td>\n",
       "      <td>564 votes</td>\n",
       "    </tr>\n",
       "    <tr>\n",
       "      <th>1</th>\n",
       "      <td>QUICK BITES</td>\n",
       "      <td>12680</td>\n",
       "      <td>South Indian, Fast Food, Pizza, North Indian</td>\n",
       "      <td>7am – 12:30AM (Mon-Sun)</td>\n",
       "      <td>Mumbai</td>\n",
       "      <td>Grant Road</td>\n",
       "      <td>4.2</td>\n",
       "      <td>61 votes</td>\n",
       "    </tr>\n",
       "    <tr>\n",
       "      <th>2</th>\n",
       "      <td>CASUAL DINING</td>\n",
       "      <td>1411</td>\n",
       "      <td>North Indian, Seafood, Biryani, Chinese</td>\n",
       "      <td>11am – 11:30pm (Mon-Sun)</td>\n",
       "      <td>Mumbai</td>\n",
       "      <td>Marine Lines</td>\n",
       "      <td>3.8</td>\n",
       "      <td>350 votes</td>\n",
       "    </tr>\n",
       "    <tr>\n",
       "      <th>3</th>\n",
       "      <td>NaN</td>\n",
       "      <td>204</td>\n",
       "      <td>Biryani</td>\n",
       "      <td>9am – 10pm (Mon, Wed, Thu, Fri, Sat, Sun), 10:...</td>\n",
       "      <td>Faridabad</td>\n",
       "      <td>NIT</td>\n",
       "      <td>3.8</td>\n",
       "      <td>1445 votes</td>\n",
       "    </tr>\n",
       "    <tr>\n",
       "      <th>4</th>\n",
       "      <td>QUICK BITES</td>\n",
       "      <td>13453</td>\n",
       "      <td>South Indian, Kerala</td>\n",
       "      <td>11am – 10pm (Mon-Sun)</td>\n",
       "      <td>Kochi</td>\n",
       "      <td>Kaloor</td>\n",
       "      <td>3.6</td>\n",
       "      <td>23 votes</td>\n",
       "    </tr>\n",
       "    <tr>\n",
       "      <th>5</th>\n",
       "      <td>FOOD TRUCK,DESSERT PARLOR</td>\n",
       "      <td>4518</td>\n",
       "      <td>Ice Cream, Desserts</td>\n",
       "      <td>2pm – 12midnight (Mon),1pm – 12:30AM (Tue-Sun)</td>\n",
       "      <td>Hyderabad</td>\n",
       "      <td>Banjara Hills</td>\n",
       "      <td>3.7</td>\n",
       "      <td>36 votes</td>\n",
       "    </tr>\n",
       "    <tr>\n",
       "      <th>6</th>\n",
       "      <td>CASUAL DINING</td>\n",
       "      <td>1643</td>\n",
       "      <td>North Indian, Street Food, Fast Food</td>\n",
       "      <td>12noon – 3:30pm, 7pm – 11:30pm (Mon-Sun)</td>\n",
       "      <td>Navi Mumbai</td>\n",
       "      <td>Kharghar</td>\n",
       "      <td>NEW</td>\n",
       "      <td>NaN</td>\n",
       "    </tr>\n",
       "    <tr>\n",
       "      <th>7</th>\n",
       "      <td>CASUAL DINING</td>\n",
       "      <td>5109</td>\n",
       "      <td>Biryani, Chinese</td>\n",
       "      <td>12noon – 3:30pm, 7pm – 10pm (Mon-Sun)</td>\n",
       "      <td>Chennai</td>\n",
       "      <td>Navalur</td>\n",
       "      <td>4.0</td>\n",
       "      <td>703 votes</td>\n",
       "    </tr>\n",
       "    <tr>\n",
       "      <th>8</th>\n",
       "      <td>NaN</td>\n",
       "      <td>5606</td>\n",
       "      <td>North Indian, Chinese, Pizza, Fast Food</td>\n",
       "      <td>11am – 11pm (Mon-Sun)</td>\n",
       "      <td>New Delhi</td>\n",
       "      <td>IP Extension</td>\n",
       "      <td>3.4</td>\n",
       "      <td>475 votes</td>\n",
       "    </tr>\n",
       "    <tr>\n",
       "      <th>9</th>\n",
       "      <td>CASUAL DINING</td>\n",
       "      <td>14319</td>\n",
       "      <td>North Indian</td>\n",
       "      <td>Not Available</td>\n",
       "      <td>Kochi</td>\n",
       "      <td>Palarivattom</td>\n",
       "      <td>3.2</td>\n",
       "      <td>6 votes</td>\n",
       "    </tr>\n",
       "  </tbody>\n",
       "</table>\n",
       "</div>"
      ],
      "text/plain": [
       "                       TITLE  RESTAURANT_ID  \\\n",
       "0              CASUAL DINING           4085   \n",
       "1                QUICK BITES          12680   \n",
       "2              CASUAL DINING           1411   \n",
       "3                        NaN            204   \n",
       "4                QUICK BITES          13453   \n",
       "5  FOOD TRUCK,DESSERT PARLOR           4518   \n",
       "6              CASUAL DINING           1643   \n",
       "7              CASUAL DINING           5109   \n",
       "8                        NaN           5606   \n",
       "9              CASUAL DINING          14319   \n",
       "\n",
       "                                       CUISINES  \\\n",
       "0         North Indian, Chinese, Mughlai, Kebab   \n",
       "1  South Indian, Fast Food, Pizza, North Indian   \n",
       "2       North Indian, Seafood, Biryani, Chinese   \n",
       "3                                       Biryani   \n",
       "4                          South Indian, Kerala   \n",
       "5                           Ice Cream, Desserts   \n",
       "6          North Indian, Street Food, Fast Food   \n",
       "7                              Biryani, Chinese   \n",
       "8       North Indian, Chinese, Pizza, Fast Food   \n",
       "9                                  North Indian   \n",
       "\n",
       "                                                TIME         CITY  \\\n",
       "0                      12noon – 12midnight (Mon-Sun)        Noida   \n",
       "1                            7am – 12:30AM (Mon-Sun)       Mumbai   \n",
       "2                           11am – 11:30pm (Mon-Sun)       Mumbai   \n",
       "3  9am – 10pm (Mon, Wed, Thu, Fri, Sat, Sun), 10:...    Faridabad   \n",
       "4                              11am – 10pm (Mon-Sun)        Kochi   \n",
       "5     2pm – 12midnight (Mon),1pm – 12:30AM (Tue-Sun)    Hyderabad   \n",
       "6           12noon – 3:30pm, 7pm – 11:30pm (Mon-Sun)  Navi Mumbai   \n",
       "7              12noon – 3:30pm, 7pm – 10pm (Mon-Sun)      Chennai   \n",
       "8                              11am – 11pm (Mon-Sun)    New Delhi   \n",
       "9                                      Not Available        Kochi   \n",
       "\n",
       "        LOCALITY RATING       VOTES  \n",
       "0      Sector 18    4.3   564 votes  \n",
       "1     Grant Road    4.2    61 votes  \n",
       "2   Marine Lines    3.8   350 votes  \n",
       "3            NIT    3.8  1445 votes  \n",
       "4         Kaloor    3.6    23 votes  \n",
       "5  Banjara Hills    3.7    36 votes  \n",
       "6       Kharghar    NEW         NaN  \n",
       "7        Navalur    4.0   703 votes  \n",
       "8   IP Extension    3.4   475 votes  \n",
       "9   Palarivattom    3.2     6 votes  "
      ]
     },
     "execution_count": 137,
     "metadata": {},
     "output_type": "execute_result"
    }
   ],
   "source": [
    "df_test=pd.read_excel(r\"C:\\Users\\surie\\Downloads\\Data_Test.xlsx\")\n",
    "df_test.head(10) #Displaying the first 10 rows"
   ]
  },
  {
   "cell_type": "markdown",
   "id": "c15a6bde",
   "metadata": {},
   "source": [
    "**==>This dataset(Train and Test) is details of Restaurant Food Cost**\n",
    "\n",
    "**==>This datasets(Train and Test) have both numerical(continous) and categorical data.**\n",
    "\n",
    "**==>In Train Dataset,\"COST\" is the target variable,it contains numerical variable therefore it is regression problem.**\n",
    "\n",
    "**==>We have To predict the cost of a two person meal with help of trained model.**"
   ]
  },
  {
   "cell_type": "markdown",
   "id": "7af5cd69",
   "metadata": {},
   "source": [
    "# Exploratory Data Analysis (EDA)"
   ]
  },
  {
   "cell_type": "code",
   "execution_count": 138,
   "id": "2d77a3f4",
   "metadata": {},
   "outputs": [
    {
     "name": "stdout",
     "output_type": "stream",
     "text": [
      "The rows and columns in the training dataset: (12690, 9)\n",
      "\n",
      "The column headers in the training dataset: Index(['TITLE', 'RESTAURANT_ID', 'CUISINES', 'TIME', 'CITY', 'LOCALITY',\n",
      "       'RATING', 'VOTES', 'COST'],\n",
      "      dtype='object')\n",
      "\n",
      "\n",
      "The rows and columns in the test dataset: (4231, 8)\n",
      "\n",
      "The column headers in the test dataset: Index(['TITLE', 'RESTAURANT_ID', 'CUISINES', 'TIME', 'CITY', 'LOCALITY',\n",
      "       'RATING', 'VOTES'],\n",
      "      dtype='object')\n"
     ]
    }
   ],
   "source": [
    "#checking the dimension and Columns of the train and test dataset\n",
    "\n",
    "print(f\"The rows and columns in the training dataset: {df_train.shape}\")\n",
    "print(f\"\\nThe column headers in the training dataset: {df_train.columns}\")\n",
    "\n",
    "print(f\"\\n\\nThe rows and columns in the test dataset: {df_test.shape}\")\n",
    "print(f\"\\nThe column headers in the test dataset: {df_test.columns}\")"
   ]
  },
  {
   "cell_type": "markdown",
   "id": "698a1a1a",
   "metadata": {},
   "source": [
    "**==>Train Dataset contains 12690 rows and 9 Columns(from this cost column is our target variable ,then others are independent variables)**\n",
    "\n",
    "**==>Test Dataset contains 4231 rows and 8 Columns(It doesn't have target variable ,then others are independent variables)**"
   ]
  },
  {
   "cell_type": "markdown",
   "id": "31934656",
   "metadata": {},
   "source": [
    "# Train Dataset Info"
   ]
  },
  {
   "cell_type": "code",
   "execution_count": 139,
   "id": "bb1af0a7",
   "metadata": {},
   "outputs": [
    {
     "name": "stdout",
     "output_type": "stream",
     "text": [
      "<class 'pandas.core.frame.DataFrame'>\n",
      "RangeIndex: 12690 entries, 0 to 12689\n",
      "Data columns (total 9 columns):\n",
      " #   Column         Non-Null Count  Dtype \n",
      "---  ------         --------------  ----- \n",
      " 0   TITLE          11687 non-null  object\n",
      " 1   RESTAURANT_ID  12690 non-null  int64 \n",
      " 2   CUISINES       12690 non-null  object\n",
      " 3   TIME           12690 non-null  object\n",
      " 4   CITY           12578 non-null  object\n",
      " 5   LOCALITY       12592 non-null  object\n",
      " 6   RATING         12688 non-null  object\n",
      " 7   VOTES          11486 non-null  object\n",
      " 8   COST           12690 non-null  int64 \n",
      "dtypes: int64(2), object(7)\n",
      "memory usage: 892.4+ KB\n"
     ]
    }
   ],
   "source": [
    "df_train.info()"
   ]
  },
  {
   "cell_type": "markdown",
   "id": "5681cda4",
   "metadata": {},
   "source": [
    "**We can see there is null value presents in train dataset,we will deal this in further analysis and also we can see the datatypes 7 object value datatype and 2 int64 value datatype**"
   ]
  },
  {
   "cell_type": "markdown",
   "id": "3d95eca7",
   "metadata": {},
   "source": [
    "# Test Dataset Info"
   ]
  },
  {
   "cell_type": "code",
   "execution_count": 140,
   "id": "a91582d7",
   "metadata": {},
   "outputs": [
    {
     "name": "stdout",
     "output_type": "stream",
     "text": [
      "<class 'pandas.core.frame.DataFrame'>\n",
      "RangeIndex: 4231 entries, 0 to 4230\n",
      "Data columns (total 8 columns):\n",
      " #   Column         Non-Null Count  Dtype \n",
      "---  ------         --------------  ----- \n",
      " 0   TITLE          3947 non-null   object\n",
      " 1   RESTAURANT_ID  4231 non-null   int64 \n",
      " 2   CUISINES       4231 non-null   object\n",
      " 3   TIME           4231 non-null   object\n",
      " 4   CITY           4196 non-null   object\n",
      " 5   LOCALITY       4201 non-null   object\n",
      " 6   RATING         4229 non-null   object\n",
      " 7   VOTES          3829 non-null   object\n",
      "dtypes: int64(1), object(7)\n",
      "memory usage: 264.6+ KB\n"
     ]
    }
   ],
   "source": [
    "df_test.info()"
   ]
  },
  {
   "cell_type": "markdown",
   "id": "f98ece1b",
   "metadata": {},
   "source": [
    "**We can see there is null value presents in test dataset,we will deal this in further analysis and also we can see the datatypes 7 object value datatype and 1 int64 value datatype**"
   ]
  },
  {
   "cell_type": "markdown",
   "id": "071e7a27",
   "metadata": {},
   "source": [
    "# Missing Values"
   ]
  },
  {
   "cell_type": "code",
   "execution_count": 141,
   "id": "8f9288f9",
   "metadata": {},
   "outputs": [
    {
     "data": {
      "text/html": [
       "<div>\n",
       "<style scoped>\n",
       "    .dataframe tbody tr th:only-of-type {\n",
       "        vertical-align: middle;\n",
       "    }\n",
       "\n",
       "    .dataframe tbody tr th {\n",
       "        vertical-align: top;\n",
       "    }\n",
       "\n",
       "    .dataframe thead th {\n",
       "        text-align: right;\n",
       "    }\n",
       "</style>\n",
       "<table border=\"1\" class=\"dataframe\">\n",
       "  <thead>\n",
       "    <tr style=\"text-align: right;\">\n",
       "      <th></th>\n",
       "      <th>Missing in Train Dataset</th>\n",
       "      <th>Missing in Test Dataset</th>\n",
       "    </tr>\n",
       "  </thead>\n",
       "  <tbody>\n",
       "    <tr>\n",
       "      <th>TITLE</th>\n",
       "      <td>1003</td>\n",
       "      <td>284.0</td>\n",
       "    </tr>\n",
       "    <tr>\n",
       "      <th>RESTAURANT_ID</th>\n",
       "      <td>0</td>\n",
       "      <td>0.0</td>\n",
       "    </tr>\n",
       "    <tr>\n",
       "      <th>CUISINES</th>\n",
       "      <td>0</td>\n",
       "      <td>0.0</td>\n",
       "    </tr>\n",
       "    <tr>\n",
       "      <th>TIME</th>\n",
       "      <td>0</td>\n",
       "      <td>0.0</td>\n",
       "    </tr>\n",
       "    <tr>\n",
       "      <th>CITY</th>\n",
       "      <td>112</td>\n",
       "      <td>35.0</td>\n",
       "    </tr>\n",
       "    <tr>\n",
       "      <th>LOCALITY</th>\n",
       "      <td>98</td>\n",
       "      <td>30.0</td>\n",
       "    </tr>\n",
       "    <tr>\n",
       "      <th>RATING</th>\n",
       "      <td>2</td>\n",
       "      <td>2.0</td>\n",
       "    </tr>\n",
       "    <tr>\n",
       "      <th>VOTES</th>\n",
       "      <td>1204</td>\n",
       "      <td>402.0</td>\n",
       "    </tr>\n",
       "    <tr>\n",
       "      <th>COST</th>\n",
       "      <td>0</td>\n",
       "      <td>NaN</td>\n",
       "    </tr>\n",
       "  </tbody>\n",
       "</table>\n",
       "</div>"
      ],
      "text/plain": [
       "               Missing in Train Dataset  Missing in Test Dataset\n",
       "TITLE                              1003                    284.0\n",
       "RESTAURANT_ID                         0                      0.0\n",
       "CUISINES                              0                      0.0\n",
       "TIME                                  0                      0.0\n",
       "CITY                                112                     35.0\n",
       "LOCALITY                             98                     30.0\n",
       "RATING                                2                      2.0\n",
       "VOTES                              1204                    402.0\n",
       "COST                                  0                      NaN"
      ]
     },
     "execution_count": 141,
     "metadata": {},
     "output_type": "execute_result"
    }
   ],
   "source": [
    "#Checking the null values\n",
    "\n",
    "missing_val=df_train.isnull().sum().to_frame(\"Missing in Train Dataset\")\n",
    "\n",
    "missing_val[\"Missing in Test Dataset\"]=df_test.isnull().sum()\n",
    "\n",
    "missing_val"
   ]
  },
  {
   "cell_type": "code",
   "execution_count": 142,
   "id": "74385f4d",
   "metadata": {},
   "outputs": [
    {
     "data": {
      "image/png": "[encoded data removed]",
      "text/plain": [
       "<Figure size 800x200 with 2 Axes>"
      ]
     },
     "metadata": {},
     "output_type": "display_data"
    },
    {
     "data": {
      "image/png": "[encoded data removed]",
      "text/plain": [
       "<Figure size 800x200 with 2 Axes>"
      ]
     },
     "metadata": {},
     "output_type": "display_data"
    }
   ],
   "source": [
    "#Let's visualize missing values for train dataset using heatmap\n",
    "plt.figure(figsize=(8,2))\n",
    "sns.heatmap(df_train.isnull(),yticklabels=False,cmap='Set3')\n",
    "plt.title('Missing values in the Train dataset', fontsize=10);\n",
    "\n",
    "\n",
    "#Let's visualize missing values for test dataset using heatmap\n",
    "plt.figure(figsize=(8,2))\n",
    "sns.heatmap(df_test.isnull(),yticklabels=False,cmap='Oranges')\n",
    "plt.title('Missing values in the Test dataset', fontsize=10);\n"
   ]
  },
  {
   "cell_type": "markdown",
   "id": "199a2419",
   "metadata": {},
   "source": [
    "**We can see Both of the Datasets(train and test) have null values**"
   ]
  },
  {
   "cell_type": "markdown",
   "id": "43aee9f6",
   "metadata": {},
   "source": [
    "# Unique Values"
   ]
  },
  {
   "cell_type": "code",
   "execution_count": 143,
   "id": "9cec5ebf",
   "metadata": {},
   "outputs": [
    {
     "data": {
      "text/html": [
       "<div>\n",
       "<style scoped>\n",
       "    .dataframe tbody tr th:only-of-type {\n",
       "        vertical-align: middle;\n",
       "    }\n",
       "\n",
       "    .dataframe tbody tr th {\n",
       "        vertical-align: top;\n",
       "    }\n",
       "\n",
       "    .dataframe thead th {\n",
       "        text-align: right;\n",
       "    }\n",
       "</style>\n",
       "<table border=\"1\" class=\"dataframe\">\n",
       "  <thead>\n",
       "    <tr style=\"text-align: right;\">\n",
       "      <th></th>\n",
       "      <th>No.of Train unique Values</th>\n",
       "      <th>No.of Test unique Values</th>\n",
       "    </tr>\n",
       "  </thead>\n",
       "  <tbody>\n",
       "    <tr>\n",
       "      <th>TITLE</th>\n",
       "      <td>112</td>\n",
       "      <td>85.0</td>\n",
       "    </tr>\n",
       "    <tr>\n",
       "      <th>RESTAURANT_ID</th>\n",
       "      <td>11892</td>\n",
       "      <td>4127.0</td>\n",
       "    </tr>\n",
       "    <tr>\n",
       "      <th>CUISINES</th>\n",
       "      <td>4155</td>\n",
       "      <td>1727.0</td>\n",
       "    </tr>\n",
       "    <tr>\n",
       "      <th>TIME</th>\n",
       "      <td>2689</td>\n",
       "      <td>1183.0</td>\n",
       "    </tr>\n",
       "    <tr>\n",
       "      <th>CITY</th>\n",
       "      <td>359</td>\n",
       "      <td>151.0</td>\n",
       "    </tr>\n",
       "    <tr>\n",
       "      <th>LOCALITY</th>\n",
       "      <td>1416</td>\n",
       "      <td>834.0</td>\n",
       "    </tr>\n",
       "    <tr>\n",
       "      <th>RATING</th>\n",
       "      <td>32</td>\n",
       "      <td>31.0</td>\n",
       "    </tr>\n",
       "    <tr>\n",
       "      <th>VOTES</th>\n",
       "      <td>1847</td>\n",
       "      <td>1136.0</td>\n",
       "    </tr>\n",
       "    <tr>\n",
       "      <th>COST</th>\n",
       "      <td>86</td>\n",
       "      <td>NaN</td>\n",
       "    </tr>\n",
       "  </tbody>\n",
       "</table>\n",
       "</div>"
      ],
      "text/plain": [
       "               No.of Train unique Values  No.of Test unique Values\n",
       "TITLE                                112                      85.0\n",
       "RESTAURANT_ID                      11892                    4127.0\n",
       "CUISINES                            4155                    1727.0\n",
       "TIME                                2689                    1183.0\n",
       "CITY                                 359                     151.0\n",
       "LOCALITY                            1416                     834.0\n",
       "RATING                                32                      31.0\n",
       "VOTES                               1847                    1136.0\n",
       "COST                                  86                       NaN"
      ]
     },
     "execution_count": 143,
     "metadata": {},
     "output_type": "execute_result"
    }
   ],
   "source": [
    "unique_values=df_train.nunique().to_frame(\"No.of Train unique Values\")\n",
    "unique_values[\"No.of Test unique Values\"]=df_test.nunique()\n",
    "\n",
    "unique_values"
   ]
  },
  {
   "cell_type": "markdown",
   "id": "9a6cafa8",
   "metadata": {},
   "source": [
    "**From above analysis(unique values)**"
   ]
  },
  {
   "cell_type": "markdown",
   "id": "0d84535c",
   "metadata": {},
   "source": [
    "**1)Restaurant_Id has same unique values as the dataset rows,this column only help to identify the record of the restaurant but does'nt influence the target variable,so we can drop it**\n",
    "\n",
    "**2)Other features(expect target variable) are in object type(categorical)**"
   ]
  },
  {
   "cell_type": "markdown",
   "id": "3dac8aa9",
   "metadata": {},
   "source": [
    "# Dropping The Column"
   ]
  },
  {
   "cell_type": "markdown",
   "id": "92a684c1",
   "metadata": {},
   "source": [
    "**Reason for dropping the column mentioned previously**"
   ]
  },
  {
   "cell_type": "markdown",
   "id": "0851c9ea",
   "metadata": {},
   "source": [
    "## Train Dataset"
   ]
  },
  {
   "cell_type": "code",
   "execution_count": 144,
   "id": "25fe69bf",
   "metadata": {},
   "outputs": [],
   "source": [
    "df_train.drop(['RESTAURANT_ID'], axis=1, inplace=True)"
   ]
  },
  {
   "cell_type": "code",
   "execution_count": 145,
   "id": "e2b829d9",
   "metadata": {},
   "outputs": [
    {
     "data": {
      "text/html": [
       "<div>\n",
       "<style scoped>\n",
       "    .dataframe tbody tr th:only-of-type {\n",
       "        vertical-align: middle;\n",
       "    }\n",
       "\n",
       "    .dataframe tbody tr th {\n",
       "        vertical-align: top;\n",
       "    }\n",
       "\n",
       "    .dataframe thead th {\n",
       "        text-align: right;\n",
       "    }\n",
       "</style>\n",
       "<table border=\"1\" class=\"dataframe\">\n",
       "  <thead>\n",
       "    <tr style=\"text-align: right;\">\n",
       "      <th></th>\n",
       "      <th>TITLE</th>\n",
       "      <th>CUISINES</th>\n",
       "      <th>TIME</th>\n",
       "      <th>CITY</th>\n",
       "      <th>LOCALITY</th>\n",
       "      <th>RATING</th>\n",
       "      <th>VOTES</th>\n",
       "      <th>COST</th>\n",
       "    </tr>\n",
       "  </thead>\n",
       "  <tbody>\n",
       "    <tr>\n",
       "      <th>0</th>\n",
       "      <td>CASUAL DINING</td>\n",
       "      <td>Malwani, Goan, North Indian</td>\n",
       "      <td>11am – 4pm, 7:30pm – 11:30pm (Mon-Sun)</td>\n",
       "      <td>Thane</td>\n",
       "      <td>Dombivali East</td>\n",
       "      <td>3.6</td>\n",
       "      <td>49 votes</td>\n",
       "      <td>1200</td>\n",
       "    </tr>\n",
       "    <tr>\n",
       "      <th>1</th>\n",
       "      <td>CASUAL DINING,BAR</td>\n",
       "      <td>Asian, Modern Indian, Japanese</td>\n",
       "      <td>6pm – 11pm (Mon-Sun)</td>\n",
       "      <td>Chennai</td>\n",
       "      <td>Ramapuram</td>\n",
       "      <td>4.2</td>\n",
       "      <td>30 votes</td>\n",
       "      <td>1500</td>\n",
       "    </tr>\n",
       "    <tr>\n",
       "      <th>2</th>\n",
       "      <td>CASUAL DINING</td>\n",
       "      <td>North Indian, Chinese, Biryani, Hyderabadi</td>\n",
       "      <td>11am – 3:30pm, 7pm – 11pm (Mon-Sun)</td>\n",
       "      <td>Chennai</td>\n",
       "      <td>Saligramam</td>\n",
       "      <td>3.8</td>\n",
       "      <td>221 votes</td>\n",
       "      <td>800</td>\n",
       "    </tr>\n",
       "    <tr>\n",
       "      <th>3</th>\n",
       "      <td>QUICK BITES</td>\n",
       "      <td>Tibetan, Chinese</td>\n",
       "      <td>11:30am – 1am (Mon-Sun)</td>\n",
       "      <td>Mumbai</td>\n",
       "      <td>Bandra West</td>\n",
       "      <td>4.1</td>\n",
       "      <td>24 votes</td>\n",
       "      <td>800</td>\n",
       "    </tr>\n",
       "    <tr>\n",
       "      <th>4</th>\n",
       "      <td>DESSERT PARLOR</td>\n",
       "      <td>Desserts</td>\n",
       "      <td>11am – 1am (Mon-Sun)</td>\n",
       "      <td>Mumbai</td>\n",
       "      <td>Lower Parel</td>\n",
       "      <td>3.8</td>\n",
       "      <td>165 votes</td>\n",
       "      <td>300</td>\n",
       "    </tr>\n",
       "  </tbody>\n",
       "</table>\n",
       "</div>"
      ],
      "text/plain": [
       "               TITLE                                    CUISINES  \\\n",
       "0      CASUAL DINING                 Malwani, Goan, North Indian   \n",
       "1  CASUAL DINING,BAR              Asian, Modern Indian, Japanese   \n",
       "2      CASUAL DINING  North Indian, Chinese, Biryani, Hyderabadi   \n",
       "3        QUICK BITES                            Tibetan, Chinese   \n",
       "4     DESSERT PARLOR                                    Desserts   \n",
       "\n",
       "                                     TIME     CITY        LOCALITY RATING  \\\n",
       "0  11am – 4pm, 7:30pm – 11:30pm (Mon-Sun)    Thane  Dombivali East    3.6   \n",
       "1                    6pm – 11pm (Mon-Sun)  Chennai       Ramapuram    4.2   \n",
       "2     11am – 3:30pm, 7pm – 11pm (Mon-Sun)  Chennai      Saligramam    3.8   \n",
       "3                 11:30am – 1am (Mon-Sun)   Mumbai     Bandra West    4.1   \n",
       "4                    11am – 1am (Mon-Sun)   Mumbai     Lower Parel    3.8   \n",
       "\n",
       "       VOTES  COST  \n",
       "0   49 votes  1200  \n",
       "1   30 votes  1500  \n",
       "2  221 votes   800  \n",
       "3   24 votes   800  \n",
       "4  165 votes   300  "
      ]
     },
     "execution_count": 145,
     "metadata": {},
     "output_type": "execute_result"
    }
   ],
   "source": [
    "df_train.head()"
   ]
  },
  {
   "cell_type": "markdown",
   "id": "9c2795bb",
   "metadata": {},
   "source": [
    "## Test Dataset"
   ]
  },
  {
   "cell_type": "code",
   "execution_count": 146,
   "id": "547668c5",
   "metadata": {},
   "outputs": [],
   "source": [
    "df_test.drop(['RESTAURANT_ID'], axis=1, inplace=True)"
   ]
  },
  {
   "cell_type": "code",
   "execution_count": 147,
   "id": "72b6e4ac",
   "metadata": {},
   "outputs": [
    {
     "data": {
      "text/html": [
       "<div>\n",
       "<style scoped>\n",
       "    .dataframe tbody tr th:only-of-type {\n",
       "        vertical-align: middle;\n",
       "    }\n",
       "\n",
       "    .dataframe tbody tr th {\n",
       "        vertical-align: top;\n",
       "    }\n",
       "\n",
       "    .dataframe thead th {\n",
       "        text-align: right;\n",
       "    }\n",
       "</style>\n",
       "<table border=\"1\" class=\"dataframe\">\n",
       "  <thead>\n",
       "    <tr style=\"text-align: right;\">\n",
       "      <th></th>\n",
       "      <th>TITLE</th>\n",
       "      <th>CUISINES</th>\n",
       "      <th>TIME</th>\n",
       "      <th>CITY</th>\n",
       "      <th>LOCALITY</th>\n",
       "      <th>RATING</th>\n",
       "      <th>VOTES</th>\n",
       "    </tr>\n",
       "  </thead>\n",
       "  <tbody>\n",
       "    <tr>\n",
       "      <th>0</th>\n",
       "      <td>CASUAL DINING</td>\n",
       "      <td>North Indian, Chinese, Mughlai, Kebab</td>\n",
       "      <td>12noon – 12midnight (Mon-Sun)</td>\n",
       "      <td>Noida</td>\n",
       "      <td>Sector 18</td>\n",
       "      <td>4.3</td>\n",
       "      <td>564 votes</td>\n",
       "    </tr>\n",
       "    <tr>\n",
       "      <th>1</th>\n",
       "      <td>QUICK BITES</td>\n",
       "      <td>South Indian, Fast Food, Pizza, North Indian</td>\n",
       "      <td>7am – 12:30AM (Mon-Sun)</td>\n",
       "      <td>Mumbai</td>\n",
       "      <td>Grant Road</td>\n",
       "      <td>4.2</td>\n",
       "      <td>61 votes</td>\n",
       "    </tr>\n",
       "    <tr>\n",
       "      <th>2</th>\n",
       "      <td>CASUAL DINING</td>\n",
       "      <td>North Indian, Seafood, Biryani, Chinese</td>\n",
       "      <td>11am – 11:30pm (Mon-Sun)</td>\n",
       "      <td>Mumbai</td>\n",
       "      <td>Marine Lines</td>\n",
       "      <td>3.8</td>\n",
       "      <td>350 votes</td>\n",
       "    </tr>\n",
       "    <tr>\n",
       "      <th>3</th>\n",
       "      <td>NaN</td>\n",
       "      <td>Biryani</td>\n",
       "      <td>9am – 10pm (Mon, Wed, Thu, Fri, Sat, Sun), 10:...</td>\n",
       "      <td>Faridabad</td>\n",
       "      <td>NIT</td>\n",
       "      <td>3.8</td>\n",
       "      <td>1445 votes</td>\n",
       "    </tr>\n",
       "    <tr>\n",
       "      <th>4</th>\n",
       "      <td>QUICK BITES</td>\n",
       "      <td>South Indian, Kerala</td>\n",
       "      <td>11am – 10pm (Mon-Sun)</td>\n",
       "      <td>Kochi</td>\n",
       "      <td>Kaloor</td>\n",
       "      <td>3.6</td>\n",
       "      <td>23 votes</td>\n",
       "    </tr>\n",
       "  </tbody>\n",
       "</table>\n",
       "</div>"
      ],
      "text/plain": [
       "           TITLE                                      CUISINES  \\\n",
       "0  CASUAL DINING         North Indian, Chinese, Mughlai, Kebab   \n",
       "1    QUICK BITES  South Indian, Fast Food, Pizza, North Indian   \n",
       "2  CASUAL DINING       North Indian, Seafood, Biryani, Chinese   \n",
       "3            NaN                                       Biryani   \n",
       "4    QUICK BITES                          South Indian, Kerala   \n",
       "\n",
       "                                                TIME       CITY      LOCALITY  \\\n",
       "0                      12noon – 12midnight (Mon-Sun)      Noida     Sector 18   \n",
       "1                            7am – 12:30AM (Mon-Sun)     Mumbai    Grant Road   \n",
       "2                           11am – 11:30pm (Mon-Sun)     Mumbai  Marine Lines   \n",
       "3  9am – 10pm (Mon, Wed, Thu, Fri, Sat, Sun), 10:...  Faridabad           NIT   \n",
       "4                              11am – 10pm (Mon-Sun)      Kochi        Kaloor   \n",
       "\n",
       "  RATING       VOTES  \n",
       "0    4.3   564 votes  \n",
       "1    4.2    61 votes  \n",
       "2    3.8   350 votes  \n",
       "3    3.8  1445 votes  \n",
       "4    3.6    23 votes  "
      ]
     },
     "execution_count": 147,
     "metadata": {},
     "output_type": "execute_result"
    }
   ],
   "source": [
    "df_test.head()"
   ]
  },
  {
   "cell_type": "code",
   "execution_count": 148,
   "id": "a0624909",
   "metadata": {},
   "outputs": [
    {
     "name": "stdout",
     "output_type": "stream",
     "text": [
      "The rows and columns in the train dataset: (12690, 8)\n",
      "The rows and columns in the test dataset: (4231, 7)\n"
     ]
    }
   ],
   "source": [
    "#checking the new dimension and Columns of the train and test dataset\n",
    "\n",
    "print(f\"The rows and columns in the train dataset: {df_train.shape}\")\n",
    "\n",
    "\n",
    "\n",
    "print(f\"The rows and columns in the test dataset: {df_test.shape}\")"
   ]
  },
  {
   "cell_type": "markdown",
   "id": "16d7e691",
   "metadata": {},
   "source": [
    "# Categorical variables unique values"
   ]
  },
  {
   "cell_type": "code",
   "execution_count": 149,
   "id": "e4648905",
   "metadata": {},
   "outputs": [
    {
     "name": "stdout",
     "output_type": "stream",
     "text": [
      "Categorical Columns: ['TITLE', 'CUISINES', 'TIME', 'CITY', 'LOCALITY', 'RATING', 'VOTES']\n",
      "Numerical Columns: ['COST']\n"
     ]
    }
   ],
   "source": [
    "# Separating Numerical and Categorical columns\n",
    "\n",
    "# Checking for categorical and Numerical columns\n",
    "categorical_col = []\n",
    "numerical_col = []\n",
    "\n",
    "for i in df_train.dtypes.index:\n",
    "    if df_train.dtypes[i] == 'object':\n",
    "        categorical_col.append(i)\n",
    "    else:\n",
    "        numerical_col.append(i)\n",
    "print(f\"Categorical Columns: {categorical_col}\")\n",
    "print(f\"Numerical Columns: {numerical_col}\")"
   ]
  },
  {
   "cell_type": "code",
   "execution_count": 150,
   "id": "6253d33f",
   "metadata": {},
   "outputs": [
    {
     "data": {
      "text/plain": [
       "TITLE\n",
       "QUICK BITES               4218\n",
       "CASUAL DINING             3652\n",
       "CAFÉ                       607\n",
       "DESSERT PARLOR             382\n",
       "CASUAL DINING,BAR          349\n",
       "                          ... \n",
       "BAKERY,FOOD COURT            1\n",
       "CLUB,MICROBREWERY            1\n",
       "QUICK BITES,FOOD TRUCK       1\n",
       "BAKERY,BEVERAGE SHOP         1\n",
       "BAR,MICROBREWERY             1\n",
       "Name: count, Length: 112, dtype: int64"
      ]
     },
     "metadata": {},
     "output_type": "display_data"
    },
    {
     "data": {
      "text/plain": [
       "CUISINES\n",
       "South Indian                                  532\n",
       "North Indian                                  526\n",
       "North Indian, Chinese                         501\n",
       "Fast Food                                     286\n",
       "Chinese                                       167\n",
       "                                             ... \n",
       "Italian, Biryani, Fast Food                     1\n",
       "Desserts, Juices, Fast Food                     1\n",
       "Asian, Continental, European, North Indian      1\n",
       "Cafe, Continental, Italian, Lebanese            1\n",
       "Finger Food, Continental, Asian, Chinese        1\n",
       "Name: count, Length: 4155, dtype: int64"
      ]
     },
     "metadata": {},
     "output_type": "display_data"
    },
    {
     "data": {
      "text/plain": [
       "TIME\n",
       "11am – 11pm (Mon-Sun)                                 1415\n",
       "12noon – 12midnight (Mon-Sun)                          469\n",
       "12noon – 11pm (Mon-Sun)                                407\n",
       "11am – 12midnight (Mon-Sun)                            310\n",
       "10am – 10pm (Mon-Sun)                                  221\n",
       "                                                      ... \n",
       "10am – 10pm (Mon-Fri),8:30am – 10pm (Sat-Sun)            1\n",
       "12noon – 3:30pm, 6pm – 10:30pm (Mon-Thu),12noon...       1\n",
       "12noon – 5:30pm, 7pm – 11pm (Mon-Sun)                    1\n",
       "12midnight – 11:45pm (Mon-Sun)                           1\n",
       "12noon – 1am (Mon-Fri),11am – 5pm, 7pm – 1am...          1\n",
       "Name: count, Length: 2689, dtype: int64"
      ]
     },
     "metadata": {},
     "output_type": "display_data"
    },
    {
     "data": {
      "text/plain": [
       "CITY\n",
       "Chennai                                                                           2174\n",
       "Bangalore                                                                         2149\n",
       "Hyderabad                                                                         1819\n",
       "Mumbai                                                                            1722\n",
       "New Delhi                                                                         1321\n",
       "                                                                                  ... \n",
       "Gachibowli Hyderabad                                                                 1\n",
       "CPR layout harlur main road opposite to ozone ever green apartment Bangalore -       1\n",
       "ECR NEELANKARAI Chennai 600115                                                       1\n",
       "ward X11                                                                             1\n",
       "Masab Tank                                                                           1\n",
       "Name: count, Length: 359, dtype: int64"
      ]
     },
     "metadata": {},
     "output_type": "display_data"
    },
    {
     "data": {
      "text/plain": [
       "LOCALITY\n",
       "Gachibowli                 166\n",
       "Indiranagar                138\n",
       "Edappally                  122\n",
       "Kakkanad                   121\n",
       "HSR                        120\n",
       "                          ... \n",
       "Huda Market                  1\n",
       "OMR Road Sholinganallur      1\n",
       "Telangana 500053             1\n",
       "1st Lane                     1\n",
       "Near Malviya Nagar           1\n",
       "Name: count, Length: 1416, dtype: int64"
      ]
     },
     "metadata": {},
     "output_type": "display_data"
    },
    {
     "data": {
      "text/plain": [
       "RATING\n",
       "3.9    1238\n",
       "3.8    1190\n",
       "4.0    1099\n",
       "3.7    1086\n",
       "3.6     951\n",
       "4.1     936\n",
       "3.5     771\n",
       "4.2     723\n",
       "NEW     707\n",
       "3.4     575\n",
       "4.3     556\n",
       "-       495\n",
       "3.3     365\n",
       "4.4     362\n",
       "3.2     266\n",
       "4.5     199\n",
       "2.9     186\n",
       "3.1     186\n",
       "3.0     170\n",
       "2.8     146\n",
       "4.6     141\n",
       "2.7      89\n",
       "4.7      69\n",
       "2.6      61\n",
       "2.5      35\n",
       "4.8      32\n",
       "4.9      22\n",
       "2.4      15\n",
       "2.3      10\n",
       "2.1       3\n",
       "2.0       2\n",
       "2.2       2\n",
       "Name: count, dtype: int64"
      ]
     },
     "metadata": {},
     "output_type": "display_data"
    },
    {
     "data": {
      "text/plain": [
       "VOTES\n",
       "44 votes      71\n",
       "29 votes      66\n",
       "28 votes      66\n",
       "38 votes      65\n",
       "35 votes      64\n",
       "              ..\n",
       "1020 votes     1\n",
       "4634 votes     1\n",
       "2297 votes     1\n",
       "1475 votes     1\n",
       "1214 votes     1\n",
       "Name: count, Length: 1847, dtype: int64"
      ]
     },
     "metadata": {},
     "output_type": "display_data"
    }
   ],
   "source": [
    "# Checking the value counts of the categorical independent variables\n",
    "for col in categorical_col:\n",
    "    display(df_train[col].value_counts())"
   ]
  },
  {
   "cell_type": "markdown",
   "id": "40fbddbf",
   "metadata": {},
   "source": [
    "**This all are unique value for Categorical columns**"
   ]
  },
  {
   "cell_type": "markdown",
   "id": "95380ad7",
   "metadata": {},
   "source": [
    "# Numerical variables unique values"
   ]
  },
  {
   "cell_type": "markdown",
   "id": "5c8b2423",
   "metadata": {},
   "source": [
    "### Target Feature"
   ]
  },
  {
   "cell_type": "code",
   "execution_count": 151,
   "id": "10f755a2",
   "metadata": {},
   "outputs": [
    {
     "data": {
      "text/plain": [
       "COST\n",
       "300      1595\n",
       "400      1357\n",
       "500      1300\n",
       "200      1031\n",
       "600       806\n",
       "         ... \n",
       "8000        1\n",
       "14000       1\n",
       "5200        1\n",
       "80          1\n",
       "70          1\n",
       "Name: count, Length: 86, dtype: int64"
      ]
     },
     "metadata": {},
     "output_type": "display_data"
    }
   ],
   "source": [
    "# Checking the value counts of the Numerical variables\n",
    "for col in numerical_col:\n",
    "    display(df_train[col].value_counts())"
   ]
  },
  {
   "cell_type": "markdown",
   "id": "c95f3e9b",
   "metadata": {},
   "source": [
    "### This all are unique value for Numerical columns"
   ]
  },
  {
   "cell_type": "markdown",
   "id": "1349080f",
   "metadata": {},
   "source": [
    "# Filling null values"
   ]
  },
  {
   "cell_type": "code",
   "execution_count": 152,
   "id": "31b25044",
   "metadata": {},
   "outputs": [
    {
     "data": {
      "text/html": [
       "<div>\n",
       "<style scoped>\n",
       "    .dataframe tbody tr th:only-of-type {\n",
       "        vertical-align: middle;\n",
       "    }\n",
       "\n",
       "    .dataframe tbody tr th {\n",
       "        vertical-align: top;\n",
       "    }\n",
       "\n",
       "    .dataframe thead th {\n",
       "        text-align: right;\n",
       "    }\n",
       "</style>\n",
       "<table border=\"1\" class=\"dataframe\">\n",
       "  <thead>\n",
       "    <tr style=\"text-align: right;\">\n",
       "      <th></th>\n",
       "      <th>Missing in Train Dataset</th>\n",
       "      <th>Missing in Test Dataset</th>\n",
       "    </tr>\n",
       "  </thead>\n",
       "  <tbody>\n",
       "    <tr>\n",
       "      <th>TITLE</th>\n",
       "      <td>1003</td>\n",
       "      <td>284.0</td>\n",
       "    </tr>\n",
       "    <tr>\n",
       "      <th>CUISINES</th>\n",
       "      <td>0</td>\n",
       "      <td>0.0</td>\n",
       "    </tr>\n",
       "    <tr>\n",
       "      <th>TIME</th>\n",
       "      <td>0</td>\n",
       "      <td>0.0</td>\n",
       "    </tr>\n",
       "    <tr>\n",
       "      <th>CITY</th>\n",
       "      <td>112</td>\n",
       "      <td>35.0</td>\n",
       "    </tr>\n",
       "    <tr>\n",
       "      <th>LOCALITY</th>\n",
       "      <td>98</td>\n",
       "      <td>30.0</td>\n",
       "    </tr>\n",
       "    <tr>\n",
       "      <th>RATING</th>\n",
       "      <td>2</td>\n",
       "      <td>2.0</td>\n",
       "    </tr>\n",
       "    <tr>\n",
       "      <th>VOTES</th>\n",
       "      <td>1204</td>\n",
       "      <td>402.0</td>\n",
       "    </tr>\n",
       "    <tr>\n",
       "      <th>COST</th>\n",
       "      <td>0</td>\n",
       "      <td>NaN</td>\n",
       "    </tr>\n",
       "  </tbody>\n",
       "</table>\n",
       "</div>"
      ],
      "text/plain": [
       "          Missing in Train Dataset  Missing in Test Dataset\n",
       "TITLE                         1003                    284.0\n",
       "CUISINES                         0                      0.0\n",
       "TIME                             0                      0.0\n",
       "CITY                           112                     35.0\n",
       "LOCALITY                        98                     30.0\n",
       "RATING                           2                      2.0\n",
       "VOTES                         1204                    402.0\n",
       "COST                             0                      NaN"
      ]
     },
     "execution_count": 152,
     "metadata": {},
     "output_type": "execute_result"
    }
   ],
   "source": [
    "#Checking the null values\n",
    "\n",
    "missing_val=df_train.isnull().sum().to_frame(\"Missing in Train Dataset\")\n",
    "\n",
    "missing_val[\"Missing in Test Dataset\"]=df_test.isnull().sum()\n",
    "\n",
    "missing_val"
   ]
  },
  {
   "cell_type": "markdown",
   "id": "4c99042a",
   "metadata": {},
   "source": [
    "**Votes column have 1204 null values in train dataset and 402 in test dataset,if we fill this it will affect our performance,dropping the column is the better way to do**"
   ]
  },
  {
   "cell_type": "markdown",
   "id": "b6502e49",
   "metadata": {},
   "source": [
    "### Train Dataset"
   ]
  },
  {
   "cell_type": "code",
   "execution_count": 153,
   "id": "cb616f11",
   "metadata": {},
   "outputs": [],
   "source": [
    "df_train.drop(['VOTES'], axis=1, inplace=True)"
   ]
  },
  {
   "cell_type": "code",
   "execution_count": 154,
   "id": "1ed92979",
   "metadata": {},
   "outputs": [
    {
     "data": {
      "text/html": [
       "<div>\n",
       "<style scoped>\n",
       "    .dataframe tbody tr th:only-of-type {\n",
       "        vertical-align: middle;\n",
       "    }\n",
       "\n",
       "    .dataframe tbody tr th {\n",
       "        vertical-align: top;\n",
       "    }\n",
       "\n",
       "    .dataframe thead th {\n",
       "        text-align: right;\n",
       "    }\n",
       "</style>\n",
       "<table border=\"1\" class=\"dataframe\">\n",
       "  <thead>\n",
       "    <tr style=\"text-align: right;\">\n",
       "      <th></th>\n",
       "      <th>TITLE</th>\n",
       "      <th>CUISINES</th>\n",
       "      <th>TIME</th>\n",
       "      <th>CITY</th>\n",
       "      <th>LOCALITY</th>\n",
       "      <th>RATING</th>\n",
       "      <th>COST</th>\n",
       "    </tr>\n",
       "  </thead>\n",
       "  <tbody>\n",
       "    <tr>\n",
       "      <th>0</th>\n",
       "      <td>CASUAL DINING</td>\n",
       "      <td>Malwani, Goan, North Indian</td>\n",
       "      <td>11am – 4pm, 7:30pm – 11:30pm (Mon-Sun)</td>\n",
       "      <td>Thane</td>\n",
       "      <td>Dombivali East</td>\n",
       "      <td>3.6</td>\n",
       "      <td>1200</td>\n",
       "    </tr>\n",
       "    <tr>\n",
       "      <th>1</th>\n",
       "      <td>CASUAL DINING,BAR</td>\n",
       "      <td>Asian, Modern Indian, Japanese</td>\n",
       "      <td>6pm – 11pm (Mon-Sun)</td>\n",
       "      <td>Chennai</td>\n",
       "      <td>Ramapuram</td>\n",
       "      <td>4.2</td>\n",
       "      <td>1500</td>\n",
       "    </tr>\n",
       "    <tr>\n",
       "      <th>2</th>\n",
       "      <td>CASUAL DINING</td>\n",
       "      <td>North Indian, Chinese, Biryani, Hyderabadi</td>\n",
       "      <td>11am – 3:30pm, 7pm – 11pm (Mon-Sun)</td>\n",
       "      <td>Chennai</td>\n",
       "      <td>Saligramam</td>\n",
       "      <td>3.8</td>\n",
       "      <td>800</td>\n",
       "    </tr>\n",
       "    <tr>\n",
       "      <th>3</th>\n",
       "      <td>QUICK BITES</td>\n",
       "      <td>Tibetan, Chinese</td>\n",
       "      <td>11:30am – 1am (Mon-Sun)</td>\n",
       "      <td>Mumbai</td>\n",
       "      <td>Bandra West</td>\n",
       "      <td>4.1</td>\n",
       "      <td>800</td>\n",
       "    </tr>\n",
       "    <tr>\n",
       "      <th>4</th>\n",
       "      <td>DESSERT PARLOR</td>\n",
       "      <td>Desserts</td>\n",
       "      <td>11am – 1am (Mon-Sun)</td>\n",
       "      <td>Mumbai</td>\n",
       "      <td>Lower Parel</td>\n",
       "      <td>3.8</td>\n",
       "      <td>300</td>\n",
       "    </tr>\n",
       "  </tbody>\n",
       "</table>\n",
       "</div>"
      ],
      "text/plain": [
       "               TITLE                                    CUISINES  \\\n",
       "0      CASUAL DINING                 Malwani, Goan, North Indian   \n",
       "1  CASUAL DINING,BAR              Asian, Modern Indian, Japanese   \n",
       "2      CASUAL DINING  North Indian, Chinese, Biryani, Hyderabadi   \n",
       "3        QUICK BITES                            Tibetan, Chinese   \n",
       "4     DESSERT PARLOR                                    Desserts   \n",
       "\n",
       "                                     TIME     CITY        LOCALITY RATING  \\\n",
       "0  11am – 4pm, 7:30pm – 11:30pm (Mon-Sun)    Thane  Dombivali East    3.6   \n",
       "1                    6pm – 11pm (Mon-Sun)  Chennai       Ramapuram    4.2   \n",
       "2     11am – 3:30pm, 7pm – 11pm (Mon-Sun)  Chennai      Saligramam    3.8   \n",
       "3                 11:30am – 1am (Mon-Sun)   Mumbai     Bandra West    4.1   \n",
       "4                    11am – 1am (Mon-Sun)   Mumbai     Lower Parel    3.8   \n",
       "\n",
       "   COST  \n",
       "0  1200  \n",
       "1  1500  \n",
       "2   800  \n",
       "3   800  \n",
       "4   300  "
      ]
     },
     "execution_count": 154,
     "metadata": {},
     "output_type": "execute_result"
    }
   ],
   "source": [
    "df_train.head()"
   ]
  },
  {
   "cell_type": "markdown",
   "id": "f316cef3",
   "metadata": {},
   "source": [
    "### Test Dataset"
   ]
  },
  {
   "cell_type": "code",
   "execution_count": 155,
   "id": "761d4ba1",
   "metadata": {},
   "outputs": [],
   "source": [
    "df_test.drop(['VOTES'], axis=1, inplace=True)"
   ]
  },
  {
   "cell_type": "code",
   "execution_count": 156,
   "id": "4351a217",
   "metadata": {},
   "outputs": [
    {
     "data": {
      "text/html": [
       "<div>\n",
       "<style scoped>\n",
       "    .dataframe tbody tr th:only-of-type {\n",
       "        vertical-align: middle;\n",
       "    }\n",
       "\n",
       "    .dataframe tbody tr th {\n",
       "        vertical-align: top;\n",
       "    }\n",
       "\n",
       "    .dataframe thead th {\n",
       "        text-align: right;\n",
       "    }\n",
       "</style>\n",
       "<table border=\"1\" class=\"dataframe\">\n",
       "  <thead>\n",
       "    <tr style=\"text-align: right;\">\n",
       "      <th></th>\n",
       "      <th>TITLE</th>\n",
       "      <th>CUISINES</th>\n",
       "      <th>TIME</th>\n",
       "      <th>CITY</th>\n",
       "      <th>LOCALITY</th>\n",
       "      <th>RATING</th>\n",
       "    </tr>\n",
       "  </thead>\n",
       "  <tbody>\n",
       "    <tr>\n",
       "      <th>0</th>\n",
       "      <td>CASUAL DINING</td>\n",
       "      <td>North Indian, Chinese, Mughlai, Kebab</td>\n",
       "      <td>12noon – 12midnight (Mon-Sun)</td>\n",
       "      <td>Noida</td>\n",
       "      <td>Sector 18</td>\n",
       "      <td>4.3</td>\n",
       "    </tr>\n",
       "    <tr>\n",
       "      <th>1</th>\n",
       "      <td>QUICK BITES</td>\n",
       "      <td>South Indian, Fast Food, Pizza, North Indian</td>\n",
       "      <td>7am – 12:30AM (Mon-Sun)</td>\n",
       "      <td>Mumbai</td>\n",
       "      <td>Grant Road</td>\n",
       "      <td>4.2</td>\n",
       "    </tr>\n",
       "    <tr>\n",
       "      <th>2</th>\n",
       "      <td>CASUAL DINING</td>\n",
       "      <td>North Indian, Seafood, Biryani, Chinese</td>\n",
       "      <td>11am – 11:30pm (Mon-Sun)</td>\n",
       "      <td>Mumbai</td>\n",
       "      <td>Marine Lines</td>\n",
       "      <td>3.8</td>\n",
       "    </tr>\n",
       "    <tr>\n",
       "      <th>3</th>\n",
       "      <td>NaN</td>\n",
       "      <td>Biryani</td>\n",
       "      <td>9am – 10pm (Mon, Wed, Thu, Fri, Sat, Sun), 10:...</td>\n",
       "      <td>Faridabad</td>\n",
       "      <td>NIT</td>\n",
       "      <td>3.8</td>\n",
       "    </tr>\n",
       "    <tr>\n",
       "      <th>4</th>\n",
       "      <td>QUICK BITES</td>\n",
       "      <td>South Indian, Kerala</td>\n",
       "      <td>11am – 10pm (Mon-Sun)</td>\n",
       "      <td>Kochi</td>\n",
       "      <td>Kaloor</td>\n",
       "      <td>3.6</td>\n",
       "    </tr>\n",
       "  </tbody>\n",
       "</table>\n",
       "</div>"
      ],
      "text/plain": [
       "           TITLE                                      CUISINES  \\\n",
       "0  CASUAL DINING         North Indian, Chinese, Mughlai, Kebab   \n",
       "1    QUICK BITES  South Indian, Fast Food, Pizza, North Indian   \n",
       "2  CASUAL DINING       North Indian, Seafood, Biryani, Chinese   \n",
       "3            NaN                                       Biryani   \n",
       "4    QUICK BITES                          South Indian, Kerala   \n",
       "\n",
       "                                                TIME       CITY      LOCALITY  \\\n",
       "0                      12noon – 12midnight (Mon-Sun)      Noida     Sector 18   \n",
       "1                            7am – 12:30AM (Mon-Sun)     Mumbai    Grant Road   \n",
       "2                           11am – 11:30pm (Mon-Sun)     Mumbai  Marine Lines   \n",
       "3  9am – 10pm (Mon, Wed, Thu, Fri, Sat, Sun), 10:...  Faridabad           NIT   \n",
       "4                              11am – 10pm (Mon-Sun)      Kochi        Kaloor   \n",
       "\n",
       "  RATING  \n",
       "0    4.3  \n",
       "1    4.2  \n",
       "2    3.8  \n",
       "3    3.8  \n",
       "4    3.6  "
      ]
     },
     "execution_count": 156,
     "metadata": {},
     "output_type": "execute_result"
    }
   ],
   "source": [
    "df_test.head()"
   ]
  },
  {
   "cell_type": "code",
   "execution_count": 157,
   "id": "a38d5b3c",
   "metadata": {},
   "outputs": [
    {
     "name": "stdout",
     "output_type": "stream",
     "text": [
      "The rows and columns in the train dataset: (12690, 7)\n",
      "The rows and columns in the test dataset: (4231, 6)\n"
     ]
    }
   ],
   "source": [
    "#checking the new dimension and Columns of the train and test dataset\n",
    "\n",
    "print(f\"The rows and columns in the train dataset: {df_train.shape}\")\n",
    "\n",
    "\n",
    "\n",
    "print(f\"The rows and columns in the test dataset: {df_test.shape}\")"
   ]
  },
  {
   "cell_type": "markdown",
   "id": "e8107120",
   "metadata": {},
   "source": [
    "### Filling null values in train dataset"
   ]
  },
  {
   "cell_type": "code",
   "execution_count": 158,
   "id": "3b6dd1c3",
   "metadata": {},
   "outputs": [],
   "source": [
    "df_train[\"TITLE\"] = df_train[\"TITLE\"].fillna(df_train[\"TITLE\"].mode()[0])\n",
    "\n",
    "df_train[\"CITY\"] = df_train[\"CITY\"].fillna(df_train[\"CITY\"].mode()[0])\n",
    "\n",
    "df_train[\"LOCALITY\"] = df_train[\"LOCALITY\"].fillna(df_train[\"LOCALITY\"].mode()[0])\n",
    "\n",
    "df_train[\"RATING\"] = df_train[\"RATING\"].fillna(df_train[\"RATING\"].mode()[0])"
   ]
  },
  {
   "cell_type": "markdown",
   "id": "861a252b",
   "metadata": {},
   "source": [
    "### Filling null values in test dataset"
   ]
  },
  {
   "cell_type": "code",
   "execution_count": 159,
   "id": "e9a6d2ab",
   "metadata": {},
   "outputs": [],
   "source": [
    "df_test[\"TITLE\"] = df_test[\"TITLE\"].fillna(df_test[\"TITLE\"].mode()[0])\n",
    "\n",
    "df_test[\"CITY\"] = df_test[\"CITY\"].fillna(df_test[\"CITY\"].mode()[0])\n",
    "\n",
    "df_test[\"LOCALITY\"] = df_test[\"LOCALITY\"].fillna(df_test[\"LOCALITY\"].mode()[0])\n",
    "\n",
    "df_test[\"RATING\"] = df_test[\"RATING\"].fillna(df_test[\"RATING\"].mode()[0])"
   ]
  },
  {
   "cell_type": "markdown",
   "id": "dbbe7247",
   "metadata": {},
   "source": [
    "**We can use mean for rating to fill the null values but it in object datatype because it have NEW,- value like this**"
   ]
  },
  {
   "cell_type": "code",
   "execution_count": 160,
   "id": "764621a4",
   "metadata": {},
   "outputs": [
    {
     "data": {
      "text/html": [
       "<div>\n",
       "<style scoped>\n",
       "    .dataframe tbody tr th:only-of-type {\n",
       "        vertical-align: middle;\n",
       "    }\n",
       "\n",
       "    .dataframe tbody tr th {\n",
       "        vertical-align: top;\n",
       "    }\n",
       "\n",
       "    .dataframe thead th {\n",
       "        text-align: right;\n",
       "    }\n",
       "</style>\n",
       "<table border=\"1\" class=\"dataframe\">\n",
       "  <thead>\n",
       "    <tr style=\"text-align: right;\">\n",
       "      <th></th>\n",
       "      <th>Missing in Train Dataset</th>\n",
       "      <th>Missing in Test Dataset</th>\n",
       "    </tr>\n",
       "  </thead>\n",
       "  <tbody>\n",
       "    <tr>\n",
       "      <th>TITLE</th>\n",
       "      <td>0</td>\n",
       "      <td>0.0</td>\n",
       "    </tr>\n",
       "    <tr>\n",
       "      <th>CUISINES</th>\n",
       "      <td>0</td>\n",
       "      <td>0.0</td>\n",
       "    </tr>\n",
       "    <tr>\n",
       "      <th>TIME</th>\n",
       "      <td>0</td>\n",
       "      <td>0.0</td>\n",
       "    </tr>\n",
       "    <tr>\n",
       "      <th>CITY</th>\n",
       "      <td>0</td>\n",
       "      <td>0.0</td>\n",
       "    </tr>\n",
       "    <tr>\n",
       "      <th>LOCALITY</th>\n",
       "      <td>0</td>\n",
       "      <td>0.0</td>\n",
       "    </tr>\n",
       "    <tr>\n",
       "      <th>RATING</th>\n",
       "      <td>0</td>\n",
       "      <td>0.0</td>\n",
       "    </tr>\n",
       "    <tr>\n",
       "      <th>COST</th>\n",
       "      <td>0</td>\n",
       "      <td>NaN</td>\n",
       "    </tr>\n",
       "  </tbody>\n",
       "</table>\n",
       "</div>"
      ],
      "text/plain": [
       "          Missing in Train Dataset  Missing in Test Dataset\n",
       "TITLE                            0                      0.0\n",
       "CUISINES                         0                      0.0\n",
       "TIME                             0                      0.0\n",
       "CITY                             0                      0.0\n",
       "LOCALITY                         0                      0.0\n",
       "RATING                           0                      0.0\n",
       "COST                             0                      NaN"
      ]
     },
     "execution_count": 160,
     "metadata": {},
     "output_type": "execute_result"
    }
   ],
   "source": [
    "# Again Checking the null values\n",
    "\n",
    "missing_val=df_train.isnull().sum().to_frame(\"Missing in Train Dataset\")\n",
    "\n",
    "missing_val[\"Missing in Test Dataset\"]=df_test.isnull().sum()\n",
    "\n",
    "missing_val"
   ]
  },
  {
   "cell_type": "markdown",
   "id": "460cfce4",
   "metadata": {},
   "source": [
    "**Now,We can see there is no null value presented in the Dataset**"
   ]
  },
  {
   "cell_type": "markdown",
   "id": "01277553",
   "metadata": {},
   "source": [
    "# Checking for duplicated rows"
   ]
  },
  {
   "cell_type": "code",
   "execution_count": 161,
   "id": "45ee5393",
   "metadata": {},
   "outputs": [
    {
     "name": "stdout",
     "output_type": "stream",
     "text": [
      "Total no. of duplicated rows in train Dataset: 28\n"
     ]
    }
   ],
   "source": [
    "print(\"Total no. of duplicated rows in train Dataset:\",df_train.duplicated().sum())"
   ]
  },
  {
   "cell_type": "code",
   "execution_count": 162,
   "id": "39deef95",
   "metadata": {},
   "outputs": [
    {
     "name": "stdout",
     "output_type": "stream",
     "text": [
      "Total no. of duplicated rows in test Dataset: 6\n"
     ]
    }
   ],
   "source": [
    "print(\"Total no. of duplicated rows in test Dataset:\",df_test.duplicated().sum())"
   ]
  },
  {
   "cell_type": "markdown",
   "id": "dfa228dc",
   "metadata": {},
   "source": [
    "# Dropping Duplicated Rows"
   ]
  },
  {
   "cell_type": "code",
   "execution_count": 163,
   "id": "cbaa50d5",
   "metadata": {},
   "outputs": [],
   "source": [
    "df_train=df_train.drop_duplicates()  #dropping duplicate rows for train Dataset"
   ]
  },
  {
   "cell_type": "code",
   "execution_count": 164,
   "id": "0d93b3d7",
   "metadata": {},
   "outputs": [],
   "source": [
    "df_test=df_test.drop_duplicates()  #dropping duplicate rows for test Dataset"
   ]
  },
  {
   "cell_type": "code",
   "execution_count": 165,
   "id": "7450e0da",
   "metadata": {},
   "outputs": [
    {
     "name": "stdout",
     "output_type": "stream",
     "text": [
      "The rows and columns in the train dataset: (12662, 7)\n",
      "The rows and columns in the test dataset: (4225, 6)\n"
     ]
    }
   ],
   "source": [
    "#checking the new dimension and Columns of the train and test dataset\n",
    "\n",
    "print(f\"The rows and columns in the train dataset: {df_train.shape}\")\n",
    "\n",
    "\n",
    "\n",
    "print(f\"The rows and columns in the test dataset: {df_test.shape}\")"
   ]
  },
  {
   "cell_type": "markdown",
   "id": "160e87a6",
   "metadata": {},
   "source": [
    "# Summary statistics of the numerical variables"
   ]
  },
  {
   "cell_type": "markdown",
   "id": "9accd40d",
   "metadata": {},
   "source": [
    "### Target Feature"
   ]
  },
  {
   "cell_type": "code",
   "execution_count": 166,
   "id": "68138eac",
   "metadata": {},
   "outputs": [
    {
     "data": {
      "text/html": [
       "<div>\n",
       "<style scoped>\n",
       "    .dataframe tbody tr th:only-of-type {\n",
       "        vertical-align: middle;\n",
       "    }\n",
       "\n",
       "    .dataframe tbody tr th {\n",
       "        vertical-align: top;\n",
       "    }\n",
       "\n",
       "    .dataframe thead th {\n",
       "        text-align: right;\n",
       "    }\n",
       "</style>\n",
       "<table border=\"1\" class=\"dataframe\">\n",
       "  <thead>\n",
       "    <tr style=\"text-align: right;\">\n",
       "      <th></th>\n",
       "      <th>COST</th>\n",
       "    </tr>\n",
       "  </thead>\n",
       "  <tbody>\n",
       "    <tr>\n",
       "      <th>count</th>\n",
       "      <td>12662.000000</td>\n",
       "    </tr>\n",
       "    <tr>\n",
       "      <th>mean</th>\n",
       "      <td>655.504739</td>\n",
       "    </tr>\n",
       "    <tr>\n",
       "      <th>std</th>\n",
       "      <td>627.427068</td>\n",
       "    </tr>\n",
       "    <tr>\n",
       "      <th>min</th>\n",
       "      <td>20.000000</td>\n",
       "    </tr>\n",
       "    <tr>\n",
       "      <th>25%</th>\n",
       "      <td>300.000000</td>\n",
       "    </tr>\n",
       "    <tr>\n",
       "      <th>50%</th>\n",
       "      <td>500.000000</td>\n",
       "    </tr>\n",
       "    <tr>\n",
       "      <th>75%</th>\n",
       "      <td>800.000000</td>\n",
       "    </tr>\n",
       "    <tr>\n",
       "      <th>max</th>\n",
       "      <td>14000.000000</td>\n",
       "    </tr>\n",
       "  </tbody>\n",
       "</table>\n",
       "</div>"
      ],
      "text/plain": [
       "               COST\n",
       "count  12662.000000\n",
       "mean     655.504739\n",
       "std      627.427068\n",
       "min       20.000000\n",
       "25%      300.000000\n",
       "50%      500.000000\n",
       "75%      800.000000\n",
       "max    14000.000000"
      ]
     },
     "execution_count": 166,
     "metadata": {},
     "output_type": "execute_result"
    }
   ],
   "source": [
    "df_train.describe()"
   ]
  },
  {
   "cell_type": "markdown",
   "id": "92be6b3d",
   "metadata": {},
   "source": [
    "**1)There is no missing values**\n",
    "\n",
    "**2)The mean value is greater than the median(50%)  which means the data is skewed to right.**\n",
    "\n",
    "**3)There is a huge difference between 75% and max  hence there are outliers present in the data.**\n",
    "\n",
    "**4)we can also notice the**\n",
    "\n",
    "**==>standard deviation**\n",
    "\n",
    "**==>min**\n",
    "\n",
    "**==>25% percentile value for all column from this describe method.**"
   ]
  },
  {
   "cell_type": "markdown",
   "id": "591f722d",
   "metadata": {},
   "source": [
    "# Summary statistics of the categorical variables"
   ]
  },
  {
   "cell_type": "code",
   "execution_count": 167,
   "id": "97e2a915",
   "metadata": {},
   "outputs": [
    {
     "data": {
      "text/html": [
       "<div>\n",
       "<style scoped>\n",
       "    .dataframe tbody tr th:only-of-type {\n",
       "        vertical-align: middle;\n",
       "    }\n",
       "\n",
       "    .dataframe tbody tr th {\n",
       "        vertical-align: top;\n",
       "    }\n",
       "\n",
       "    .dataframe thead th {\n",
       "        text-align: right;\n",
       "    }\n",
       "</style>\n",
       "<table border=\"1\" class=\"dataframe\">\n",
       "  <thead>\n",
       "    <tr style=\"text-align: right;\">\n",
       "      <th></th>\n",
       "      <th>TITLE</th>\n",
       "      <th>CUISINES</th>\n",
       "      <th>TIME</th>\n",
       "      <th>CITY</th>\n",
       "      <th>LOCALITY</th>\n",
       "      <th>RATING</th>\n",
       "    </tr>\n",
       "  </thead>\n",
       "  <tbody>\n",
       "    <tr>\n",
       "      <th>count</th>\n",
       "      <td>12662</td>\n",
       "      <td>12662</td>\n",
       "      <td>12662</td>\n",
       "      <td>12662</td>\n",
       "      <td>12662</td>\n",
       "      <td>12662</td>\n",
       "    </tr>\n",
       "    <tr>\n",
       "      <th>unique</th>\n",
       "      <td>112</td>\n",
       "      <td>4155</td>\n",
       "      <td>2689</td>\n",
       "      <td>359</td>\n",
       "      <td>1416</td>\n",
       "      <td>32</td>\n",
       "    </tr>\n",
       "    <tr>\n",
       "      <th>top</th>\n",
       "      <td>QUICK BITES</td>\n",
       "      <td>South Indian</td>\n",
       "      <td>11am – 11pm (Mon-Sun)</td>\n",
       "      <td>Chennai</td>\n",
       "      <td>Gachibowli</td>\n",
       "      <td>3.9</td>\n",
       "    </tr>\n",
       "    <tr>\n",
       "      <th>freq</th>\n",
       "      <td>5211</td>\n",
       "      <td>531</td>\n",
       "      <td>1414</td>\n",
       "      <td>2285</td>\n",
       "      <td>264</td>\n",
       "      <td>1235</td>\n",
       "    </tr>\n",
       "  </tbody>\n",
       "</table>\n",
       "</div>"
      ],
      "text/plain": [
       "              TITLE      CUISINES                   TIME     CITY    LOCALITY  \\\n",
       "count         12662         12662                  12662    12662       12662   \n",
       "unique          112          4155                   2689      359        1416   \n",
       "top     QUICK BITES  South Indian  11am – 11pm (Mon-Sun)  Chennai  Gachibowli   \n",
       "freq           5211           531                   1414     2285         264   \n",
       "\n",
       "       RATING  \n",
       "count   12662  \n",
       "unique     32  \n",
       "top       3.9  \n",
       "freq     1235  "
      ]
     },
     "execution_count": 167,
     "metadata": {},
     "output_type": "execute_result"
    }
   ],
   "source": [
    "df_train.describe(exclude=[np.number])"
   ]
  },
  {
   "cell_type": "markdown",
   "id": "4970a7bc",
   "metadata": {},
   "source": [
    "**Here we can see the number of unique values for each categorical variable as well as the most frequent value.**"
   ]
  },
  {
   "cell_type": "markdown",
   "id": "fddc1b3b",
   "metadata": {},
   "source": [
    "# Encoding the  features using OrdinalEncoder"
   ]
  },
  {
   "cell_type": "code",
   "execution_count": 168,
   "id": "5f7e7ae8",
   "metadata": {},
   "outputs": [],
   "source": [
    "OE = OrdinalEncoder()\n",
    "\n",
    "for i in ['TITLE', 'CUISINES', 'TIME', 'CITY', 'LOCALITY', 'RATING']:\n",
    "    df_train[i] = OE.fit_transform(df_train[i].values.reshape(-1, 1))\n",
    "    df_test[i] = OE.fit_transform(df_test[i].values.reshape(-1, 1))"
   ]
  },
  {
   "cell_type": "code",
   "execution_count": 169,
   "id": "ec39ff58",
   "metadata": {},
   "outputs": [
    {
     "data": {
      "text/html": [
       "<div>\n",
       "<style scoped>\n",
       "    .dataframe tbody tr th:only-of-type {\n",
       "        vertical-align: middle;\n",
       "    }\n",
       "\n",
       "    .dataframe tbody tr th {\n",
       "        vertical-align: top;\n",
       "    }\n",
       "\n",
       "    .dataframe thead th {\n",
       "        text-align: right;\n",
       "    }\n",
       "</style>\n",
       "<table border=\"1\" class=\"dataframe\">\n",
       "  <thead>\n",
       "    <tr style=\"text-align: right;\">\n",
       "      <th></th>\n",
       "      <th>TITLE</th>\n",
       "      <th>CUISINES</th>\n",
       "      <th>TIME</th>\n",
       "      <th>CITY</th>\n",
       "      <th>LOCALITY</th>\n",
       "      <th>RATING</th>\n",
       "      <th>COST</th>\n",
       "    </tr>\n",
       "  </thead>\n",
       "  <tbody>\n",
       "    <tr>\n",
       "      <th>0</th>\n",
       "      <td>31.0</td>\n",
       "      <td>2627.0</td>\n",
       "      <td>739.0</td>\n",
       "      <td>320.0</td>\n",
       "      <td>285.0</td>\n",
       "      <td>17.0</td>\n",
       "      <td>1200</td>\n",
       "    </tr>\n",
       "    <tr>\n",
       "      <th>1</th>\n",
       "      <td>33.0</td>\n",
       "      <td>289.0</td>\n",
       "      <td>1885.0</td>\n",
       "      <td>67.0</td>\n",
       "      <td>1046.0</td>\n",
       "      <td>23.0</td>\n",
       "      <td>1500</td>\n",
       "    </tr>\n",
       "    <tr>\n",
       "      <th>2</th>\n",
       "      <td>31.0</td>\n",
       "      <td>2976.0</td>\n",
       "      <td>661.0</td>\n",
       "      <td>67.0</td>\n",
       "      <td>1101.0</td>\n",
       "      <td>19.0</td>\n",
       "      <td>800</td>\n",
       "    </tr>\n",
       "    <tr>\n",
       "      <th>3</th>\n",
       "      <td>94.0</td>\n",
       "      <td>4130.0</td>\n",
       "      <td>275.0</td>\n",
       "      <td>222.0</td>\n",
       "      <td>136.0</td>\n",
       "      <td>22.0</td>\n",
       "      <td>800</td>\n",
       "    </tr>\n",
       "    <tr>\n",
       "      <th>4</th>\n",
       "      <td>50.0</td>\n",
       "      <td>1766.0</td>\n",
       "      <td>615.0</td>\n",
       "      <td>222.0</td>\n",
       "      <td>620.0</td>\n",
       "      <td>19.0</td>\n",
       "      <td>300</td>\n",
       "    </tr>\n",
       "  </tbody>\n",
       "</table>\n",
       "</div>"
      ],
      "text/plain": [
       "   TITLE  CUISINES    TIME   CITY  LOCALITY  RATING  COST\n",
       "0   31.0    2627.0   739.0  320.0     285.0    17.0  1200\n",
       "1   33.0     289.0  1885.0   67.0    1046.0    23.0  1500\n",
       "2   31.0    2976.0   661.0   67.0    1101.0    19.0   800\n",
       "3   94.0    4130.0   275.0  222.0     136.0    22.0   800\n",
       "4   50.0    1766.0   615.0  222.0     620.0    19.0   300"
      ]
     },
     "execution_count": 169,
     "metadata": {},
     "output_type": "execute_result"
    }
   ],
   "source": [
    "df_train.head() #Train dataset after Encoding"
   ]
  },
  {
   "cell_type": "code",
   "execution_count": 170,
   "id": "dcbc1208",
   "metadata": {},
   "outputs": [
    {
     "data": {
      "text/html": [
       "<div>\n",
       "<style scoped>\n",
       "    .dataframe tbody tr th:only-of-type {\n",
       "        vertical-align: middle;\n",
       "    }\n",
       "\n",
       "    .dataframe tbody tr th {\n",
       "        vertical-align: top;\n",
       "    }\n",
       "\n",
       "    .dataframe thead th {\n",
       "        text-align: right;\n",
       "    }\n",
       "</style>\n",
       "<table border=\"1\" class=\"dataframe\">\n",
       "  <thead>\n",
       "    <tr style=\"text-align: right;\">\n",
       "      <th></th>\n",
       "      <th>TITLE</th>\n",
       "      <th>CUISINES</th>\n",
       "      <th>TIME</th>\n",
       "      <th>CITY</th>\n",
       "      <th>LOCALITY</th>\n",
       "      <th>RATING</th>\n",
       "    </tr>\n",
       "  </thead>\n",
       "  <tbody>\n",
       "    <tr>\n",
       "      <th>0</th>\n",
       "      <td>23.0</td>\n",
       "      <td>1293.0</td>\n",
       "      <td>503.0</td>\n",
       "      <td>110.0</td>\n",
       "      <td>662.0</td>\n",
       "      <td>23.0</td>\n",
       "    </tr>\n",
       "    <tr>\n",
       "      <th>1</th>\n",
       "      <td>74.0</td>\n",
       "      <td>1632.0</td>\n",
       "      <td>933.0</td>\n",
       "      <td>96.0</td>\n",
       "      <td>221.0</td>\n",
       "      <td>22.0</td>\n",
       "    </tr>\n",
       "    <tr>\n",
       "      <th>2</th>\n",
       "      <td>23.0</td>\n",
       "      <td>1455.0</td>\n",
       "      <td>219.0</td>\n",
       "      <td>96.0</td>\n",
       "      <td>411.0</td>\n",
       "      <td>18.0</td>\n",
       "    </tr>\n",
       "    <tr>\n",
       "      <th>3</th>\n",
       "      <td>74.0</td>\n",
       "      <td>208.0</td>\n",
       "      <td>1071.0</td>\n",
       "      <td>41.0</td>\n",
       "      <td>456.0</td>\n",
       "      <td>18.0</td>\n",
       "    </tr>\n",
       "    <tr>\n",
       "      <th>4</th>\n",
       "      <td>74.0</td>\n",
       "      <td>1637.0</td>\n",
       "      <td>208.0</td>\n",
       "      <td>78.0</td>\n",
       "      <td>300.0</td>\n",
       "      <td>16.0</td>\n",
       "    </tr>\n",
       "  </tbody>\n",
       "</table>\n",
       "</div>"
      ],
      "text/plain": [
       "   TITLE  CUISINES    TIME   CITY  LOCALITY  RATING\n",
       "0   23.0    1293.0   503.0  110.0     662.0    23.0\n",
       "1   74.0    1632.0   933.0   96.0     221.0    22.0\n",
       "2   23.0    1455.0   219.0   96.0     411.0    18.0\n",
       "3   74.0     208.0  1071.0   41.0     456.0    18.0\n",
       "4   74.0    1637.0   208.0   78.0     300.0    16.0"
      ]
     },
     "execution_count": 170,
     "metadata": {},
     "output_type": "execute_result"
    }
   ],
   "source": [
    "df_test.head()  #Test dataset after Encoding"
   ]
  },
  {
   "cell_type": "markdown",
   "id": "a040c85d",
   "metadata": {},
   "source": [
    "# Data Visualisation"
   ]
  },
  {
   "cell_type": "markdown",
   "id": "838f1e82",
   "metadata": {},
   "source": [
    "## Univarite Analysis"
   ]
  },
  {
   "cell_type": "markdown",
   "id": "4be813f9",
   "metadata": {},
   "source": [
    "## Target feature"
   ]
  },
  {
   "cell_type": "code",
   "execution_count": 171,
   "id": "9b762f8d",
   "metadata": {},
   "outputs": [
    {
     "data": {
      "image/png": "[encoded data removed]",
      "text/plain": [
       "<Figure size 700x500 with 1 Axes>"
      ]
     },
     "metadata": {},
     "output_type": "display_data"
    },
    {
     "data": {
      "text/html": [
       "<div>\n",
       "<style scoped>\n",
       "    .dataframe tbody tr th:only-of-type {\n",
       "        vertical-align: middle;\n",
       "    }\n",
       "\n",
       "    .dataframe tbody tr th {\n",
       "        vertical-align: top;\n",
       "    }\n",
       "\n",
       "    .dataframe thead th {\n",
       "        text-align: right;\n",
       "    }\n",
       "</style>\n",
       "<table border=\"1\" class=\"dataframe\">\n",
       "  <thead>\n",
       "    <tr style=\"text-align: right;\">\n",
       "      <th></th>\n",
       "      <th>count</th>\n",
       "    </tr>\n",
       "    <tr>\n",
       "      <th>COST</th>\n",
       "      <th></th>\n",
       "    </tr>\n",
       "  </thead>\n",
       "  <tbody>\n",
       "    <tr>\n",
       "      <th>300</th>\n",
       "      <td>1592</td>\n",
       "    </tr>\n",
       "    <tr>\n",
       "      <th>400</th>\n",
       "      <td>1356</td>\n",
       "    </tr>\n",
       "    <tr>\n",
       "      <th>500</th>\n",
       "      <td>1297</td>\n",
       "    </tr>\n",
       "    <tr>\n",
       "      <th>200</th>\n",
       "      <td>1028</td>\n",
       "    </tr>\n",
       "    <tr>\n",
       "      <th>600</th>\n",
       "      <td>805</td>\n",
       "    </tr>\n",
       "    <tr>\n",
       "      <th>...</th>\n",
       "      <td>...</td>\n",
       "    </tr>\n",
       "    <tr>\n",
       "      <th>8000</th>\n",
       "      <td>1</td>\n",
       "    </tr>\n",
       "    <tr>\n",
       "      <th>14000</th>\n",
       "      <td>1</td>\n",
       "    </tr>\n",
       "    <tr>\n",
       "      <th>5200</th>\n",
       "      <td>1</td>\n",
       "    </tr>\n",
       "    <tr>\n",
       "      <th>80</th>\n",
       "      <td>1</td>\n",
       "    </tr>\n",
       "    <tr>\n",
       "      <th>70</th>\n",
       "      <td>1</td>\n",
       "    </tr>\n",
       "  </tbody>\n",
       "</table>\n",
       "<p>86 rows × 1 columns</p>\n",
       "</div>"
      ],
      "text/plain": [
       "       count\n",
       "COST        \n",
       "300     1592\n",
       "400     1356\n",
       "500     1297\n",
       "200     1028\n",
       "600      805\n",
       "...      ...\n",
       "8000       1\n",
       "14000      1\n",
       "5200       1\n",
       "80         1\n",
       "70         1\n",
       "\n",
       "[86 rows x 1 columns]"
      ]
     },
     "execution_count": 171,
     "metadata": {},
     "output_type": "execute_result"
    }
   ],
   "source": [
    "plt.figure(figsize=(7,5))\n",
    "plt.hist(df_train['COST'],bins=10,color='skyblue',edgecolor='black')\n",
    "plt.xlabel(\"COST Distribution\")\n",
    "plt.tight_layout()\n",
    "plt.show()\n",
    "\n",
    "df_train['COST'].value_counts().to_frame()"
   ]
  },
  {
   "cell_type": "markdown",
   "id": "b05faeea",
   "metadata": {},
   "source": [
    "**The Cost  Occurs between 0 to 6000**"
   ]
  },
  {
   "cell_type": "markdown",
   "id": "c59a4bba",
   "metadata": {},
   "source": [
    "# TITLE"
   ]
  },
  {
   "cell_type": "code",
   "execution_count": 172,
   "id": "cb798581",
   "metadata": {},
   "outputs": [
    {
     "data": {
      "image/png": "[encoded data removed]",
      "text/plain": [
       "<Figure size 700x500 with 1 Axes>"
      ]
     },
     "metadata": {},
     "output_type": "display_data"
    },
    {
     "data": {
      "text/html": [
       "<div>\n",
       "<style scoped>\n",
       "    .dataframe tbody tr th:only-of-type {\n",
       "        vertical-align: middle;\n",
       "    }\n",
       "\n",
       "    .dataframe tbody tr th {\n",
       "        vertical-align: top;\n",
       "    }\n",
       "\n",
       "    .dataframe thead th {\n",
       "        text-align: right;\n",
       "    }\n",
       "</style>\n",
       "<table border=\"1\" class=\"dataframe\">\n",
       "  <thead>\n",
       "    <tr style=\"text-align: right;\">\n",
       "      <th></th>\n",
       "      <th>count</th>\n",
       "    </tr>\n",
       "    <tr>\n",
       "      <th>TITLE</th>\n",
       "      <th></th>\n",
       "    </tr>\n",
       "  </thead>\n",
       "  <tbody>\n",
       "    <tr>\n",
       "      <th>94.0</th>\n",
       "      <td>5211</td>\n",
       "    </tr>\n",
       "    <tr>\n",
       "      <th>31.0</th>\n",
       "      <td>3644</td>\n",
       "    </tr>\n",
       "    <tr>\n",
       "      <th>22.0</th>\n",
       "      <td>605</td>\n",
       "    </tr>\n",
       "    <tr>\n",
       "      <th>50.0</th>\n",
       "      <td>381</td>\n",
       "    </tr>\n",
       "    <tr>\n",
       "      <th>33.0</th>\n",
       "      <td>349</td>\n",
       "    </tr>\n",
       "    <tr>\n",
       "      <th>...</th>\n",
       "      <td>...</td>\n",
       "    </tr>\n",
       "    <tr>\n",
       "      <th>5.0</th>\n",
       "      <td>1</td>\n",
       "    </tr>\n",
       "    <tr>\n",
       "      <th>45.0</th>\n",
       "      <td>1</td>\n",
       "    </tr>\n",
       "    <tr>\n",
       "      <th>102.0</th>\n",
       "      <td>1</td>\n",
       "    </tr>\n",
       "    <tr>\n",
       "      <th>1.0</th>\n",
       "      <td>1</td>\n",
       "    </tr>\n",
       "    <tr>\n",
       "      <th>14.0</th>\n",
       "      <td>1</td>\n",
       "    </tr>\n",
       "  </tbody>\n",
       "</table>\n",
       "<p>112 rows × 1 columns</p>\n",
       "</div>"
      ],
      "text/plain": [
       "       count\n",
       "TITLE       \n",
       "94.0    5211\n",
       "31.0    3644\n",
       "22.0     605\n",
       "50.0     381\n",
       "33.0     349\n",
       "...      ...\n",
       "5.0        1\n",
       "45.0       1\n",
       "102.0      1\n",
       "1.0        1\n",
       "14.0       1\n",
       "\n",
       "[112 rows x 1 columns]"
      ]
     },
     "execution_count": 172,
     "metadata": {},
     "output_type": "execute_result"
    }
   ],
   "source": [
    "plt.figure(figsize=(7,5))\n",
    "plt.hist(df_train['TITLE'],bins=10,color='skyblue',edgecolor='black')\n",
    "plt.xlabel(\"TITLE OF THE RESTAURANT\")\n",
    "plt.tight_layout()\n",
    "plt.show()\n",
    "\n",
    "df_train['TITLE'].value_counts().to_frame()"
   ]
  },
  {
   "cell_type": "markdown",
   "id": "91231945",
   "metadata": {},
   "source": [
    "**We encoded the title of the restaurant so only we can see the numbers of the restaurant title ,with the encoded number we can see the restaurant title**"
   ]
  },
  {
   "cell_type": "markdown",
   "id": "3d507560",
   "metadata": {},
   "source": [
    "# CUISINES"
   ]
  },
  {
   "cell_type": "code",
   "execution_count": 173,
   "id": "715c314c",
   "metadata": {},
   "outputs": [
    {
     "data": {
      "image/png": "[encoded data removed]",
      "text/plain": [
       "<Figure size 700x500 with 1 Axes>"
      ]
     },
     "metadata": {},
     "output_type": "display_data"
    },
    {
     "data": {
      "text/html": [
       "<div>\n",
       "<style scoped>\n",
       "    .dataframe tbody tr th:only-of-type {\n",
       "        vertical-align: middle;\n",
       "    }\n",
       "\n",
       "    .dataframe tbody tr th {\n",
       "        vertical-align: top;\n",
       "    }\n",
       "\n",
       "    .dataframe thead th {\n",
       "        text-align: right;\n",
       "    }\n",
       "</style>\n",
       "<table border=\"1\" class=\"dataframe\">\n",
       "  <thead>\n",
       "    <tr style=\"text-align: right;\">\n",
       "      <th></th>\n",
       "      <th>count</th>\n",
       "    </tr>\n",
       "    <tr>\n",
       "      <th>CUISINES</th>\n",
       "      <th></th>\n",
       "    </tr>\n",
       "  </thead>\n",
       "  <tbody>\n",
       "    <tr>\n",
       "      <th>3801.0</th>\n",
       "      <td>531</td>\n",
       "    </tr>\n",
       "    <tr>\n",
       "      <th>2850.0</th>\n",
       "      <td>524</td>\n",
       "    </tr>\n",
       "    <tr>\n",
       "      <th>2946.0</th>\n",
       "      <td>500</td>\n",
       "    </tr>\n",
       "    <tr>\n",
       "      <th>1893.0</th>\n",
       "      <td>286</td>\n",
       "    </tr>\n",
       "    <tr>\n",
       "      <th>1095.0</th>\n",
       "      <td>167</td>\n",
       "    </tr>\n",
       "    <tr>\n",
       "      <th>...</th>\n",
       "      <td>...</td>\n",
       "    </tr>\n",
       "    <tr>\n",
       "      <th>353.0</th>\n",
       "      <td>1</td>\n",
       "    </tr>\n",
       "    <tr>\n",
       "      <th>2376.0</th>\n",
       "      <td>1</td>\n",
       "    </tr>\n",
       "    <tr>\n",
       "      <th>132.0</th>\n",
       "      <td>1</td>\n",
       "    </tr>\n",
       "    <tr>\n",
       "      <th>2295.0</th>\n",
       "      <td>1</td>\n",
       "    </tr>\n",
       "    <tr>\n",
       "      <th>2088.0</th>\n",
       "      <td>1</td>\n",
       "    </tr>\n",
       "  </tbody>\n",
       "</table>\n",
       "<p>4155 rows × 1 columns</p>\n",
       "</div>"
      ],
      "text/plain": [
       "          count\n",
       "CUISINES       \n",
       "3801.0      531\n",
       "2850.0      524\n",
       "2946.0      500\n",
       "1893.0      286\n",
       "1095.0      167\n",
       "...         ...\n",
       "353.0         1\n",
       "2376.0        1\n",
       "132.0         1\n",
       "2295.0        1\n",
       "2088.0        1\n",
       "\n",
       "[4155 rows x 1 columns]"
      ]
     },
     "execution_count": 173,
     "metadata": {},
     "output_type": "execute_result"
    }
   ],
   "source": [
    "plt.figure(figsize=(7,5))\n",
    "plt.hist(df_train['CUISINES'],bins=10,color='skyblue',edgecolor='black')\n",
    "plt.xlabel(\"CUISINES OF THE RESTAURANT\")\n",
    "plt.tight_layout()\n",
    "plt.show()\n",
    "\n",
    "df_train['CUISINES'].value_counts().to_frame()"
   ]
  },
  {
   "cell_type": "markdown",
   "id": "eb1c1a10",
   "metadata": {},
   "source": [
    "**We encoded the CUISINES\t of the restaurant so only we can see the numbers of the restaurant CUISINES, with the encoded number we can see the restaurant CUISINES**"
   ]
  },
  {
   "cell_type": "markdown",
   "id": "691c1f94",
   "metadata": {},
   "source": [
    "# TIME"
   ]
  },
  {
   "cell_type": "code",
   "execution_count": 174,
   "id": "8be64376",
   "metadata": {},
   "outputs": [
    {
     "data": {
      "image/png": "[encoded data removed]",
      "text/plain": [
       "<Figure size 700x500 with 1 Axes>"
      ]
     },
     "metadata": {},
     "output_type": "display_data"
    },
    {
     "data": {
      "text/html": [
       "<div>\n",
       "<style scoped>\n",
       "    .dataframe tbody tr th:only-of-type {\n",
       "        vertical-align: middle;\n",
       "    }\n",
       "\n",
       "    .dataframe tbody tr th {\n",
       "        vertical-align: top;\n",
       "    }\n",
       "\n",
       "    .dataframe thead th {\n",
       "        text-align: right;\n",
       "    }\n",
       "</style>\n",
       "<table border=\"1\" class=\"dataframe\">\n",
       "  <thead>\n",
       "    <tr style=\"text-align: right;\">\n",
       "      <th></th>\n",
       "      <th>count</th>\n",
       "    </tr>\n",
       "    <tr>\n",
       "      <th>TIME</th>\n",
       "      <th></th>\n",
       "    </tr>\n",
       "  </thead>\n",
       "  <tbody>\n",
       "    <tr>\n",
       "      <th>555.0</th>\n",
       "      <td>1414</td>\n",
       "    </tr>\n",
       "    <tr>\n",
       "      <th>1156.0</th>\n",
       "      <td>468</td>\n",
       "    </tr>\n",
       "    <tr>\n",
       "      <th>1123.0</th>\n",
       "      <td>405</td>\n",
       "    </tr>\n",
       "    <tr>\n",
       "      <th>596.0</th>\n",
       "      <td>309</td>\n",
       "    </tr>\n",
       "    <tr>\n",
       "      <th>99.0</th>\n",
       "      <td>221</td>\n",
       "    </tr>\n",
       "    <tr>\n",
       "      <th>...</th>\n",
       "      <td>...</td>\n",
       "    </tr>\n",
       "    <tr>\n",
       "      <th>1449.0</th>\n",
       "      <td>1</td>\n",
       "    </tr>\n",
       "    <tr>\n",
       "      <th>965.0</th>\n",
       "      <td>1</td>\n",
       "    </tr>\n",
       "    <tr>\n",
       "      <th>969.0</th>\n",
       "      <td>1</td>\n",
       "    </tr>\n",
       "    <tr>\n",
       "      <th>271.0</th>\n",
       "      <td>1</td>\n",
       "    </tr>\n",
       "    <tr>\n",
       "      <th>1177.0</th>\n",
       "      <td>1</td>\n",
       "    </tr>\n",
       "  </tbody>\n",
       "</table>\n",
       "<p>2689 rows × 1 columns</p>\n",
       "</div>"
      ],
      "text/plain": [
       "        count\n",
       "TIME         \n",
       "555.0    1414\n",
       "1156.0    468\n",
       "1123.0    405\n",
       "596.0     309\n",
       "99.0      221\n",
       "...       ...\n",
       "1449.0      1\n",
       "965.0       1\n",
       "969.0       1\n",
       "271.0       1\n",
       "1177.0      1\n",
       "\n",
       "[2689 rows x 1 columns]"
      ]
     },
     "execution_count": 174,
     "metadata": {},
     "output_type": "execute_result"
    }
   ],
   "source": [
    "plt.figure(figsize=(7,5))\n",
    "plt.hist(df_train['TIME'],bins=10,color='skyblue',edgecolor='black')\n",
    "plt.xlabel(\"TIMING OF THE RESTAURANT\")\n",
    "plt.tight_layout()\n",
    "plt.show()\n",
    "\n",
    "df_train['TIME'].value_counts().to_frame()"
   ]
  },
  {
   "cell_type": "markdown",
   "id": "0a85ac7e",
   "metadata": {},
   "source": [
    "**We encoded the TIMING of the restaurant so only we can see the numbers of the restaurant TIMING ,with the encoded number we can see the restaurant TIMING**"
   ]
  },
  {
   "cell_type": "markdown",
   "id": "0687a265",
   "metadata": {},
   "source": [
    "# CITY"
   ]
  },
  {
   "cell_type": "code",
   "execution_count": 175,
   "id": "f2364890",
   "metadata": {},
   "outputs": [
    {
     "data": {
      "image/png": "[encoded data removed]",
      "text/plain": [
       "<Figure size 700x500 with 1 Axes>"
      ]
     },
     "metadata": {},
     "output_type": "display_data"
    },
    {
     "data": {
      "text/html": [
       "<div>\n",
       "<style scoped>\n",
       "    .dataframe tbody tr th:only-of-type {\n",
       "        vertical-align: middle;\n",
       "    }\n",
       "\n",
       "    .dataframe tbody tr th {\n",
       "        vertical-align: top;\n",
       "    }\n",
       "\n",
       "    .dataframe thead th {\n",
       "        text-align: right;\n",
       "    }\n",
       "</style>\n",
       "<table border=\"1\" class=\"dataframe\">\n",
       "  <thead>\n",
       "    <tr style=\"text-align: right;\">\n",
       "      <th></th>\n",
       "      <th>count</th>\n",
       "    </tr>\n",
       "    <tr>\n",
       "      <th>CITY</th>\n",
       "      <th></th>\n",
       "    </tr>\n",
       "  </thead>\n",
       "  <tbody>\n",
       "    <tr>\n",
       "      <th>67.0</th>\n",
       "      <td>2285</td>\n",
       "    </tr>\n",
       "    <tr>\n",
       "      <th>37.0</th>\n",
       "      <td>2145</td>\n",
       "    </tr>\n",
       "    <tr>\n",
       "      <th>131.0</th>\n",
       "      <td>1819</td>\n",
       "    </tr>\n",
       "    <tr>\n",
       "      <th>222.0</th>\n",
       "      <td>1713</td>\n",
       "    </tr>\n",
       "    <tr>\n",
       "      <th>252.0</th>\n",
       "      <td>1317</td>\n",
       "    </tr>\n",
       "    <tr>\n",
       "      <th>...</th>\n",
       "      <td>...</td>\n",
       "    </tr>\n",
       "    <tr>\n",
       "      <th>111.0</th>\n",
       "      <td>1</td>\n",
       "    </tr>\n",
       "    <tr>\n",
       "      <th>62.0</th>\n",
       "      <td>1</td>\n",
       "    </tr>\n",
       "    <tr>\n",
       "      <th>98.0</th>\n",
       "      <td>1</td>\n",
       "    </tr>\n",
       "    <tr>\n",
       "      <th>358.0</th>\n",
       "      <td>1</td>\n",
       "    </tr>\n",
       "    <tr>\n",
       "      <th>212.0</th>\n",
       "      <td>1</td>\n",
       "    </tr>\n",
       "  </tbody>\n",
       "</table>\n",
       "<p>359 rows × 1 columns</p>\n",
       "</div>"
      ],
      "text/plain": [
       "       count\n",
       "CITY        \n",
       "67.0    2285\n",
       "37.0    2145\n",
       "131.0   1819\n",
       "222.0   1713\n",
       "252.0   1317\n",
       "...      ...\n",
       "111.0      1\n",
       "62.0       1\n",
       "98.0       1\n",
       "358.0      1\n",
       "212.0      1\n",
       "\n",
       "[359 rows x 1 columns]"
      ]
     },
     "execution_count": 175,
     "metadata": {},
     "output_type": "execute_result"
    }
   ],
   "source": [
    "plt.figure(figsize=(7,5))\n",
    "plt.hist(df_train['CITY'],bins=10,color='skyblue',edgecolor='black')\n",
    "plt.xlabel(\"CITY OF THE RESTAURANT\")\n",
    "plt.tight_layout()\n",
    "plt.show()\n",
    "\n",
    "df_train['CITY'].value_counts().to_frame()"
   ]
  },
  {
   "cell_type": "markdown",
   "id": "e6a19f01",
   "metadata": {},
   "source": [
    "**We encoded the CITY of the restaurant so only we can see the numbers of the restaurant CITY ,with the encoded number we can see the restaurant CITY**"
   ]
  },
  {
   "cell_type": "markdown",
   "id": "a8474f3c",
   "metadata": {},
   "source": [
    "# LOCALITY"
   ]
  },
  {
   "cell_type": "code",
   "execution_count": 176,
   "id": "978ecb98",
   "metadata": {},
   "outputs": [
    {
     "data": {
      "image/png": "[encoded data removed]",
      "text/plain": [
       "<Figure size 700x500 with 1 Axes>"
      ]
     },
     "metadata": {},
     "output_type": "display_data"
    },
    {
     "data": {
      "text/html": [
       "<div>\n",
       "<style scoped>\n",
       "    .dataframe tbody tr th:only-of-type {\n",
       "        vertical-align: middle;\n",
       "    }\n",
       "\n",
       "    .dataframe tbody tr th {\n",
       "        vertical-align: top;\n",
       "    }\n",
       "\n",
       "    .dataframe thead th {\n",
       "        text-align: right;\n",
       "    }\n",
       "</style>\n",
       "<table border=\"1\" class=\"dataframe\">\n",
       "  <thead>\n",
       "    <tr style=\"text-align: right;\">\n",
       "      <th></th>\n",
       "      <th>count</th>\n",
       "    </tr>\n",
       "    <tr>\n",
       "      <th>LOCALITY</th>\n",
       "      <th></th>\n",
       "    </tr>\n",
       "  </thead>\n",
       "  <tbody>\n",
       "    <tr>\n",
       "      <th>342.0</th>\n",
       "      <td>264</td>\n",
       "    </tr>\n",
       "    <tr>\n",
       "      <th>430.0</th>\n",
       "      <td>137</td>\n",
       "    </tr>\n",
       "    <tr>\n",
       "      <th>309.0</th>\n",
       "      <td>122</td>\n",
       "    </tr>\n",
       "    <tr>\n",
       "      <th>484.0</th>\n",
       "      <td>121</td>\n",
       "    </tr>\n",
       "    <tr>\n",
       "      <th>397.0</th>\n",
       "      <td>119</td>\n",
       "    </tr>\n",
       "    <tr>\n",
       "      <th>...</th>\n",
       "      <td>...</td>\n",
       "    </tr>\n",
       "    <tr>\n",
       "      <th>416.0</th>\n",
       "      <td>1</td>\n",
       "    </tr>\n",
       "    <tr>\n",
       "      <th>898.0</th>\n",
       "      <td>1</td>\n",
       "    </tr>\n",
       "    <tr>\n",
       "      <th>1280.0</th>\n",
       "      <td>1</td>\n",
       "    </tr>\n",
       "    <tr>\n",
       "      <th>12.0</th>\n",
       "      <td>1</td>\n",
       "    </tr>\n",
       "    <tr>\n",
       "      <th>805.0</th>\n",
       "      <td>1</td>\n",
       "    </tr>\n",
       "  </tbody>\n",
       "</table>\n",
       "<p>1416 rows × 1 columns</p>\n",
       "</div>"
      ],
      "text/plain": [
       "          count\n",
       "LOCALITY       \n",
       "342.0       264\n",
       "430.0       137\n",
       "309.0       122\n",
       "484.0       121\n",
       "397.0       119\n",
       "...         ...\n",
       "416.0         1\n",
       "898.0         1\n",
       "1280.0        1\n",
       "12.0          1\n",
       "805.0         1\n",
       "\n",
       "[1416 rows x 1 columns]"
      ]
     },
     "execution_count": 176,
     "metadata": {},
     "output_type": "execute_result"
    }
   ],
   "source": [
    "plt.figure(figsize=(7,5))\n",
    "plt.hist(df_train['LOCALITY'],bins=10,color='skyblue',edgecolor='black')\n",
    "plt.xlabel(\"LOCALITY OF THE RESTAURANT\")\n",
    "plt.tight_layout()\n",
    "plt.show()\n",
    "\n",
    "df_train['LOCALITY'].value_counts().to_frame()"
   ]
  },
  {
   "cell_type": "markdown",
   "id": "7c38b273",
   "metadata": {},
   "source": [
    "**We encoded the LOCALITY of the restaurant so only we can see the numbers of the restaurant LOCALITY, with the encoded number we can see the restaurant LOCALITY**"
   ]
  },
  {
   "cell_type": "markdown",
   "id": "06367761",
   "metadata": {},
   "source": [
    "# RATING"
   ]
  },
  {
   "cell_type": "code",
   "execution_count": 177,
   "id": "1cb990be",
   "metadata": {},
   "outputs": [
    {
     "data": {
      "image/png": "[encoded data removed]",
      "text/plain": [
       "<Figure size 700x500 with 1 Axes>"
      ]
     },
     "metadata": {},
     "output_type": "display_data"
    },
    {
     "data": {
      "text/html": [
       "<div>\n",
       "<style scoped>\n",
       "    .dataframe tbody tr th:only-of-type {\n",
       "        vertical-align: middle;\n",
       "    }\n",
       "\n",
       "    .dataframe tbody tr th {\n",
       "        vertical-align: top;\n",
       "    }\n",
       "\n",
       "    .dataframe thead th {\n",
       "        text-align: right;\n",
       "    }\n",
       "</style>\n",
       "<table border=\"1\" class=\"dataframe\">\n",
       "  <thead>\n",
       "    <tr style=\"text-align: right;\">\n",
       "      <th></th>\n",
       "      <th>count</th>\n",
       "    </tr>\n",
       "    <tr>\n",
       "      <th>RATING</th>\n",
       "      <th></th>\n",
       "    </tr>\n",
       "  </thead>\n",
       "  <tbody>\n",
       "    <tr>\n",
       "      <th>20.0</th>\n",
       "      <td>1235</td>\n",
       "    </tr>\n",
       "    <tr>\n",
       "      <th>19.0</th>\n",
       "      <td>1187</td>\n",
       "    </tr>\n",
       "    <tr>\n",
       "      <th>21.0</th>\n",
       "      <td>1094</td>\n",
       "    </tr>\n",
       "    <tr>\n",
       "      <th>18.0</th>\n",
       "      <td>1086</td>\n",
       "    </tr>\n",
       "    <tr>\n",
       "      <th>17.0</th>\n",
       "      <td>951</td>\n",
       "    </tr>\n",
       "    <tr>\n",
       "      <th>22.0</th>\n",
       "      <td>932</td>\n",
       "    </tr>\n",
       "    <tr>\n",
       "      <th>16.0</th>\n",
       "      <td>768</td>\n",
       "    </tr>\n",
       "    <tr>\n",
       "      <th>23.0</th>\n",
       "      <td>723</td>\n",
       "    </tr>\n",
       "    <tr>\n",
       "      <th>31.0</th>\n",
       "      <td>704</td>\n",
       "    </tr>\n",
       "    <tr>\n",
       "      <th>15.0</th>\n",
       "      <td>574</td>\n",
       "    </tr>\n",
       "    <tr>\n",
       "      <th>24.0</th>\n",
       "      <td>556</td>\n",
       "    </tr>\n",
       "    <tr>\n",
       "      <th>0.0</th>\n",
       "      <td>492</td>\n",
       "    </tr>\n",
       "    <tr>\n",
       "      <th>14.0</th>\n",
       "      <td>365</td>\n",
       "    </tr>\n",
       "    <tr>\n",
       "      <th>25.0</th>\n",
       "      <td>362</td>\n",
       "    </tr>\n",
       "    <tr>\n",
       "      <th>13.0</th>\n",
       "      <td>266</td>\n",
       "    </tr>\n",
       "    <tr>\n",
       "      <th>26.0</th>\n",
       "      <td>199</td>\n",
       "    </tr>\n",
       "    <tr>\n",
       "      <th>10.0</th>\n",
       "      <td>186</td>\n",
       "    </tr>\n",
       "    <tr>\n",
       "      <th>12.0</th>\n",
       "      <td>186</td>\n",
       "    </tr>\n",
       "    <tr>\n",
       "      <th>11.0</th>\n",
       "      <td>170</td>\n",
       "    </tr>\n",
       "    <tr>\n",
       "      <th>9.0</th>\n",
       "      <td>146</td>\n",
       "    </tr>\n",
       "    <tr>\n",
       "      <th>27.0</th>\n",
       "      <td>141</td>\n",
       "    </tr>\n",
       "    <tr>\n",
       "      <th>8.0</th>\n",
       "      <td>89</td>\n",
       "    </tr>\n",
       "    <tr>\n",
       "      <th>28.0</th>\n",
       "      <td>68</td>\n",
       "    </tr>\n",
       "    <tr>\n",
       "      <th>7.0</th>\n",
       "      <td>61</td>\n",
       "    </tr>\n",
       "    <tr>\n",
       "      <th>6.0</th>\n",
       "      <td>35</td>\n",
       "    </tr>\n",
       "    <tr>\n",
       "      <th>29.0</th>\n",
       "      <td>32</td>\n",
       "    </tr>\n",
       "    <tr>\n",
       "      <th>30.0</th>\n",
       "      <td>22</td>\n",
       "    </tr>\n",
       "    <tr>\n",
       "      <th>5.0</th>\n",
       "      <td>15</td>\n",
       "    </tr>\n",
       "    <tr>\n",
       "      <th>4.0</th>\n",
       "      <td>10</td>\n",
       "    </tr>\n",
       "    <tr>\n",
       "      <th>2.0</th>\n",
       "      <td>3</td>\n",
       "    </tr>\n",
       "    <tr>\n",
       "      <th>1.0</th>\n",
       "      <td>2</td>\n",
       "    </tr>\n",
       "    <tr>\n",
       "      <th>3.0</th>\n",
       "      <td>2</td>\n",
       "    </tr>\n",
       "  </tbody>\n",
       "</table>\n",
       "</div>"
      ],
      "text/plain": [
       "        count\n",
       "RATING       \n",
       "20.0     1235\n",
       "19.0     1187\n",
       "21.0     1094\n",
       "18.0     1086\n",
       "17.0      951\n",
       "22.0      932\n",
       "16.0      768\n",
       "23.0      723\n",
       "31.0      704\n",
       "15.0      574\n",
       "24.0      556\n",
       "0.0       492\n",
       "14.0      365\n",
       "25.0      362\n",
       "13.0      266\n",
       "26.0      199\n",
       "10.0      186\n",
       "12.0      186\n",
       "11.0      170\n",
       "9.0       146\n",
       "27.0      141\n",
       "8.0        89\n",
       "28.0       68\n",
       "7.0        61\n",
       "6.0        35\n",
       "29.0       32\n",
       "30.0       22\n",
       "5.0        15\n",
       "4.0        10\n",
       "2.0         3\n",
       "1.0         2\n",
       "3.0         2"
      ]
     },
     "execution_count": 177,
     "metadata": {},
     "output_type": "execute_result"
    }
   ],
   "source": [
    "plt.figure(figsize=(7,5))\n",
    "plt.hist(df_train['RATING'],bins=10,color='skyblue',edgecolor='black')\n",
    "plt.xlabel(\"RATING OF THE RESTAURANT\")\n",
    "plt.tight_layout()\n",
    "plt.show()\n",
    "\n",
    "df_train['RATING'].value_counts().to_frame()"
   ]
  },
  {
   "cell_type": "markdown",
   "id": "a4e34173",
   "metadata": {},
   "source": [
    "**We encoded the RATING of the restaurant so only we can see the numbers of the restaurant RATING, with the encoded number we can see the restaurant RATING**"
   ]
  },
  {
   "cell_type": "markdown",
   "id": "226af1f7",
   "metadata": {},
   "source": [
    "# Correlation between target variable and independent variables"
   ]
  },
  {
   "cell_type": "code",
   "execution_count": 178,
   "id": "310c9520",
   "metadata": {},
   "outputs": [
    {
     "data": {
      "text/html": [
       "<div>\n",
       "<style scoped>\n",
       "    .dataframe tbody tr th:only-of-type {\n",
       "        vertical-align: middle;\n",
       "    }\n",
       "\n",
       "    .dataframe tbody tr th {\n",
       "        vertical-align: top;\n",
       "    }\n",
       "\n",
       "    .dataframe thead th {\n",
       "        text-align: right;\n",
       "    }\n",
       "</style>\n",
       "<table border=\"1\" class=\"dataframe\">\n",
       "  <thead>\n",
       "    <tr style=\"text-align: right;\">\n",
       "      <th></th>\n",
       "      <th>TITLE</th>\n",
       "      <th>CUISINES</th>\n",
       "      <th>TIME</th>\n",
       "      <th>CITY</th>\n",
       "      <th>LOCALITY</th>\n",
       "      <th>RATING</th>\n",
       "      <th>COST</th>\n",
       "    </tr>\n",
       "  </thead>\n",
       "  <tbody>\n",
       "    <tr>\n",
       "      <th>TITLE</th>\n",
       "      <td>1.000000</td>\n",
       "      <td>0.242539</td>\n",
       "      <td>0.055944</td>\n",
       "      <td>-0.013249</td>\n",
       "      <td>0.026792</td>\n",
       "      <td>-0.035376</td>\n",
       "      <td>-0.264500</td>\n",
       "    </tr>\n",
       "    <tr>\n",
       "      <th>CUISINES</th>\n",
       "      <td>0.242539</td>\n",
       "      <td>1.000000</td>\n",
       "      <td>0.105652</td>\n",
       "      <td>0.024103</td>\n",
       "      <td>0.017422</td>\n",
       "      <td>-0.038904</td>\n",
       "      <td>-0.014372</td>\n",
       "    </tr>\n",
       "    <tr>\n",
       "      <th>TIME</th>\n",
       "      <td>0.055944</td>\n",
       "      <td>0.105652</td>\n",
       "      <td>1.000000</td>\n",
       "      <td>-0.011289</td>\n",
       "      <td>-0.008690</td>\n",
       "      <td>-0.034219</td>\n",
       "      <td>0.018615</td>\n",
       "    </tr>\n",
       "    <tr>\n",
       "      <th>CITY</th>\n",
       "      <td>-0.013249</td>\n",
       "      <td>0.024103</td>\n",
       "      <td>-0.011289</td>\n",
       "      <td>1.000000</td>\n",
       "      <td>0.042993</td>\n",
       "      <td>0.026132</td>\n",
       "      <td>0.044868</td>\n",
       "    </tr>\n",
       "    <tr>\n",
       "      <th>LOCALITY</th>\n",
       "      <td>0.026792</td>\n",
       "      <td>0.017422</td>\n",
       "      <td>-0.008690</td>\n",
       "      <td>0.042993</td>\n",
       "      <td>1.000000</td>\n",
       "      <td>-0.022727</td>\n",
       "      <td>-0.015042</td>\n",
       "    </tr>\n",
       "    <tr>\n",
       "      <th>RATING</th>\n",
       "      <td>-0.035376</td>\n",
       "      <td>-0.038904</td>\n",
       "      <td>-0.034219</td>\n",
       "      <td>0.026132</td>\n",
       "      <td>-0.022727</td>\n",
       "      <td>1.000000</td>\n",
       "      <td>0.236995</td>\n",
       "    </tr>\n",
       "    <tr>\n",
       "      <th>COST</th>\n",
       "      <td>-0.264500</td>\n",
       "      <td>-0.014372</td>\n",
       "      <td>0.018615</td>\n",
       "      <td>0.044868</td>\n",
       "      <td>-0.015042</td>\n",
       "      <td>0.236995</td>\n",
       "      <td>1.000000</td>\n",
       "    </tr>\n",
       "  </tbody>\n",
       "</table>\n",
       "</div>"
      ],
      "text/plain": [
       "             TITLE  CUISINES      TIME      CITY  LOCALITY    RATING      COST\n",
       "TITLE     1.000000  0.242539  0.055944 -0.013249  0.026792 -0.035376 -0.264500\n",
       "CUISINES  0.242539  1.000000  0.105652  0.024103  0.017422 -0.038904 -0.014372\n",
       "TIME      0.055944  0.105652  1.000000 -0.011289 -0.008690 -0.034219  0.018615\n",
       "CITY     -0.013249  0.024103 -0.011289  1.000000  0.042993  0.026132  0.044868\n",
       "LOCALITY  0.026792  0.017422 -0.008690  0.042993  1.000000 -0.022727 -0.015042\n",
       "RATING   -0.035376 -0.038904 -0.034219  0.026132 -0.022727  1.000000  0.236995\n",
       "COST     -0.264500 -0.014372  0.018615  0.044868 -0.015042  0.236995  1.000000"
      ]
     },
     "execution_count": 178,
     "metadata": {},
     "output_type": "execute_result"
    }
   ],
   "source": [
    "df_train.corr()"
   ]
  },
  {
   "cell_type": "code",
   "execution_count": 179,
   "id": "655787db",
   "metadata": {},
   "outputs": [
    {
     "data": {
      "image/png": "[encoded data removed]",
      "text/plain": [
       "<Figure size 1200x600 with 2 Axes>"
      ]
     },
     "metadata": {},
     "output_type": "display_data"
    }
   ],
   "source": [
    "# Visualizing the correlation matrix by plotting heatmap\n",
    "\n",
    "df_train_corr=df_train.corr()\n",
    "\n",
    "lower_triangle=np.tril(df_train.corr())\n",
    "\n",
    "plt.figure(figsize=(12,6))\n",
    "\n",
    "sns.heatmap(df_train_corr,annot=True,annot_kws={\"size\":6},cmap='coolwarm',linewidths=0.1,fmt='.3f',mask=lower_triangle)\n",
    "\n",
    "plt.show()"
   ]
  },
  {
   "cell_type": "markdown",
   "id": "181df630",
   "metadata": {},
   "source": [
    "**==>0-no relation**\n",
    "\n",
    "**==>-0.3 to 0.3 less relation**\n",
    "\n",
    "**==>greater than -0.5 or 0.5 greater than(moderate correlation)**\n",
    "\n",
    "**==>greater than -0.7 or 0.7 greater than(high correlation**\n",
    "\n",
    "\n",
    "**1) From above heatmap we can see,there are positive correlation and negative correlation between label and feature columns**\n",
    "\n",
    "**2)COST(Target variable) and TITLE are negatively correlated with a value of -0.264 (Moderate correlation).**\n",
    "\n",
    "**3)COST(Target variable) and RATING are postively correlated with a value of 0.257 (Moderate correlation).**\n",
    "\n",
    "**4)CUSINESS and TITLE are postively correlated with a value of 0.243 (Moderate correlation).**"
   ]
  },
  {
   "cell_type": "markdown",
   "id": "520b67ce",
   "metadata": {},
   "source": [
    "# Checking outliers with box plot"
   ]
  },
  {
   "cell_type": "code",
   "execution_count": 180,
   "id": "37997d58",
   "metadata": {},
   "outputs": [
    {
     "data": {
      "image/png": "[encoded data removed]",
      "text/plain": [
       "<Figure size 2000x2500 with 7 Axes>"
      ]
     },
     "metadata": {},
     "output_type": "display_data"
    }
   ],
   "source": [
    "plt.figure(figsize=(20,25))\n",
    "p=1\n",
    "for i in df_train:\n",
    "    if p<=13:\n",
    "        plt.subplot(5,4,p)\n",
    "        sns.boxplot(df_train[i],palette=\"Set2_r\")\n",
    "        plt.xlabel(i)\n",
    "    p+=1\n",
    "    \n",
    "plt.show()"
   ]
  },
  {
   "cell_type": "markdown",
   "id": "febc5ff8",
   "metadata": {},
   "source": [
    "**We can see clearly outliers  presented in RATING,COST**"
   ]
  },
  {
   "cell_type": "markdown",
   "id": "f23395c9",
   "metadata": {},
   "source": [
    "# Checking for skewness"
   ]
  },
  {
   "cell_type": "code",
   "execution_count": 181,
   "id": "6b4bb88f",
   "metadata": {},
   "outputs": [
    {
     "data": {
      "image/png": "[encoded data removed]",
      "text/plain": [
       "<Figure size 2000x2500 with 7 Axes>"
      ]
     },
     "metadata": {},
     "output_type": "display_data"
    }
   ],
   "source": [
    "plt.figure(figsize=(20,25))\n",
    "plotnumber=1\n",
    "for i in df_train:\n",
    "    if plotnumber<=13:\n",
    "        plt.subplot(5,4,plotnumber)\n",
    "        sns.distplot(df_train[i],color='r',hist=False)\n",
    "        plt.xlabel(i)\n",
    "    plotnumber+=1\n",
    "    \n",
    "plt.show()"
   ]
  },
  {
   "cell_type": "markdown",
   "id": "99a13519",
   "metadata": {},
   "source": [
    "**We can see clearly skewness presented in the columns**"
   ]
  },
  {
   "cell_type": "markdown",
   "id": "c16f85a1",
   "metadata": {},
   "source": [
    "**COST column is right skewed ,reducing skewness in the target variable can be beneficial**"
   ]
  },
  {
   "cell_type": "markdown",
   "id": "74216134",
   "metadata": {},
   "source": [
    "**I checked my model performance with and without skewness ,outliers,my model performance was good when the skewness and outliers are removed.**"
   ]
  },
  {
   "cell_type": "markdown",
   "id": "e4ce2f58",
   "metadata": {},
   "source": [
    "# Data Preprocessing"
   ]
  },
  {
   "cell_type": "markdown",
   "id": "d39e3c8e",
   "metadata": {},
   "source": [
    "# Removing outliers"
   ]
  },
  {
   "cell_type": "code",
   "execution_count": 182,
   "id": "974a8e92",
   "metadata": {},
   "outputs": [
    {
     "data": {
      "text/html": [
       "<div>\n",
       "<style scoped>\n",
       "    .dataframe tbody tr th:only-of-type {\n",
       "        vertical-align: middle;\n",
       "    }\n",
       "\n",
       "    .dataframe tbody tr th {\n",
       "        vertical-align: top;\n",
       "    }\n",
       "\n",
       "    .dataframe thead th {\n",
       "        text-align: right;\n",
       "    }\n",
       "</style>\n",
       "<table border=\"1\" class=\"dataframe\">\n",
       "  <thead>\n",
       "    <tr style=\"text-align: right;\">\n",
       "      <th></th>\n",
       "      <th>TITLE</th>\n",
       "      <th>CUISINES</th>\n",
       "      <th>TIME</th>\n",
       "      <th>CITY</th>\n",
       "      <th>LOCALITY</th>\n",
       "      <th>RATING</th>\n",
       "      <th>COST</th>\n",
       "    </tr>\n",
       "  </thead>\n",
       "  <tbody>\n",
       "    <tr>\n",
       "      <th>0</th>\n",
       "      <td>0.871683</td>\n",
       "      <td>0.325546</td>\n",
       "      <td>0.584711</td>\n",
       "      <td>2.119375</td>\n",
       "      <td>0.920656</td>\n",
       "      <td>0.290638</td>\n",
       "      <td>0.867857</td>\n",
       "    </tr>\n",
       "    <tr>\n",
       "      <th>1</th>\n",
       "      <td>0.810882</td>\n",
       "      <td>1.616382</td>\n",
       "      <td>0.934557</td>\n",
       "      <td>0.896341</td>\n",
       "      <td>0.986362</td>\n",
       "      <td>0.680696</td>\n",
       "      <td>1.346019</td>\n",
       "    </tr>\n",
       "    <tr>\n",
       "      <th>2</th>\n",
       "      <td>0.871683</td>\n",
       "      <td>0.615423</td>\n",
       "      <td>0.688117</td>\n",
       "      <td>0.896341</td>\n",
       "      <td>1.124188</td>\n",
       "      <td>0.033140</td>\n",
       "      <td>0.230307</td>\n",
       "    </tr>\n",
       "    <tr>\n",
       "      <th>3</th>\n",
       "      <td>1.043557</td>\n",
       "      <td>1.573928</td>\n",
       "      <td>1.199843</td>\n",
       "      <td>0.951232</td>\n",
       "      <td>1.294041</td>\n",
       "      <td>0.518807</td>\n",
       "      <td>0.230307</td>\n",
       "    </tr>\n",
       "    <tr>\n",
       "      <th>4</th>\n",
       "      <td>0.294071</td>\n",
       "      <td>0.389595</td>\n",
       "      <td>0.749100</td>\n",
       "      <td>0.951232</td>\n",
       "      <td>0.081167</td>\n",
       "      <td>0.033140</td>\n",
       "      <td>0.566630</td>\n",
       "    </tr>\n",
       "    <tr>\n",
       "      <th>...</th>\n",
       "      <td>...</td>\n",
       "      <td>...</td>\n",
       "      <td>...</td>\n",
       "      <td>...</td>\n",
       "      <td>...</td>\n",
       "      <td>...</td>\n",
       "      <td>...</td>\n",
       "    </tr>\n",
       "    <tr>\n",
       "      <th>12685</th>\n",
       "      <td>1.043557</td>\n",
       "      <td>0.580538</td>\n",
       "      <td>0.047797</td>\n",
       "      <td>0.133472</td>\n",
       "      <td>0.777818</td>\n",
       "      <td>0.033140</td>\n",
       "      <td>0.247855</td>\n",
       "    </tr>\n",
       "    <tr>\n",
       "      <th>12686</th>\n",
       "      <td>0.810882</td>\n",
       "      <td>0.076461</td>\n",
       "      <td>0.004049</td>\n",
       "      <td>0.951232</td>\n",
       "      <td>1.301559</td>\n",
       "      <td>0.842585</td>\n",
       "      <td>1.824181</td>\n",
       "    </tr>\n",
       "    <tr>\n",
       "      <th>12687</th>\n",
       "      <td>0.344342</td>\n",
       "      <td>0.122144</td>\n",
       "      <td>0.057077</td>\n",
       "      <td>1.153869</td>\n",
       "      <td>1.728119</td>\n",
       "      <td>0.356918</td>\n",
       "      <td>1.027244</td>\n",
       "    </tr>\n",
       "    <tr>\n",
       "      <th>12688</th>\n",
       "      <td>0.871683</td>\n",
       "      <td>1.055638</td>\n",
       "      <td>0.870923</td>\n",
       "      <td>0.896341</td>\n",
       "      <td>0.053602</td>\n",
       "      <td>0.452527</td>\n",
       "      <td>0.407242</td>\n",
       "    </tr>\n",
       "    <tr>\n",
       "      <th>12689</th>\n",
       "      <td>0.871683</td>\n",
       "      <td>0.590506</td>\n",
       "      <td>0.457443</td>\n",
       "      <td>0.133472</td>\n",
       "      <td>1.705566</td>\n",
       "      <td>0.614417</td>\n",
       "      <td>0.088468</td>\n",
       "    </tr>\n",
       "  </tbody>\n",
       "</table>\n",
       "<p>12662 rows × 7 columns</p>\n",
       "</div>"
      ],
      "text/plain": [
       "          TITLE  CUISINES      TIME      CITY  LOCALITY    RATING      COST\n",
       "0      0.871683  0.325546  0.584711  2.119375  0.920656  0.290638  0.867857\n",
       "1      0.810882  1.616382  0.934557  0.896341  0.986362  0.680696  1.346019\n",
       "2      0.871683  0.615423  0.688117  0.896341  1.124188  0.033140  0.230307\n",
       "3      1.043557  1.573928  1.199843  0.951232  1.294041  0.518807  0.230307\n",
       "4      0.294071  0.389595  0.749100  0.951232  0.081167  0.033140  0.566630\n",
       "...         ...       ...       ...       ...       ...       ...       ...\n",
       "12685  1.043557  0.580538  0.047797  0.133472  0.777818  0.033140  0.247855\n",
       "12686  0.810882  0.076461  0.004049  0.951232  1.301559  0.842585  1.824181\n",
       "12687  0.344342  0.122144  0.057077  1.153869  1.728119  0.356918  1.027244\n",
       "12688  0.871683  1.055638  0.870923  0.896341  0.053602  0.452527  0.407242\n",
       "12689  0.871683  0.590506  0.457443  0.133472  1.705566  0.614417  0.088468\n",
       "\n",
       "[12662 rows x 7 columns]"
      ]
     },
     "execution_count": 182,
     "metadata": {},
     "output_type": "execute_result"
    }
   ],
   "source": [
    "z = np.abs(zscore(df_train))  #Zscore method for removing outliers\n",
    "z"
   ]
  },
  {
   "cell_type": "code",
   "execution_count": 183,
   "id": "46b85bfc",
   "metadata": {},
   "outputs": [],
   "source": [
    "# threshold = 3\n",
    "df_train= df_train[(z<3).all(axis=1)]"
   ]
  },
  {
   "cell_type": "code",
   "execution_count": 184,
   "id": "d6698c23",
   "metadata": {},
   "outputs": [
    {
     "name": "stdout",
     "output_type": "stream",
     "text": [
      "The rows and columns in the new training dataset: (11947, 7)\n"
     ]
    }
   ],
   "source": [
    "print(f\"The rows and columns in the new training dataset: {df_train.shape}\")"
   ]
  },
  {
   "cell_type": "markdown",
   "id": "308df3c2",
   "metadata": {},
   "source": [
    "**In the new dataset there are 11947 rows and 7 columns.**"
   ]
  },
  {
   "cell_type": "code",
   "execution_count": 185,
   "id": "14ba6ec4",
   "metadata": {},
   "outputs": [
    {
     "data": {
      "text/html": [
       "<div>\n",
       "<style scoped>\n",
       "    .dataframe tbody tr th:only-of-type {\n",
       "        vertical-align: middle;\n",
       "    }\n",
       "\n",
       "    .dataframe tbody tr th {\n",
       "        vertical-align: top;\n",
       "    }\n",
       "\n",
       "    .dataframe thead th {\n",
       "        text-align: right;\n",
       "    }\n",
       "</style>\n",
       "<table border=\"1\" class=\"dataframe\">\n",
       "  <thead>\n",
       "    <tr style=\"text-align: right;\">\n",
       "      <th></th>\n",
       "      <th>TITLE</th>\n",
       "      <th>CUISINES</th>\n",
       "      <th>TIME</th>\n",
       "      <th>CITY</th>\n",
       "      <th>LOCALITY</th>\n",
       "      <th>RATING</th>\n",
       "      <th>COST</th>\n",
       "    </tr>\n",
       "  </thead>\n",
       "  <tbody>\n",
       "    <tr>\n",
       "      <th>0</th>\n",
       "      <td>31.0</td>\n",
       "      <td>2627.0</td>\n",
       "      <td>739.0</td>\n",
       "      <td>320.0</td>\n",
       "      <td>285.0</td>\n",
       "      <td>17.0</td>\n",
       "      <td>1200</td>\n",
       "    </tr>\n",
       "    <tr>\n",
       "      <th>1</th>\n",
       "      <td>33.0</td>\n",
       "      <td>289.0</td>\n",
       "      <td>1885.0</td>\n",
       "      <td>67.0</td>\n",
       "      <td>1046.0</td>\n",
       "      <td>23.0</td>\n",
       "      <td>1500</td>\n",
       "    </tr>\n",
       "    <tr>\n",
       "      <th>2</th>\n",
       "      <td>31.0</td>\n",
       "      <td>2976.0</td>\n",
       "      <td>661.0</td>\n",
       "      <td>67.0</td>\n",
       "      <td>1101.0</td>\n",
       "      <td>19.0</td>\n",
       "      <td>800</td>\n",
       "    </tr>\n",
       "    <tr>\n",
       "      <th>3</th>\n",
       "      <td>94.0</td>\n",
       "      <td>4130.0</td>\n",
       "      <td>275.0</td>\n",
       "      <td>222.0</td>\n",
       "      <td>136.0</td>\n",
       "      <td>22.0</td>\n",
       "      <td>800</td>\n",
       "    </tr>\n",
       "    <tr>\n",
       "      <th>4</th>\n",
       "      <td>50.0</td>\n",
       "      <td>1766.0</td>\n",
       "      <td>615.0</td>\n",
       "      <td>222.0</td>\n",
       "      <td>620.0</td>\n",
       "      <td>19.0</td>\n",
       "      <td>300</td>\n",
       "    </tr>\n",
       "    <tr>\n",
       "      <th>...</th>\n",
       "      <td>...</td>\n",
       "      <td>...</td>\n",
       "      <td>...</td>\n",
       "      <td>...</td>\n",
       "      <td>...</td>\n",
       "      <td>...</td>\n",
       "      <td>...</td>\n",
       "    </tr>\n",
       "    <tr>\n",
       "      <th>12685</th>\n",
       "      <td>94.0</td>\n",
       "      <td>2934.0</td>\n",
       "      <td>1144.0</td>\n",
       "      <td>131.0</td>\n",
       "      <td>342.0</td>\n",
       "      <td>19.0</td>\n",
       "      <td>500</td>\n",
       "    </tr>\n",
       "    <tr>\n",
       "      <th>12686</th>\n",
       "      <td>33.0</td>\n",
       "      <td>2143.0</td>\n",
       "      <td>1177.0</td>\n",
       "      <td>222.0</td>\n",
       "      <td>133.0</td>\n",
       "      <td>24.0</td>\n",
       "      <td>1800</td>\n",
       "    </tr>\n",
       "    <tr>\n",
       "      <th>12687</th>\n",
       "      <td>71.0</td>\n",
       "      <td>2088.0</td>\n",
       "      <td>1137.0</td>\n",
       "      <td>239.0</td>\n",
       "      <td>1342.0</td>\n",
       "      <td>21.0</td>\n",
       "      <td>1300</td>\n",
       "    </tr>\n",
       "    <tr>\n",
       "      <th>12688</th>\n",
       "      <td>31.0</td>\n",
       "      <td>3506.0</td>\n",
       "      <td>1837.0</td>\n",
       "      <td>67.0</td>\n",
       "      <td>631.0</td>\n",
       "      <td>16.0</td>\n",
       "      <td>400</td>\n",
       "    </tr>\n",
       "    <tr>\n",
       "      <th>12689</th>\n",
       "      <td>31.0</td>\n",
       "      <td>2946.0</td>\n",
       "      <td>835.0</td>\n",
       "      <td>131.0</td>\n",
       "      <td>1333.0</td>\n",
       "      <td>15.0</td>\n",
       "      <td>600</td>\n",
       "    </tr>\n",
       "  </tbody>\n",
       "</table>\n",
       "<p>11947 rows × 7 columns</p>\n",
       "</div>"
      ],
      "text/plain": [
       "       TITLE  CUISINES    TIME   CITY  LOCALITY  RATING  COST\n",
       "0       31.0    2627.0   739.0  320.0     285.0    17.0  1200\n",
       "1       33.0     289.0  1885.0   67.0    1046.0    23.0  1500\n",
       "2       31.0    2976.0   661.0   67.0    1101.0    19.0   800\n",
       "3       94.0    4130.0   275.0  222.0     136.0    22.0   800\n",
       "4       50.0    1766.0   615.0  222.0     620.0    19.0   300\n",
       "...      ...       ...     ...    ...       ...     ...   ...\n",
       "12685   94.0    2934.0  1144.0  131.0     342.0    19.0   500\n",
       "12686   33.0    2143.0  1177.0  222.0     133.0    24.0  1800\n",
       "12687   71.0    2088.0  1137.0  239.0    1342.0    21.0  1300\n",
       "12688   31.0    3506.0  1837.0   67.0     631.0    16.0   400\n",
       "12689   31.0    2946.0   835.0  131.0    1333.0    15.0   600\n",
       "\n",
       "[11947 rows x 7 columns]"
      ]
     },
     "execution_count": 185,
     "metadata": {},
     "output_type": "execute_result"
    }
   ],
   "source": [
    "df_train"
   ]
  },
  {
   "cell_type": "markdown",
   "id": "21ec2c14",
   "metadata": {},
   "source": [
    "**The outlier removal must be done only on the training set to preserve the integrity of the test data.**"
   ]
  },
  {
   "cell_type": "markdown",
   "id": "2a2761ed",
   "metadata": {},
   "source": [
    "# Skewness Correction"
   ]
  },
  {
   "cell_type": "code",
   "execution_count": 186,
   "id": "192b2bf1",
   "metadata": {},
   "outputs": [
    {
     "data": {
      "text/html": [
       "<div>\n",
       "<style scoped>\n",
       "    .dataframe tbody tr th:only-of-type {\n",
       "        vertical-align: middle;\n",
       "    }\n",
       "\n",
       "    .dataframe tbody tr th {\n",
       "        vertical-align: top;\n",
       "    }\n",
       "\n",
       "    .dataframe thead th {\n",
       "        text-align: right;\n",
       "    }\n",
       "</style>\n",
       "<table border=\"1\" class=\"dataframe\">\n",
       "  <thead>\n",
       "    <tr style=\"text-align: right;\">\n",
       "      <th></th>\n",
       "      <th>Skewness</th>\n",
       "    </tr>\n",
       "  </thead>\n",
       "  <tbody>\n",
       "    <tr>\n",
       "      <th>COST</th>\n",
       "      <td>1.738003</td>\n",
       "    </tr>\n",
       "    <tr>\n",
       "      <th>LOCALITY</th>\n",
       "      <td>0.344051</td>\n",
       "    </tr>\n",
       "    <tr>\n",
       "      <th>TIME</th>\n",
       "      <td>0.341605</td>\n",
       "    </tr>\n",
       "    <tr>\n",
       "      <th>CITY</th>\n",
       "      <td>0.308423</td>\n",
       "    </tr>\n",
       "    <tr>\n",
       "      <th>RATING</th>\n",
       "      <td>0.142275</td>\n",
       "    </tr>\n",
       "    <tr>\n",
       "      <th>TITLE</th>\n",
       "      <td>-0.082338</td>\n",
       "    </tr>\n",
       "    <tr>\n",
       "      <th>CUISINES</th>\n",
       "      <td>-0.215673</td>\n",
       "    </tr>\n",
       "  </tbody>\n",
       "</table>\n",
       "</div>"
      ],
      "text/plain": [
       "          Skewness\n",
       "COST      1.738003\n",
       "LOCALITY  0.344051\n",
       "TIME      0.341605\n",
       "CITY      0.308423\n",
       "RATING    0.142275\n",
       "TITLE    -0.082338\n",
       "CUISINES -0.215673"
      ]
     },
     "execution_count": 186,
     "metadata": {},
     "output_type": "execute_result"
    }
   ],
   "source": [
    "# Checking the skewness in the data\n",
    "df_train_skew = df_train.skew().sort_values(ascending=False).to_frame(\"Skewness\")\n",
    "df_train_skew"
   ]
  },
  {
   "cell_type": "code",
   "execution_count": 187,
   "id": "89ef8fb6",
   "metadata": {},
   "outputs": [
    {
     "data": {
      "text/html": [
       "<div>\n",
       "<style scoped>\n",
       "    .dataframe tbody tr th:only-of-type {\n",
       "        vertical-align: middle;\n",
       "    }\n",
       "\n",
       "    .dataframe tbody tr th {\n",
       "        vertical-align: top;\n",
       "    }\n",
       "\n",
       "    .dataframe thead th {\n",
       "        text-align: right;\n",
       "    }\n",
       "</style>\n",
       "<table border=\"1\" class=\"dataframe\">\n",
       "  <thead>\n",
       "    <tr style=\"text-align: right;\">\n",
       "      <th></th>\n",
       "      <th>Skewness</th>\n",
       "    </tr>\n",
       "  </thead>\n",
       "  <tbody>\n",
       "    <tr>\n",
       "      <th>COST</th>\n",
       "      <td>1.738003</td>\n",
       "    </tr>\n",
       "  </tbody>\n",
       "</table>\n",
       "</div>"
      ],
      "text/plain": [
       "      Skewness\n",
       "COST  1.738003"
      ]
     },
     "execution_count": 187,
     "metadata": {},
     "output_type": "execute_result"
    }
   ],
   "source": [
    "df_train_skew[(df_train_skew['Skewness'] > 0.5) | (df_train_skew['Skewness'] < -0.5)] #the features with a skew > 0.5 or -0.5"
   ]
  },
  {
   "cell_type": "markdown",
   "id": "25fb5c5e",
   "metadata": {},
   "source": [
    "**Acceptance range for skewness is -0.5 to 0.5**"
   ]
  },
  {
   "cell_type": "markdown",
   "id": "c5402fda",
   "metadata": {},
   "source": [
    "**Considering the skewness of the continuous numerical columns**\n",
    "\n",
    "**==>COST(1.738003)**"
   ]
  },
  {
   "cell_type": "code",
   "execution_count": 188,
   "id": "24e728e9",
   "metadata": {},
   "outputs": [],
   "source": [
    "# Checking skewness using cuberoot method , log method and square root\n",
    "skew_columns = ['COST']\n",
    "df_transformed = pd.DataFrame()\n",
    "\n",
    "for col in skew_columns:\n",
    "    df_transformed[f\"{col}_cbrt\"] = np.cbrt(df_train[col])\n",
    "    df_transformed[f\"{col}_log\"] = np.log(df_train[col])\n",
    "    df_transformed[f\"{col}_sqrt\"] = np.sqrt(df_train[col])\n",
    "        \n",
    "# Adding the other columns\n",
    "df_transformed = pd.concat([df_transformed, df_train[skew_columns]], axis=1)"
   ]
  },
  {
   "cell_type": "code",
   "execution_count": 189,
   "id": "d28a81dc",
   "metadata": {},
   "outputs": [
    {
     "data": {
      "text/html": [
       "<div>\n",
       "<style scoped>\n",
       "    .dataframe tbody tr th:only-of-type {\n",
       "        vertical-align: middle;\n",
       "    }\n",
       "\n",
       "    .dataframe tbody tr th {\n",
       "        vertical-align: top;\n",
       "    }\n",
       "\n",
       "    .dataframe thead th {\n",
       "        text-align: right;\n",
       "    }\n",
       "</style>\n",
       "<table border=\"1\" class=\"dataframe\">\n",
       "  <thead>\n",
       "    <tr style=\"text-align: right;\">\n",
       "      <th></th>\n",
       "      <th>Skewness</th>\n",
       "    </tr>\n",
       "  </thead>\n",
       "  <tbody>\n",
       "    <tr>\n",
       "      <th>COST_sqrt</th>\n",
       "      <td>0.977261</td>\n",
       "    </tr>\n",
       "    <tr>\n",
       "      <th>COST_log</th>\n",
       "      <td>0.171710</td>\n",
       "    </tr>\n",
       "    <tr>\n",
       "      <th>COST_cbrt</th>\n",
       "      <td>0.715922</td>\n",
       "    </tr>\n",
       "    <tr>\n",
       "      <th>COST</th>\n",
       "      <td>1.738003</td>\n",
       "    </tr>\n",
       "  </tbody>\n",
       "</table>\n",
       "</div>"
      ],
      "text/plain": [
       "           Skewness\n",
       "COST_sqrt  0.977261\n",
       "COST_log   0.171710\n",
       "COST_cbrt  0.715922\n",
       "COST       1.738003"
      ]
     },
     "execution_count": 189,
     "metadata": {},
     "output_type": "execute_result"
    }
   ],
   "source": [
    "# Comparing which transform method give better results\n",
    "df_transformed.skew().sort_index(ascending=False).to_frame(\"Skewness\")"
   ]
  },
  {
   "cell_type": "markdown",
   "id": "7ad1c03e",
   "metadata": {},
   "source": [
    "**==>log method is better for COST.**"
   ]
  },
  {
   "cell_type": "code",
   "execution_count": 190,
   "id": "4debda32",
   "metadata": {},
   "outputs": [],
   "source": [
    "# Log transformation\n",
    "df_train['COST'] = np.log(df_train['COST'])"
   ]
  },
  {
   "cell_type": "code",
   "execution_count": 191,
   "id": "257f043c",
   "metadata": {},
   "outputs": [
    {
     "data": {
      "text/html": [
       "<div>\n",
       "<style scoped>\n",
       "    .dataframe tbody tr th:only-of-type {\n",
       "        vertical-align: middle;\n",
       "    }\n",
       "\n",
       "    .dataframe tbody tr th {\n",
       "        vertical-align: top;\n",
       "    }\n",
       "\n",
       "    .dataframe thead th {\n",
       "        text-align: right;\n",
       "    }\n",
       "</style>\n",
       "<table border=\"1\" class=\"dataframe\">\n",
       "  <thead>\n",
       "    <tr style=\"text-align: right;\">\n",
       "      <th></th>\n",
       "      <th>Skewness after transformation</th>\n",
       "    </tr>\n",
       "  </thead>\n",
       "  <tbody>\n",
       "    <tr>\n",
       "      <th>LOCALITY</th>\n",
       "      <td>0.344051</td>\n",
       "    </tr>\n",
       "    <tr>\n",
       "      <th>TIME</th>\n",
       "      <td>0.341605</td>\n",
       "    </tr>\n",
       "    <tr>\n",
       "      <th>CITY</th>\n",
       "      <td>0.308423</td>\n",
       "    </tr>\n",
       "    <tr>\n",
       "      <th>COST</th>\n",
       "      <td>0.171710</td>\n",
       "    </tr>\n",
       "    <tr>\n",
       "      <th>RATING</th>\n",
       "      <td>0.142275</td>\n",
       "    </tr>\n",
       "    <tr>\n",
       "      <th>TITLE</th>\n",
       "      <td>-0.082338</td>\n",
       "    </tr>\n",
       "    <tr>\n",
       "      <th>CUISINES</th>\n",
       "      <td>-0.215673</td>\n",
       "    </tr>\n",
       "  </tbody>\n",
       "</table>\n",
       "</div>"
      ],
      "text/plain": [
       "          Skewness after transformation\n",
       "LOCALITY                       0.344051\n",
       "TIME                           0.341605\n",
       "CITY                           0.308423\n",
       "COST                           0.171710\n",
       "RATING                         0.142275\n",
       "TITLE                         -0.082338\n",
       "CUISINES                      -0.215673"
      ]
     },
     "execution_count": 191,
     "metadata": {},
     "output_type": "execute_result"
    }
   ],
   "source": [
    "df_train.skew().sort_values(ascending=False).to_frame(\"Skewness after transformation\")"
   ]
  },
  {
   "cell_type": "markdown",
   "id": "f85572e1",
   "metadata": {},
   "source": [
    "**Skewness removed for COST**"
   ]
  },
  {
   "cell_type": "markdown",
   "id": "014a3830",
   "metadata": {},
   "source": [
    "# Separating features and label"
   ]
  },
  {
   "cell_type": "code",
   "execution_count": 192,
   "id": "a3d6fa76",
   "metadata": {},
   "outputs": [],
   "source": [
    "x=df_train.drop('COST',axis=1)\n",
    "y=df_train['COST']"
   ]
  },
  {
   "cell_type": "code",
   "execution_count": 193,
   "id": "4234bbdd",
   "metadata": {},
   "outputs": [
    {
     "name": "stdout",
     "output_type": "stream",
     "text": [
      "Feature Dimension = (11947, 6)\n",
      "Label Dimension = (11947,)\n"
     ]
    }
   ],
   "source": [
    "print(f\"Feature Dimension = {x.shape}\")\n",
    "print(f\"Label Dimension = {y.shape}\")"
   ]
  },
  {
   "cell_type": "markdown",
   "id": "e39ae5e2",
   "metadata": {},
   "source": [
    "# Feature Scaling using Standard Scalarization"
   ]
  },
  {
   "cell_type": "code",
   "execution_count": 194,
   "id": "5b16a91b",
   "metadata": {},
   "outputs": [],
   "source": [
    "scaler = StandardScaler()\n",
    "\n",
    "# Scaling training data \n",
    "x = pd.DataFrame(scaler.fit_transform(x), columns = x.columns)\n",
    "\n",
    "# Scaling testing data\n",
    "df_test = pd.DataFrame(scaler.fit_transform(df_test), columns = df_test.columns)"
   ]
  },
  {
   "cell_type": "code",
   "execution_count": 195,
   "id": "e2232ccf",
   "metadata": {},
   "outputs": [
    {
     "data": {
      "text/html": [
       "<div>\n",
       "<style scoped>\n",
       "    .dataframe tbody tr th:only-of-type {\n",
       "        vertical-align: middle;\n",
       "    }\n",
       "\n",
       "    .dataframe tbody tr th {\n",
       "        vertical-align: top;\n",
       "    }\n",
       "\n",
       "    .dataframe thead th {\n",
       "        text-align: right;\n",
       "    }\n",
       "</style>\n",
       "<table border=\"1\" class=\"dataframe\">\n",
       "  <thead>\n",
       "    <tr style=\"text-align: right;\">\n",
       "      <th></th>\n",
       "      <th>TITLE</th>\n",
       "      <th>CUISINES</th>\n",
       "      <th>TIME</th>\n",
       "      <th>CITY</th>\n",
       "      <th>LOCALITY</th>\n",
       "      <th>RATING</th>\n",
       "    </tr>\n",
       "  </thead>\n",
       "  <tbody>\n",
       "    <tr>\n",
       "      <th>0</th>\n",
       "      <td>-0.874799</td>\n",
       "      <td>0.325769</td>\n",
       "      <td>-0.562751</td>\n",
       "      <td>2.102027</td>\n",
       "      <td>-0.917979</td>\n",
       "      <td>-0.499672</td>\n",
       "    </tr>\n",
       "    <tr>\n",
       "      <th>1</th>\n",
       "      <td>-0.814271</td>\n",
       "      <td>-1.608855</td>\n",
       "      <td>0.971542</td>\n",
       "      <td>-0.869164</td>\n",
       "      <td>0.988468</td>\n",
       "      <td>0.700324</td>\n",
       "    </tr>\n",
       "    <tr>\n",
       "      <th>2</th>\n",
       "      <td>-0.874799</td>\n",
       "      <td>0.614556</td>\n",
       "      <td>-0.667180</td>\n",
       "      <td>-0.869164</td>\n",
       "      <td>1.126253</td>\n",
       "      <td>-0.099673</td>\n",
       "    </tr>\n",
       "    <tr>\n",
       "      <th>3</th>\n",
       "      <td>1.031834</td>\n",
       "      <td>1.569456</td>\n",
       "      <td>-1.183966</td>\n",
       "      <td>0.951131</td>\n",
       "      <td>-1.291251</td>\n",
       "      <td>0.500325</td>\n",
       "    </tr>\n",
       "    <tr>\n",
       "      <th>4</th>\n",
       "      <td>-0.299783</td>\n",
       "      <td>-0.386682</td>\n",
       "      <td>-0.728766</td>\n",
       "      <td>0.951131</td>\n",
       "      <td>-0.078742</td>\n",
       "      <td>-0.099673</td>\n",
       "    </tr>\n",
       "  </tbody>\n",
       "</table>\n",
       "</div>"
      ],
      "text/plain": [
       "      TITLE  CUISINES      TIME      CITY  LOCALITY    RATING\n",
       "0 -0.874799  0.325769 -0.562751  2.102027 -0.917979 -0.499672\n",
       "1 -0.814271 -1.608855  0.971542 -0.869164  0.988468  0.700324\n",
       "2 -0.874799  0.614556 -0.667180 -0.869164  1.126253 -0.099673\n",
       "3  1.031834  1.569456 -1.183966  0.951131 -1.291251  0.500325\n",
       "4 -0.299783 -0.386682 -0.728766  0.951131 -0.078742 -0.099673"
      ]
     },
     "execution_count": 195,
     "metadata": {},
     "output_type": "execute_result"
    }
   ],
   "source": [
    "x.head()"
   ]
  },
  {
   "cell_type": "code",
   "execution_count": 240,
   "id": "a4cdb98a",
   "metadata": {},
   "outputs": [
    {
     "data": {
      "text/plain": [
       "0    7.090077\n",
       "1    7.313220\n",
       "2    6.684612\n",
       "3    6.684612\n",
       "4    5.703782\n",
       "Name: COST, dtype: float64"
      ]
     },
     "execution_count": 240,
     "metadata": {},
     "output_type": "execute_result"
    }
   ],
   "source": [
    "y.head()"
   ]
  },
  {
   "cell_type": "code",
   "execution_count": 196,
   "id": "5644beaa",
   "metadata": {},
   "outputs": [
    {
     "data": {
      "text/html": [
       "<div>\n",
       "<style scoped>\n",
       "    .dataframe tbody tr th:only-of-type {\n",
       "        vertical-align: middle;\n",
       "    }\n",
       "\n",
       "    .dataframe tbody tr th {\n",
       "        vertical-align: top;\n",
       "    }\n",
       "\n",
       "    .dataframe thead th {\n",
       "        text-align: right;\n",
       "    }\n",
       "</style>\n",
       "<table border=\"1\" class=\"dataframe\">\n",
       "  <thead>\n",
       "    <tr style=\"text-align: right;\">\n",
       "      <th></th>\n",
       "      <th>TITLE</th>\n",
       "      <th>CUISINES</th>\n",
       "      <th>TIME</th>\n",
       "      <th>CITY</th>\n",
       "      <th>LOCALITY</th>\n",
       "      <th>RATING</th>\n",
       "    </tr>\n",
       "  </thead>\n",
       "  <tbody>\n",
       "    <tr>\n",
       "      <th>0</th>\n",
       "      <td>-0.865970</td>\n",
       "      <td>0.732516</td>\n",
       "      <td>-0.060454</td>\n",
       "      <td>1.336780</td>\n",
       "      <td>1.185448</td>\n",
       "      <td>0.856933</td>\n",
       "    </tr>\n",
       "    <tr>\n",
       "      <th>1</th>\n",
       "      <td>1.059097</td>\n",
       "      <td>1.412578</td>\n",
       "      <td>1.202501</td>\n",
       "      <td>0.975152</td>\n",
       "      <td>-0.691133</td>\n",
       "      <td>0.694526</td>\n",
       "    </tr>\n",
       "    <tr>\n",
       "      <th>2</th>\n",
       "      <td>-0.865970</td>\n",
       "      <td>1.057502</td>\n",
       "      <td>-0.894591</td>\n",
       "      <td>0.975152</td>\n",
       "      <td>0.117371</td>\n",
       "      <td>0.044897</td>\n",
       "    </tr>\n",
       "    <tr>\n",
       "      <th>3</th>\n",
       "      <td>1.059097</td>\n",
       "      <td>-1.444082</td>\n",
       "      <td>1.607821</td>\n",
       "      <td>-0.445526</td>\n",
       "      <td>0.308859</td>\n",
       "      <td>0.044897</td>\n",
       "    </tr>\n",
       "    <tr>\n",
       "      <th>4</th>\n",
       "      <td>1.059097</td>\n",
       "      <td>1.422608</td>\n",
       "      <td>-0.926899</td>\n",
       "      <td>0.510203</td>\n",
       "      <td>-0.354965</td>\n",
       "      <td>-0.279917</td>\n",
       "    </tr>\n",
       "  </tbody>\n",
       "</table>\n",
       "</div>"
      ],
      "text/plain": [
       "      TITLE  CUISINES      TIME      CITY  LOCALITY    RATING\n",
       "0 -0.865970  0.732516 -0.060454  1.336780  1.185448  0.856933\n",
       "1  1.059097  1.412578  1.202501  0.975152 -0.691133  0.694526\n",
       "2 -0.865970  1.057502 -0.894591  0.975152  0.117371  0.044897\n",
       "3  1.059097 -1.444082  1.607821 -0.445526  0.308859  0.044897\n",
       "4  1.059097  1.422608 -0.926899  0.510203 -0.354965 -0.279917"
      ]
     },
     "execution_count": 196,
     "metadata": {},
     "output_type": "execute_result"
    }
   ],
   "source": [
    "df_test.head()"
   ]
  },
  {
   "cell_type": "markdown",
   "id": "100f85e6",
   "metadata": {},
   "source": [
    "# Muticollinearity Analysis and Feature Selection"
   ]
  },
  {
   "cell_type": "code",
   "execution_count": 197,
   "id": "03c6c6f8",
   "metadata": {},
   "outputs": [
    {
     "data": {
      "text/plain": [
       "TITLE       0\n",
       "CUISINES    0\n",
       "TIME        0\n",
       "CITY        0\n",
       "LOCALITY    0\n",
       "RATING      0\n",
       "dtype: int64"
      ]
     },
     "execution_count": 197,
     "metadata": {},
     "output_type": "execute_result"
    }
   ],
   "source": [
    "missing_values = x.isnull().sum()\n",
    "missing_values"
   ]
  },
  {
   "cell_type": "markdown",
   "id": "04f4c5d2",
   "metadata": {},
   "source": [
    "**There is no null values presented in the columns**"
   ]
  },
  {
   "cell_type": "markdown",
   "id": "88179748",
   "metadata": {},
   "source": [
    "# Checking Variance Inflation Factor (VIF)"
   ]
  },
  {
   "cell_type": "code",
   "execution_count": 198,
   "id": "14b4db02",
   "metadata": {},
   "outputs": [
    {
     "data": {
      "text/html": [
       "<div>\n",
       "<style scoped>\n",
       "    .dataframe tbody tr th:only-of-type {\n",
       "        vertical-align: middle;\n",
       "    }\n",
       "\n",
       "    .dataframe tbody tr th {\n",
       "        vertical-align: top;\n",
       "    }\n",
       "\n",
       "    .dataframe thead th {\n",
       "        text-align: right;\n",
       "    }\n",
       "</style>\n",
       "<table border=\"1\" class=\"dataframe\">\n",
       "  <thead>\n",
       "    <tr style=\"text-align: right;\">\n",
       "      <th></th>\n",
       "      <th>Features</th>\n",
       "      <th>VIF values</th>\n",
       "    </tr>\n",
       "  </thead>\n",
       "  <tbody>\n",
       "    <tr>\n",
       "      <th>1</th>\n",
       "      <td>CUISINES</td>\n",
       "      <td>1.074513</td>\n",
       "    </tr>\n",
       "    <tr>\n",
       "      <th>0</th>\n",
       "      <td>TITLE</td>\n",
       "      <td>1.067482</td>\n",
       "    </tr>\n",
       "    <tr>\n",
       "      <th>2</th>\n",
       "      <td>TIME</td>\n",
       "      <td>1.016068</td>\n",
       "    </tr>\n",
       "    <tr>\n",
       "      <th>5</th>\n",
       "      <td>RATING</td>\n",
       "      <td>1.014138</td>\n",
       "    </tr>\n",
       "    <tr>\n",
       "      <th>3</th>\n",
       "      <td>CITY</td>\n",
       "      <td>1.009737</td>\n",
       "    </tr>\n",
       "    <tr>\n",
       "      <th>4</th>\n",
       "      <td>LOCALITY</td>\n",
       "      <td>1.004085</td>\n",
       "    </tr>\n",
       "  </tbody>\n",
       "</table>\n",
       "</div>"
      ],
      "text/plain": [
       "   Features  VIF values\n",
       "1  CUISINES    1.074513\n",
       "0     TITLE    1.067482\n",
       "2      TIME    1.016068\n",
       "5    RATING    1.014138\n",
       "3      CITY    1.009737\n",
       "4  LOCALITY    1.004085"
      ]
     },
     "execution_count": 198,
     "metadata": {},
     "output_type": "execute_result"
    }
   ],
   "source": [
    "vif = pd.DataFrame()\n",
    "vif['Features'] = x.columns\n",
    "vif['VIF values'] = [variance_inflation_factor(x.values, i) for i in range(len(x.columns))]\n",
    "\n",
    "vif.sort_values(by='VIF values', ascending=False)"
   ]
  },
  {
   "cell_type": "markdown",
   "id": "ffb3a692",
   "metadata": {},
   "source": [
    "**If VIF value is greater than 10,consider it as a sign of multicollinearity but our features does not have the value greater than 10.**"
   ]
  },
  {
   "cell_type": "markdown",
   "id": "e7a5045f",
   "metadata": {},
   "source": [
    "# Modeling"
   ]
  },
  {
   "cell_type": "markdown",
   "id": "9749d3cc",
   "metadata": {},
   "source": [
    "# Finding the best random state"
   ]
  },
  {
   "cell_type": "code",
   "execution_count": 199,
   "id": "9d4d9917",
   "metadata": {},
   "outputs": [
    {
     "name": "stdout",
     "output_type": "stream",
     "text": [
      "Best Accuracy is  0.5540929641331589 at random state 124\n"
     ]
    }
   ],
   "source": [
    "maxAccu=0\n",
    "maxRS=0\n",
    "for i in range(1,200):\n",
    "    x_train,x_test,y_train,y_test=train_test_split(x,y,test_size=30,random_state=i)\n",
    "    LR=LinearRegression()\n",
    "    LR.fit(x_train,y_train)\n",
    "    pred=LR.predict(x_test)\n",
    "    acc=r2_score(y_test,pred)\n",
    "    if acc> maxAccu:\n",
    "        maxAccu=acc\n",
    "        maxRS=i\n",
    "        \n",
    "print(\"Best Accuracy is \",maxAccu,\"at random state\",maxRS)"
   ]
  },
  {
   "cell_type": "markdown",
   "id": "1a32f0d5",
   "metadata": {},
   "source": [
    "# Creating train test split"
   ]
  },
  {
   "cell_type": "code",
   "execution_count": 204,
   "id": "182d5bd8",
   "metadata": {},
   "outputs": [],
   "source": [
    "x_train,x_test,y_train,y_test=train_test_split(x,y,test_size=0.3,random_state=maxRS)"
   ]
  },
  {
   "cell_type": "markdown",
   "id": "5ed16212",
   "metadata": {},
   "source": [
    "# Creating a Function with R2_score,Mean_Absolute_Error,Mean_Squared_Error ,Mean_Squared_Error and Random_mean_squared_error difference between R2 score and cross validation"
   ]
  },
  {
   "cell_type": "code",
   "execution_count": 205,
   "id": "3b5c78d2",
   "metadata": {},
   "outputs": [],
   "source": [
    "def metric_score(clf,x_train,x_test,y_train,y_test,train=True):\n",
    "    if train:\n",
    "        y_pred=clf.predict(x_train)\n",
    "        \n",
    "        print(\"\\n================Train Result=============\")\n",
    "        \n",
    "        print(f\"R2_Score:{r2_score(y_train,y_pred)*100:.2f}%\")  #r2_score for train result\n",
    "              \n",
    "    \n",
    "    elif train==False:\n",
    "        pred=clf.predict(x_test)\n",
    "              \n",
    "        print(\"\\n================Test Result=============\")\n",
    "        \n",
    "        print(f\"R2_Score:{r2_score(y_test,pred)*100:.2f}%\")  #r2_score for test result\n",
    "        \n",
    "        print(\"\\n Mean_Absolute_Error:\",mean_absolute_error(y_test,pred))\n",
    "        \n",
    "        print(\"\\n Mean_Squared_Error:\",mean_squared_error(y_test,pred))\n",
    "        \n",
    "        print(\"\\n Random_mean_squared_error:\",np.sqrt(mean_squared_error(y_test,pred)))\n",
    "              \n",
    "        \n",
    "        score=cross_val_score(clf,x,y)\n",
    "        print('\\n',score)\n",
    "        print('\\n',score.mean())\n",
    "        print(\"\\n Difference between R2_score and cross validation is:\",r2_score(y_test,pred)-score.mean()) #Difference between r2_score and cross validation(to find which model is best)"
   ]
  },
  {
   "cell_type": "markdown",
   "id": "6f2bee27",
   "metadata": {},
   "source": [
    "# LinearRegression"
   ]
  },
  {
   "cell_type": "code",
   "execution_count": 206,
   "id": "47d77971",
   "metadata": {},
   "outputs": [
    {
     "data": {
      "text/html": [
       "<style>#sk-container-id-4 {color: black;background-color: white;}#sk-container-id-4 pre{padding: 0;}#sk-container-id-4 div.sk-toggleable {background-color: white;}#sk-container-id-4 label.sk-toggleable__label {cursor: pointer;display: block;width: 100%;margin-bottom: 0;padding: 0.3em;box-sizing: border-box;text-align: center;}#sk-container-id-4 label.sk-toggleable__label-arrow:before {content: \"▸\";float: left;margin-right: 0.25em;color: #696969;}#sk-container-id-4 label.sk-toggleable__label-arrow:hover:before {color: black;}#sk-container-id-4 div.sk-estimator:hover label.sk-toggleable__label-arrow:before {color: black;}#sk-container-id-4 div.sk-toggleable__content {max-height: 0;max-width: 0;overflow: hidden;text-align: left;background-color: #f0f8ff;}#sk-container-id-4 div.sk-toggleable__content pre {margin: 0.2em;color: black;border-radius: 0.25em;background-color: #f0f8ff;}#sk-container-id-4 input.sk-toggleable__control:checked~div.sk-toggleable__content {max-height: 200px;max-width: 100%;overflow: auto;}#sk-container-id-4 input.sk-toggleable__control:checked~label.sk-toggleable__label-arrow:before {content: \"▾\";}#sk-container-id-4 div.sk-estimator input.sk-toggleable__control:checked~label.sk-toggleable__label {background-color: #d4ebff;}#sk-container-id-4 div.sk-label input.sk-toggleable__control:checked~label.sk-toggleable__label {background-color: #d4ebff;}#sk-container-id-4 input.sk-hidden--visually {border: 0;clip: rect(1px 1px 1px 1px);clip: rect(1px, 1px, 1px, 1px);height: 1px;margin: -1px;overflow: hidden;padding: 0;position: absolute;width: 1px;}#sk-container-id-4 div.sk-estimator {font-family: monospace;background-color: #f0f8ff;border: 1px dotted black;border-radius: 0.25em;box-sizing: border-box;margin-bottom: 0.5em;}#sk-container-id-4 div.sk-estimator:hover {background-color: #d4ebff;}#sk-container-id-4 div.sk-parallel-item::after {content: \"\";width: 100%;border-bottom: 1px solid gray;flex-grow: 1;}#sk-container-id-4 div.sk-label:hover label.sk-toggleable__label {background-color: #d4ebff;}#sk-container-id-4 div.sk-serial::before {content: \"\";position: absolute;border-left: 1px solid gray;box-sizing: border-box;top: 0;bottom: 0;left: 50%;z-index: 0;}#sk-container-id-4 div.sk-serial {display: flex;flex-direction: column;align-items: center;background-color: white;padding-right: 0.2em;padding-left: 0.2em;position: relative;}#sk-container-id-4 div.sk-item {position: relative;z-index: 1;}#sk-container-id-4 div.sk-parallel {display: flex;align-items: stretch;justify-content: center;background-color: white;position: relative;}#sk-container-id-4 div.sk-item::before, #sk-container-id-4 div.sk-parallel-item::before {content: \"\";position: absolute;border-left: 1px solid gray;box-sizing: border-box;top: 0;bottom: 0;left: 50%;z-index: -1;}#sk-container-id-4 div.sk-parallel-item {display: flex;flex-direction: column;z-index: 1;position: relative;background-color: white;}#sk-container-id-4 div.sk-parallel-item:first-child::after {align-self: flex-end;width: 50%;}#sk-container-id-4 div.sk-parallel-item:last-child::after {align-self: flex-start;width: 50%;}#sk-container-id-4 div.sk-parallel-item:only-child::after {width: 0;}#sk-container-id-4 div.sk-dashed-wrapped {border: 1px dashed gray;margin: 0 0.4em 0.5em 0.4em;box-sizing: border-box;padding-bottom: 0.4em;background-color: white;}#sk-container-id-4 div.sk-label label {font-family: monospace;font-weight: bold;display: inline-block;line-height: 1.2em;}#sk-container-id-4 div.sk-label-container {text-align: center;}#sk-container-id-4 div.sk-container {/* jupyter's `normalize.less` sets `[hidden] { display: none; }` but bootstrap.min.css set `[hidden] { display: none !important; }` so we also need the `!important` here to be able to override the default hidden behavior on the sphinx rendered scikit-learn.org. See: https://github.com/scikit-learn/scikit-learn/issues/21755 */display: inline-block !important;position: relative;}#sk-container-id-4 div.sk-text-repr-fallback {display: none;}</style><div id=\"sk-container-id-4\" class=\"sk-top-container\"><div class=\"sk-text-repr-fallback\"><pre>LinearRegression()</pre><b>In a Jupyter environment, please rerun this cell to show the HTML representation or trust the notebook. <br />On GitHub, the HTML representation is unable to render, please try loading this page with nbviewer.org.</b></div><div class=\"sk-container\" hidden><div class=\"sk-item\"><div class=\"sk-estimator sk-toggleable\"><input class=\"sk-toggleable__control sk-hidden--visually\" id=\"sk-estimator-id-4\" type=\"checkbox\" checked><label for=\"sk-estimator-id-4\" class=\"sk-toggleable__label sk-toggleable__label-arrow\">LinearRegression</label><div class=\"sk-toggleable__content\"><pre>LinearRegression()</pre></div></div></div></div></div>"
      ],
      "text/plain": [
       "LinearRegression()"
      ]
     },
     "execution_count": 206,
     "metadata": {},
     "output_type": "execute_result"
    }
   ],
   "source": [
    "clf=LinearRegression()\n",
    "clf.fit(x_train,y_train)"
   ]
  },
  {
   "cell_type": "code",
   "execution_count": 207,
   "id": "fa9d5cdb",
   "metadata": {},
   "outputs": [
    {
     "name": "stdout",
     "output_type": "stream",
     "text": [
      "\n",
      "================Train Result=============\n",
      "R2_Score:22.91%\n",
      "\n",
      "================Test Result=============\n",
      "R2_Score:21.62%\n",
      "\n",
      " Mean_Absolute_Error: 0.46943217329272474\n",
      "\n",
      " Mean_Squared_Error: 0.3699601636125858\n",
      "\n",
      " Random_mean_squared_error: 0.6082435068396421\n",
      "\n",
      " [0.21543053 0.22824229 0.23279688 0.20817357 0.2342461 ]\n",
      "\n",
      " 0.22377787418419995\n",
      "\n",
      " Difference between R2_score and cross validation is: -0.007569724621626667\n"
     ]
    }
   ],
   "source": [
    "metric_score(clf,x_train,x_test,y_train,y_test,train=True)\n",
    "metric_score(clf,x_train,x_test,y_train,y_test,train=False)"
   ]
  },
  {
   "cell_type": "markdown",
   "id": "7eb37db8",
   "metadata": {},
   "source": [
    "# RandomForestRegressor"
   ]
  },
  {
   "cell_type": "code",
   "execution_count": 209,
   "id": "86f7fbce",
   "metadata": {},
   "outputs": [
    {
     "data": {
      "text/html": [
       "<style>#sk-container-id-5 {color: black;background-color: white;}#sk-container-id-5 pre{padding: 0;}#sk-container-id-5 div.sk-toggleable {background-color: white;}#sk-container-id-5 label.sk-toggleable__label {cursor: pointer;display: block;width: 100%;margin-bottom: 0;padding: 0.3em;box-sizing: border-box;text-align: center;}#sk-container-id-5 label.sk-toggleable__label-arrow:before {content: \"▸\";float: left;margin-right: 0.25em;color: #696969;}#sk-container-id-5 label.sk-toggleable__label-arrow:hover:before {color: black;}#sk-container-id-5 div.sk-estimator:hover label.sk-toggleable__label-arrow:before {color: black;}#sk-container-id-5 div.sk-toggleable__content {max-height: 0;max-width: 0;overflow: hidden;text-align: left;background-color: #f0f8ff;}#sk-container-id-5 div.sk-toggleable__content pre {margin: 0.2em;color: black;border-radius: 0.25em;background-color: #f0f8ff;}#sk-container-id-5 input.sk-toggleable__control:checked~div.sk-toggleable__content {max-height: 200px;max-width: 100%;overflow: auto;}#sk-container-id-5 input.sk-toggleable__control:checked~label.sk-toggleable__label-arrow:before {content: \"▾\";}#sk-container-id-5 div.sk-estimator input.sk-toggleable__control:checked~label.sk-toggleable__label {background-color: #d4ebff;}#sk-container-id-5 div.sk-label input.sk-toggleable__control:checked~label.sk-toggleable__label {background-color: #d4ebff;}#sk-container-id-5 input.sk-hidden--visually {border: 0;clip: rect(1px 1px 1px 1px);clip: rect(1px, 1px, 1px, 1px);height: 1px;margin: -1px;overflow: hidden;padding: 0;position: absolute;width: 1px;}#sk-container-id-5 div.sk-estimator {font-family: monospace;background-color: #f0f8ff;border: 1px dotted black;border-radius: 0.25em;box-sizing: border-box;margin-bottom: 0.5em;}#sk-container-id-5 div.sk-estimator:hover {background-color: #d4ebff;}#sk-container-id-5 div.sk-parallel-item::after {content: \"\";width: 100%;border-bottom: 1px solid gray;flex-grow: 1;}#sk-container-id-5 div.sk-label:hover label.sk-toggleable__label {background-color: #d4ebff;}#sk-container-id-5 div.sk-serial::before {content: \"\";position: absolute;border-left: 1px solid gray;box-sizing: border-box;top: 0;bottom: 0;left: 50%;z-index: 0;}#sk-container-id-5 div.sk-serial {display: flex;flex-direction: column;align-items: center;background-color: white;padding-right: 0.2em;padding-left: 0.2em;position: relative;}#sk-container-id-5 div.sk-item {position: relative;z-index: 1;}#sk-container-id-5 div.sk-parallel {display: flex;align-items: stretch;justify-content: center;background-color: white;position: relative;}#sk-container-id-5 div.sk-item::before, #sk-container-id-5 div.sk-parallel-item::before {content: \"\";position: absolute;border-left: 1px solid gray;box-sizing: border-box;top: 0;bottom: 0;left: 50%;z-index: -1;}#sk-container-id-5 div.sk-parallel-item {display: flex;flex-direction: column;z-index: 1;position: relative;background-color: white;}#sk-container-id-5 div.sk-parallel-item:first-child::after {align-self: flex-end;width: 50%;}#sk-container-id-5 div.sk-parallel-item:last-child::after {align-self: flex-start;width: 50%;}#sk-container-id-5 div.sk-parallel-item:only-child::after {width: 0;}#sk-container-id-5 div.sk-dashed-wrapped {border: 1px dashed gray;margin: 0 0.4em 0.5em 0.4em;box-sizing: border-box;padding-bottom: 0.4em;background-color: white;}#sk-container-id-5 div.sk-label label {font-family: monospace;font-weight: bold;display: inline-block;line-height: 1.2em;}#sk-container-id-5 div.sk-label-container {text-align: center;}#sk-container-id-5 div.sk-container {/* jupyter's `normalize.less` sets `[hidden] { display: none; }` but bootstrap.min.css set `[hidden] { display: none !important; }` so we also need the `!important` here to be able to override the default hidden behavior on the sphinx rendered scikit-learn.org. See: https://github.com/scikit-learn/scikit-learn/issues/21755 */display: inline-block !important;position: relative;}#sk-container-id-5 div.sk-text-repr-fallback {display: none;}</style><div id=\"sk-container-id-5\" class=\"sk-top-container\"><div class=\"sk-text-repr-fallback\"><pre>RandomForestRegressor()</pre><b>In a Jupyter environment, please rerun this cell to show the HTML representation or trust the notebook. <br />On GitHub, the HTML representation is unable to render, please try loading this page with nbviewer.org.</b></div><div class=\"sk-container\" hidden><div class=\"sk-item\"><div class=\"sk-estimator sk-toggleable\"><input class=\"sk-toggleable__control sk-hidden--visually\" id=\"sk-estimator-id-5\" type=\"checkbox\" checked><label for=\"sk-estimator-id-5\" class=\"sk-toggleable__label sk-toggleable__label-arrow\">RandomForestRegressor</label><div class=\"sk-toggleable__content\"><pre>RandomForestRegressor()</pre></div></div></div></div></div>"
      ],
      "text/plain": [
       "RandomForestRegressor()"
      ]
     },
     "execution_count": 209,
     "metadata": {},
     "output_type": "execute_result"
    }
   ],
   "source": [
    "clf=RandomForestRegressor()\n",
    "clf.fit(x_train,y_train)"
   ]
  },
  {
   "cell_type": "code",
   "execution_count": 210,
   "id": "c6a69cf2",
   "metadata": {},
   "outputs": [
    {
     "name": "stdout",
     "output_type": "stream",
     "text": [
      "\n",
      "================Train Result=============\n",
      "R2_Score:95.38%\n",
      "\n",
      "================Test Result=============\n",
      "R2_Score:66.17%\n",
      "\n",
      " Mean_Absolute_Error: 0.3074780882871343\n",
      "\n",
      " Mean_Squared_Error: 0.15967097289584145\n",
      "\n",
      " Random_mean_squared_error: 0.39958850445907657\n",
      "\n",
      " [0.66254386 0.65585641 0.68064665 0.65712565 0.70056836]\n",
      "\n",
      " 0.6713481861425101\n",
      "\n",
      " Difference between R2_score and cross validation is: -0.00962462673309461\n"
     ]
    }
   ],
   "source": [
    "metric_score(clf,x_train,x_test,y_train,y_test,train=True)\n",
    "metric_score(clf,x_train,x_test,y_train,y_test,train=False)"
   ]
  },
  {
   "cell_type": "markdown",
   "id": "9ac2b3d1",
   "metadata": {},
   "source": [
    "# KNeighborsRegressor"
   ]
  },
  {
   "cell_type": "code",
   "execution_count": 211,
   "id": "e33ba125",
   "metadata": {},
   "outputs": [
    {
     "data": {
      "text/html": [
       "<style>#sk-container-id-6 {color: black;background-color: white;}#sk-container-id-6 pre{padding: 0;}#sk-container-id-6 div.sk-toggleable {background-color: white;}#sk-container-id-6 label.sk-toggleable__label {cursor: pointer;display: block;width: 100%;margin-bottom: 0;padding: 0.3em;box-sizing: border-box;text-align: center;}#sk-container-id-6 label.sk-toggleable__label-arrow:before {content: \"▸\";float: left;margin-right: 0.25em;color: #696969;}#sk-container-id-6 label.sk-toggleable__label-arrow:hover:before {color: black;}#sk-container-id-6 div.sk-estimator:hover label.sk-toggleable__label-arrow:before {color: black;}#sk-container-id-6 div.sk-toggleable__content {max-height: 0;max-width: 0;overflow: hidden;text-align: left;background-color: #f0f8ff;}#sk-container-id-6 div.sk-toggleable__content pre {margin: 0.2em;color: black;border-radius: 0.25em;background-color: #f0f8ff;}#sk-container-id-6 input.sk-toggleable__control:checked~div.sk-toggleable__content {max-height: 200px;max-width: 100%;overflow: auto;}#sk-container-id-6 input.sk-toggleable__control:checked~label.sk-toggleable__label-arrow:before {content: \"▾\";}#sk-container-id-6 div.sk-estimator input.sk-toggleable__control:checked~label.sk-toggleable__label {background-color: #d4ebff;}#sk-container-id-6 div.sk-label input.sk-toggleable__control:checked~label.sk-toggleable__label {background-color: #d4ebff;}#sk-container-id-6 input.sk-hidden--visually {border: 0;clip: rect(1px 1px 1px 1px);clip: rect(1px, 1px, 1px, 1px);height: 1px;margin: -1px;overflow: hidden;padding: 0;position: absolute;width: 1px;}#sk-container-id-6 div.sk-estimator {font-family: monospace;background-color: #f0f8ff;border: 1px dotted black;border-radius: 0.25em;box-sizing: border-box;margin-bottom: 0.5em;}#sk-container-id-6 div.sk-estimator:hover {background-color: #d4ebff;}#sk-container-id-6 div.sk-parallel-item::after {content: \"\";width: 100%;border-bottom: 1px solid gray;flex-grow: 1;}#sk-container-id-6 div.sk-label:hover label.sk-toggleable__label {background-color: #d4ebff;}#sk-container-id-6 div.sk-serial::before {content: \"\";position: absolute;border-left: 1px solid gray;box-sizing: border-box;top: 0;bottom: 0;left: 50%;z-index: 0;}#sk-container-id-6 div.sk-serial {display: flex;flex-direction: column;align-items: center;background-color: white;padding-right: 0.2em;padding-left: 0.2em;position: relative;}#sk-container-id-6 div.sk-item {position: relative;z-index: 1;}#sk-container-id-6 div.sk-parallel {display: flex;align-items: stretch;justify-content: center;background-color: white;position: relative;}#sk-container-id-6 div.sk-item::before, #sk-container-id-6 div.sk-parallel-item::before {content: \"\";position: absolute;border-left: 1px solid gray;box-sizing: border-box;top: 0;bottom: 0;left: 50%;z-index: -1;}#sk-container-id-6 div.sk-parallel-item {display: flex;flex-direction: column;z-index: 1;position: relative;background-color: white;}#sk-container-id-6 div.sk-parallel-item:first-child::after {align-self: flex-end;width: 50%;}#sk-container-id-6 div.sk-parallel-item:last-child::after {align-self: flex-start;width: 50%;}#sk-container-id-6 div.sk-parallel-item:only-child::after {width: 0;}#sk-container-id-6 div.sk-dashed-wrapped {border: 1px dashed gray;margin: 0 0.4em 0.5em 0.4em;box-sizing: border-box;padding-bottom: 0.4em;background-color: white;}#sk-container-id-6 div.sk-label label {font-family: monospace;font-weight: bold;display: inline-block;line-height: 1.2em;}#sk-container-id-6 div.sk-label-container {text-align: center;}#sk-container-id-6 div.sk-container {/* jupyter's `normalize.less` sets `[hidden] { display: none; }` but bootstrap.min.css set `[hidden] { display: none !important; }` so we also need the `!important` here to be able to override the default hidden behavior on the sphinx rendered scikit-learn.org. See: https://github.com/scikit-learn/scikit-learn/issues/21755 */display: inline-block !important;position: relative;}#sk-container-id-6 div.sk-text-repr-fallback {display: none;}</style><div id=\"sk-container-id-6\" class=\"sk-top-container\"><div class=\"sk-text-repr-fallback\"><pre>KNeighborsRegressor()</pre><b>In a Jupyter environment, please rerun this cell to show the HTML representation or trust the notebook. <br />On GitHub, the HTML representation is unable to render, please try loading this page with nbviewer.org.</b></div><div class=\"sk-container\" hidden><div class=\"sk-item\"><div class=\"sk-estimator sk-toggleable\"><input class=\"sk-toggleable__control sk-hidden--visually\" id=\"sk-estimator-id-6\" type=\"checkbox\" checked><label for=\"sk-estimator-id-6\" class=\"sk-toggleable__label sk-toggleable__label-arrow\">KNeighborsRegressor</label><div class=\"sk-toggleable__content\"><pre>KNeighborsRegressor()</pre></div></div></div></div></div>"
      ],
      "text/plain": [
       "KNeighborsRegressor()"
      ]
     },
     "execution_count": 211,
     "metadata": {},
     "output_type": "execute_result"
    }
   ],
   "source": [
    "clf=knn()\n",
    "clf.fit(x_train,y_train)"
   ]
  },
  {
   "cell_type": "code",
   "execution_count": 212,
   "id": "edff8e33",
   "metadata": {},
   "outputs": [
    {
     "name": "stdout",
     "output_type": "stream",
     "text": [
      "\n",
      "================Train Result=============\n",
      "R2_Score:60.32%\n",
      "\n",
      "================Test Result=============\n",
      "R2_Score:39.67%\n",
      "\n",
      " Mean_Absolute_Error: 0.40587726741532393\n",
      "\n",
      " Mean_Squared_Error: 0.2847707356116342\n",
      "\n",
      " Random_mean_squared_error: 0.5336391436276336\n",
      "\n",
      " [0.38041726 0.37341587 0.40230314 0.37977962 0.43354257]\n",
      "\n",
      " 0.3938916911219791\n",
      "\n",
      " Difference between R2_score and cross validation is: 0.0027974560663081016\n"
     ]
    }
   ],
   "source": [
    "metric_score(clf,x_train,x_test,y_train,y_test,train=True)\n",
    "metric_score(clf,x_train,x_test,y_train,y_test,train=False)"
   ]
  },
  {
   "cell_type": "markdown",
   "id": "44482421",
   "metadata": {},
   "source": [
    "# GradientBoostingRegressor"
   ]
  },
  {
   "cell_type": "code",
   "execution_count": 213,
   "id": "1a3e7f1a",
   "metadata": {},
   "outputs": [
    {
     "data": {
      "text/html": [
       "<style>#sk-container-id-7 {color: black;background-color: white;}#sk-container-id-7 pre{padding: 0;}#sk-container-id-7 div.sk-toggleable {background-color: white;}#sk-container-id-7 label.sk-toggleable__label {cursor: pointer;display: block;width: 100%;margin-bottom: 0;padding: 0.3em;box-sizing: border-box;text-align: center;}#sk-container-id-7 label.sk-toggleable__label-arrow:before {content: \"▸\";float: left;margin-right: 0.25em;color: #696969;}#sk-container-id-7 label.sk-toggleable__label-arrow:hover:before {color: black;}#sk-container-id-7 div.sk-estimator:hover label.sk-toggleable__label-arrow:before {color: black;}#sk-container-id-7 div.sk-toggleable__content {max-height: 0;max-width: 0;overflow: hidden;text-align: left;background-color: #f0f8ff;}#sk-container-id-7 div.sk-toggleable__content pre {margin: 0.2em;color: black;border-radius: 0.25em;background-color: #f0f8ff;}#sk-container-id-7 input.sk-toggleable__control:checked~div.sk-toggleable__content {max-height: 200px;max-width: 100%;overflow: auto;}#sk-container-id-7 input.sk-toggleable__control:checked~label.sk-toggleable__label-arrow:before {content: \"▾\";}#sk-container-id-7 div.sk-estimator input.sk-toggleable__control:checked~label.sk-toggleable__label {background-color: #d4ebff;}#sk-container-id-7 div.sk-label input.sk-toggleable__control:checked~label.sk-toggleable__label {background-color: #d4ebff;}#sk-container-id-7 input.sk-hidden--visually {border: 0;clip: rect(1px 1px 1px 1px);clip: rect(1px, 1px, 1px, 1px);height: 1px;margin: -1px;overflow: hidden;padding: 0;position: absolute;width: 1px;}#sk-container-id-7 div.sk-estimator {font-family: monospace;background-color: #f0f8ff;border: 1px dotted black;border-radius: 0.25em;box-sizing: border-box;margin-bottom: 0.5em;}#sk-container-id-7 div.sk-estimator:hover {background-color: #d4ebff;}#sk-container-id-7 div.sk-parallel-item::after {content: \"\";width: 100%;border-bottom: 1px solid gray;flex-grow: 1;}#sk-container-id-7 div.sk-label:hover label.sk-toggleable__label {background-color: #d4ebff;}#sk-container-id-7 div.sk-serial::before {content: \"\";position: absolute;border-left: 1px solid gray;box-sizing: border-box;top: 0;bottom: 0;left: 50%;z-index: 0;}#sk-container-id-7 div.sk-serial {display: flex;flex-direction: column;align-items: center;background-color: white;padding-right: 0.2em;padding-left: 0.2em;position: relative;}#sk-container-id-7 div.sk-item {position: relative;z-index: 1;}#sk-container-id-7 div.sk-parallel {display: flex;align-items: stretch;justify-content: center;background-color: white;position: relative;}#sk-container-id-7 div.sk-item::before, #sk-container-id-7 div.sk-parallel-item::before {content: \"\";position: absolute;border-left: 1px solid gray;box-sizing: border-box;top: 0;bottom: 0;left: 50%;z-index: -1;}#sk-container-id-7 div.sk-parallel-item {display: flex;flex-direction: column;z-index: 1;position: relative;background-color: white;}#sk-container-id-7 div.sk-parallel-item:first-child::after {align-self: flex-end;width: 50%;}#sk-container-id-7 div.sk-parallel-item:last-child::after {align-self: flex-start;width: 50%;}#sk-container-id-7 div.sk-parallel-item:only-child::after {width: 0;}#sk-container-id-7 div.sk-dashed-wrapped {border: 1px dashed gray;margin: 0 0.4em 0.5em 0.4em;box-sizing: border-box;padding-bottom: 0.4em;background-color: white;}#sk-container-id-7 div.sk-label label {font-family: monospace;font-weight: bold;display: inline-block;line-height: 1.2em;}#sk-container-id-7 div.sk-label-container {text-align: center;}#sk-container-id-7 div.sk-container {/* jupyter's `normalize.less` sets `[hidden] { display: none; }` but bootstrap.min.css set `[hidden] { display: none !important; }` so we also need the `!important` here to be able to override the default hidden behavior on the sphinx rendered scikit-learn.org. See: https://github.com/scikit-learn/scikit-learn/issues/21755 */display: inline-block !important;position: relative;}#sk-container-id-7 div.sk-text-repr-fallback {display: none;}</style><div id=\"sk-container-id-7\" class=\"sk-top-container\"><div class=\"sk-text-repr-fallback\"><pre>GradientBoostingRegressor()</pre><b>In a Jupyter environment, please rerun this cell to show the HTML representation or trust the notebook. <br />On GitHub, the HTML representation is unable to render, please try loading this page with nbviewer.org.</b></div><div class=\"sk-container\" hidden><div class=\"sk-item\"><div class=\"sk-estimator sk-toggleable\"><input class=\"sk-toggleable__control sk-hidden--visually\" id=\"sk-estimator-id-7\" type=\"checkbox\" checked><label for=\"sk-estimator-id-7\" class=\"sk-toggleable__label sk-toggleable__label-arrow\">GradientBoostingRegressor</label><div class=\"sk-toggleable__content\"><pre>GradientBoostingRegressor()</pre></div></div></div></div></div>"
      ],
      "text/plain": [
       "GradientBoostingRegressor()"
      ]
     },
     "execution_count": 213,
     "metadata": {},
     "output_type": "execute_result"
    }
   ],
   "source": [
    "clf=GradientBoostingRegressor()\n",
    "clf.fit(x_train,y_train)"
   ]
  },
  {
   "cell_type": "code",
   "execution_count": 214,
   "id": "e7fd24cb",
   "metadata": {},
   "outputs": [
    {
     "name": "stdout",
     "output_type": "stream",
     "text": [
      "\n",
      "================Train Result=============\n",
      "R2_Score:67.72%\n",
      "\n",
      "================Test Result=============\n",
      "R2_Score:63.93%\n",
      "\n",
      " Mean_Absolute_Error: 0.322311858040937\n",
      "\n",
      " Mean_Squared_Error: 0.17026774038251158\n",
      "\n",
      " Random_mean_squared_error: 0.4126351177281347\n",
      "\n",
      " [0.64498572 0.63013312 0.64833053 0.64260806 0.67661398]\n",
      "\n",
      " 0.6485342836871497\n",
      "\n",
      " Difference between R2_score and cross validation is: -0.009260871114975311\n"
     ]
    }
   ],
   "source": [
    "metric_score(clf,x_train,x_test,y_train,y_test,train=True)\n",
    "metric_score(clf,x_train,x_test,y_train,y_test,train=False)"
   ]
  },
  {
   "cell_type": "markdown",
   "id": "2cc7980c",
   "metadata": {},
   "source": [
    "# Ridge"
   ]
  },
  {
   "cell_type": "code",
   "execution_count": 215,
   "id": "773c9fd9",
   "metadata": {},
   "outputs": [
    {
     "data": {
      "text/html": [
       "<style>#sk-container-id-8 {color: black;background-color: white;}#sk-container-id-8 pre{padding: 0;}#sk-container-id-8 div.sk-toggleable {background-color: white;}#sk-container-id-8 label.sk-toggleable__label {cursor: pointer;display: block;width: 100%;margin-bottom: 0;padding: 0.3em;box-sizing: border-box;text-align: center;}#sk-container-id-8 label.sk-toggleable__label-arrow:before {content: \"▸\";float: left;margin-right: 0.25em;color: #696969;}#sk-container-id-8 label.sk-toggleable__label-arrow:hover:before {color: black;}#sk-container-id-8 div.sk-estimator:hover label.sk-toggleable__label-arrow:before {color: black;}#sk-container-id-8 div.sk-toggleable__content {max-height: 0;max-width: 0;overflow: hidden;text-align: left;background-color: #f0f8ff;}#sk-container-id-8 div.sk-toggleable__content pre {margin: 0.2em;color: black;border-radius: 0.25em;background-color: #f0f8ff;}#sk-container-id-8 input.sk-toggleable__control:checked~div.sk-toggleable__content {max-height: 200px;max-width: 100%;overflow: auto;}#sk-container-id-8 input.sk-toggleable__control:checked~label.sk-toggleable__label-arrow:before {content: \"▾\";}#sk-container-id-8 div.sk-estimator input.sk-toggleable__control:checked~label.sk-toggleable__label {background-color: #d4ebff;}#sk-container-id-8 div.sk-label input.sk-toggleable__control:checked~label.sk-toggleable__label {background-color: #d4ebff;}#sk-container-id-8 input.sk-hidden--visually {border: 0;clip: rect(1px 1px 1px 1px);clip: rect(1px, 1px, 1px, 1px);height: 1px;margin: -1px;overflow: hidden;padding: 0;position: absolute;width: 1px;}#sk-container-id-8 div.sk-estimator {font-family: monospace;background-color: #f0f8ff;border: 1px dotted black;border-radius: 0.25em;box-sizing: border-box;margin-bottom: 0.5em;}#sk-container-id-8 div.sk-estimator:hover {background-color: #d4ebff;}#sk-container-id-8 div.sk-parallel-item::after {content: \"\";width: 100%;border-bottom: 1px solid gray;flex-grow: 1;}#sk-container-id-8 div.sk-label:hover label.sk-toggleable__label {background-color: #d4ebff;}#sk-container-id-8 div.sk-serial::before {content: \"\";position: absolute;border-left: 1px solid gray;box-sizing: border-box;top: 0;bottom: 0;left: 50%;z-index: 0;}#sk-container-id-8 div.sk-serial {display: flex;flex-direction: column;align-items: center;background-color: white;padding-right: 0.2em;padding-left: 0.2em;position: relative;}#sk-container-id-8 div.sk-item {position: relative;z-index: 1;}#sk-container-id-8 div.sk-parallel {display: flex;align-items: stretch;justify-content: center;background-color: white;position: relative;}#sk-container-id-8 div.sk-item::before, #sk-container-id-8 div.sk-parallel-item::before {content: \"\";position: absolute;border-left: 1px solid gray;box-sizing: border-box;top: 0;bottom: 0;left: 50%;z-index: -1;}#sk-container-id-8 div.sk-parallel-item {display: flex;flex-direction: column;z-index: 1;position: relative;background-color: white;}#sk-container-id-8 div.sk-parallel-item:first-child::after {align-self: flex-end;width: 50%;}#sk-container-id-8 div.sk-parallel-item:last-child::after {align-self: flex-start;width: 50%;}#sk-container-id-8 div.sk-parallel-item:only-child::after {width: 0;}#sk-container-id-8 div.sk-dashed-wrapped {border: 1px dashed gray;margin: 0 0.4em 0.5em 0.4em;box-sizing: border-box;padding-bottom: 0.4em;background-color: white;}#sk-container-id-8 div.sk-label label {font-family: monospace;font-weight: bold;display: inline-block;line-height: 1.2em;}#sk-container-id-8 div.sk-label-container {text-align: center;}#sk-container-id-8 div.sk-container {/* jupyter's `normalize.less` sets `[hidden] { display: none; }` but bootstrap.min.css set `[hidden] { display: none !important; }` so we also need the `!important` here to be able to override the default hidden behavior on the sphinx rendered scikit-learn.org. See: https://github.com/scikit-learn/scikit-learn/issues/21755 */display: inline-block !important;position: relative;}#sk-container-id-8 div.sk-text-repr-fallback {display: none;}</style><div id=\"sk-container-id-8\" class=\"sk-top-container\"><div class=\"sk-text-repr-fallback\"><pre>Ridge()</pre><b>In a Jupyter environment, please rerun this cell to show the HTML representation or trust the notebook. <br />On GitHub, the HTML representation is unable to render, please try loading this page with nbviewer.org.</b></div><div class=\"sk-container\" hidden><div class=\"sk-item\"><div class=\"sk-estimator sk-toggleable\"><input class=\"sk-toggleable__control sk-hidden--visually\" id=\"sk-estimator-id-8\" type=\"checkbox\" checked><label for=\"sk-estimator-id-8\" class=\"sk-toggleable__label sk-toggleable__label-arrow\">Ridge</label><div class=\"sk-toggleable__content\"><pre>Ridge()</pre></div></div></div></div></div>"
      ],
      "text/plain": [
       "Ridge()"
      ]
     },
     "execution_count": 215,
     "metadata": {},
     "output_type": "execute_result"
    }
   ],
   "source": [
    "clf=Ridge()\n",
    "clf.fit(x_train,y_train)"
   ]
  },
  {
   "cell_type": "code",
   "execution_count": 216,
   "id": "d7637a11",
   "metadata": {},
   "outputs": [
    {
     "name": "stdout",
     "output_type": "stream",
     "text": [
      "\n",
      "================Train Result=============\n",
      "R2_Score:22.91%\n",
      "\n",
      "================Test Result=============\n",
      "R2_Score:21.62%\n",
      "\n",
      " Mean_Absolute_Error: 0.4694333834106165\n",
      "\n",
      " Mean_Squared_Error: 0.3699597356932972\n",
      "\n",
      " Random_mean_squared_error: 0.6082431550731148\n",
      "\n",
      " [0.21543121 0.2282432  0.23279553 0.20817535 0.23424474]\n",
      "\n",
      " 0.22377800462064448\n",
      "\n",
      " Difference between R2_score and cross validation is: -0.007568948474919762\n"
     ]
    }
   ],
   "source": [
    "metric_score(clf,x_train,x_test,y_train,y_test,train=True)\n",
    "metric_score(clf,x_train,x_test,y_train,y_test,train=False)"
   ]
  },
  {
   "cell_type": "markdown",
   "id": "1371e4e6",
   "metadata": {},
   "source": [
    "# DecisionTreeRegressor"
   ]
  },
  {
   "cell_type": "code",
   "execution_count": 218,
   "id": "bb9ec2ff",
   "metadata": {},
   "outputs": [
    {
     "data": {
      "text/html": [
       "<style>#sk-container-id-9 {color: black;background-color: white;}#sk-container-id-9 pre{padding: 0;}#sk-container-id-9 div.sk-toggleable {background-color: white;}#sk-container-id-9 label.sk-toggleable__label {cursor: pointer;display: block;width: 100%;margin-bottom: 0;padding: 0.3em;box-sizing: border-box;text-align: center;}#sk-container-id-9 label.sk-toggleable__label-arrow:before {content: \"▸\";float: left;margin-right: 0.25em;color: #696969;}#sk-container-id-9 label.sk-toggleable__label-arrow:hover:before {color: black;}#sk-container-id-9 div.sk-estimator:hover label.sk-toggleable__label-arrow:before {color: black;}#sk-container-id-9 div.sk-toggleable__content {max-height: 0;max-width: 0;overflow: hidden;text-align: left;background-color: #f0f8ff;}#sk-container-id-9 div.sk-toggleable__content pre {margin: 0.2em;color: black;border-radius: 0.25em;background-color: #f0f8ff;}#sk-container-id-9 input.sk-toggleable__control:checked~div.sk-toggleable__content {max-height: 200px;max-width: 100%;overflow: auto;}#sk-container-id-9 input.sk-toggleable__control:checked~label.sk-toggleable__label-arrow:before {content: \"▾\";}#sk-container-id-9 div.sk-estimator input.sk-toggleable__control:checked~label.sk-toggleable__label {background-color: #d4ebff;}#sk-container-id-9 div.sk-label input.sk-toggleable__control:checked~label.sk-toggleable__label {background-color: #d4ebff;}#sk-container-id-9 input.sk-hidden--visually {border: 0;clip: rect(1px 1px 1px 1px);clip: rect(1px, 1px, 1px, 1px);height: 1px;margin: -1px;overflow: hidden;padding: 0;position: absolute;width: 1px;}#sk-container-id-9 div.sk-estimator {font-family: monospace;background-color: #f0f8ff;border: 1px dotted black;border-radius: 0.25em;box-sizing: border-box;margin-bottom: 0.5em;}#sk-container-id-9 div.sk-estimator:hover {background-color: #d4ebff;}#sk-container-id-9 div.sk-parallel-item::after {content: \"\";width: 100%;border-bottom: 1px solid gray;flex-grow: 1;}#sk-container-id-9 div.sk-label:hover label.sk-toggleable__label {background-color: #d4ebff;}#sk-container-id-9 div.sk-serial::before {content: \"\";position: absolute;border-left: 1px solid gray;box-sizing: border-box;top: 0;bottom: 0;left: 50%;z-index: 0;}#sk-container-id-9 div.sk-serial {display: flex;flex-direction: column;align-items: center;background-color: white;padding-right: 0.2em;padding-left: 0.2em;position: relative;}#sk-container-id-9 div.sk-item {position: relative;z-index: 1;}#sk-container-id-9 div.sk-parallel {display: flex;align-items: stretch;justify-content: center;background-color: white;position: relative;}#sk-container-id-9 div.sk-item::before, #sk-container-id-9 div.sk-parallel-item::before {content: \"\";position: absolute;border-left: 1px solid gray;box-sizing: border-box;top: 0;bottom: 0;left: 50%;z-index: -1;}#sk-container-id-9 div.sk-parallel-item {display: flex;flex-direction: column;z-index: 1;position: relative;background-color: white;}#sk-container-id-9 div.sk-parallel-item:first-child::after {align-self: flex-end;width: 50%;}#sk-container-id-9 div.sk-parallel-item:last-child::after {align-self: flex-start;width: 50%;}#sk-container-id-9 div.sk-parallel-item:only-child::after {width: 0;}#sk-container-id-9 div.sk-dashed-wrapped {border: 1px dashed gray;margin: 0 0.4em 0.5em 0.4em;box-sizing: border-box;padding-bottom: 0.4em;background-color: white;}#sk-container-id-9 div.sk-label label {font-family: monospace;font-weight: bold;display: inline-block;line-height: 1.2em;}#sk-container-id-9 div.sk-label-container {text-align: center;}#sk-container-id-9 div.sk-container {/* jupyter's `normalize.less` sets `[hidden] { display: none; }` but bootstrap.min.css set `[hidden] { display: none !important; }` so we also need the `!important` here to be able to override the default hidden behavior on the sphinx rendered scikit-learn.org. See: https://github.com/scikit-learn/scikit-learn/issues/21755 */display: inline-block !important;position: relative;}#sk-container-id-9 div.sk-text-repr-fallback {display: none;}</style><div id=\"sk-container-id-9\" class=\"sk-top-container\"><div class=\"sk-text-repr-fallback\"><pre>DecisionTreeRegressor()</pre><b>In a Jupyter environment, please rerun this cell to show the HTML representation or trust the notebook. <br />On GitHub, the HTML representation is unable to render, please try loading this page with nbviewer.org.</b></div><div class=\"sk-container\" hidden><div class=\"sk-item\"><div class=\"sk-estimator sk-toggleable\"><input class=\"sk-toggleable__control sk-hidden--visually\" id=\"sk-estimator-id-9\" type=\"checkbox\" checked><label for=\"sk-estimator-id-9\" class=\"sk-toggleable__label sk-toggleable__label-arrow\">DecisionTreeRegressor</label><div class=\"sk-toggleable__content\"><pre>DecisionTreeRegressor()</pre></div></div></div></div></div>"
      ],
      "text/plain": [
       "DecisionTreeRegressor()"
      ]
     },
     "execution_count": 218,
     "metadata": {},
     "output_type": "execute_result"
    }
   ],
   "source": [
    "clf= DecisionTreeRegressor()\n",
    "clf.fit(x_train,y_train)"
   ]
  },
  {
   "cell_type": "code",
   "execution_count": 219,
   "id": "d3dee73e",
   "metadata": {},
   "outputs": [
    {
     "name": "stdout",
     "output_type": "stream",
     "text": [
      "\n",
      "================Train Result=============\n",
      "R2_Score:100.00%\n",
      "\n",
      "================Test Result=============\n",
      "R2_Score:37.51%\n",
      "\n",
      " Mean_Absolute_Error: 0.4175552607600938\n",
      "\n",
      " Mean_Squared_Error: 0.29496328888592366\n",
      "\n",
      " Random_mean_squared_error: 0.5431052281887219\n",
      "\n",
      " [0.35599523 0.36344731 0.38197323 0.36540332 0.43837304]\n",
      "\n",
      " 0.38103842880634514\n",
      "\n",
      " Difference between R2_score and cross validation is: -0.0059430665097285895\n"
     ]
    }
   ],
   "source": [
    "metric_score(clf,x_train,x_test,y_train,y_test,train=True)\n",
    "metric_score(clf,x_train,x_test,y_train,y_test,train=False)"
   ]
  },
  {
   "cell_type": "markdown",
   "id": "38bbf379",
   "metadata": {},
   "source": [
    "# SVR"
   ]
  },
  {
   "cell_type": "code",
   "execution_count": 220,
   "id": "a3cca001",
   "metadata": {},
   "outputs": [
    {
     "data": {
      "text/html": [
       "<style>#sk-container-id-10 {color: black;background-color: white;}#sk-container-id-10 pre{padding: 0;}#sk-container-id-10 div.sk-toggleable {background-color: white;}#sk-container-id-10 label.sk-toggleable__label {cursor: pointer;display: block;width: 100%;margin-bottom: 0;padding: 0.3em;box-sizing: border-box;text-align: center;}#sk-container-id-10 label.sk-toggleable__label-arrow:before {content: \"▸\";float: left;margin-right: 0.25em;color: #696969;}#sk-container-id-10 label.sk-toggleable__label-arrow:hover:before {color: black;}#sk-container-id-10 div.sk-estimator:hover label.sk-toggleable__label-arrow:before {color: black;}#sk-container-id-10 div.sk-toggleable__content {max-height: 0;max-width: 0;overflow: hidden;text-align: left;background-color: #f0f8ff;}#sk-container-id-10 div.sk-toggleable__content pre {margin: 0.2em;color: black;border-radius: 0.25em;background-color: #f0f8ff;}#sk-container-id-10 input.sk-toggleable__control:checked~div.sk-toggleable__content {max-height: 200px;max-width: 100%;overflow: auto;}#sk-container-id-10 input.sk-toggleable__control:checked~label.sk-toggleable__label-arrow:before {content: \"▾\";}#sk-container-id-10 div.sk-estimator input.sk-toggleable__control:checked~label.sk-toggleable__label {background-color: #d4ebff;}#sk-container-id-10 div.sk-label input.sk-toggleable__control:checked~label.sk-toggleable__label {background-color: #d4ebff;}#sk-container-id-10 input.sk-hidden--visually {border: 0;clip: rect(1px 1px 1px 1px);clip: rect(1px, 1px, 1px, 1px);height: 1px;margin: -1px;overflow: hidden;padding: 0;position: absolute;width: 1px;}#sk-container-id-10 div.sk-estimator {font-family: monospace;background-color: #f0f8ff;border: 1px dotted black;border-radius: 0.25em;box-sizing: border-box;margin-bottom: 0.5em;}#sk-container-id-10 div.sk-estimator:hover {background-color: #d4ebff;}#sk-container-id-10 div.sk-parallel-item::after {content: \"\";width: 100%;border-bottom: 1px solid gray;flex-grow: 1;}#sk-container-id-10 div.sk-label:hover label.sk-toggleable__label {background-color: #d4ebff;}#sk-container-id-10 div.sk-serial::before {content: \"\";position: absolute;border-left: 1px solid gray;box-sizing: border-box;top: 0;bottom: 0;left: 50%;z-index: 0;}#sk-container-id-10 div.sk-serial {display: flex;flex-direction: column;align-items: center;background-color: white;padding-right: 0.2em;padding-left: 0.2em;position: relative;}#sk-container-id-10 div.sk-item {position: relative;z-index: 1;}#sk-container-id-10 div.sk-parallel {display: flex;align-items: stretch;justify-content: center;background-color: white;position: relative;}#sk-container-id-10 div.sk-item::before, #sk-container-id-10 div.sk-parallel-item::before {content: \"\";position: absolute;border-left: 1px solid gray;box-sizing: border-box;top: 0;bottom: 0;left: 50%;z-index: -1;}#sk-container-id-10 div.sk-parallel-item {display: flex;flex-direction: column;z-index: 1;position: relative;background-color: white;}#sk-container-id-10 div.sk-parallel-item:first-child::after {align-self: flex-end;width: 50%;}#sk-container-id-10 div.sk-parallel-item:last-child::after {align-self: flex-start;width: 50%;}#sk-container-id-10 div.sk-parallel-item:only-child::after {width: 0;}#sk-container-id-10 div.sk-dashed-wrapped {border: 1px dashed gray;margin: 0 0.4em 0.5em 0.4em;box-sizing: border-box;padding-bottom: 0.4em;background-color: white;}#sk-container-id-10 div.sk-label label {font-family: monospace;font-weight: bold;display: inline-block;line-height: 1.2em;}#sk-container-id-10 div.sk-label-container {text-align: center;}#sk-container-id-10 div.sk-container {/* jupyter's `normalize.less` sets `[hidden] { display: none; }` but bootstrap.min.css set `[hidden] { display: none !important; }` so we also need the `!important` here to be able to override the default hidden behavior on the sphinx rendered scikit-learn.org. See: https://github.com/scikit-learn/scikit-learn/issues/21755 */display: inline-block !important;position: relative;}#sk-container-id-10 div.sk-text-repr-fallback {display: none;}</style><div id=\"sk-container-id-10\" class=\"sk-top-container\"><div class=\"sk-text-repr-fallback\"><pre>SVR()</pre><b>In a Jupyter environment, please rerun this cell to show the HTML representation or trust the notebook. <br />On GitHub, the HTML representation is unable to render, please try loading this page with nbviewer.org.</b></div><div class=\"sk-container\" hidden><div class=\"sk-item\"><div class=\"sk-estimator sk-toggleable\"><input class=\"sk-toggleable__control sk-hidden--visually\" id=\"sk-estimator-id-10\" type=\"checkbox\" checked><label for=\"sk-estimator-id-10\" class=\"sk-toggleable__label sk-toggleable__label-arrow\">SVR</label><div class=\"sk-toggleable__content\"><pre>SVR()</pre></div></div></div></div></div>"
      ],
      "text/plain": [
       "SVR()"
      ]
     },
     "execution_count": 220,
     "metadata": {},
     "output_type": "execute_result"
    }
   ],
   "source": [
    "clf=SVR()\n",
    "clf.fit(x_train,y_train)"
   ]
  },
  {
   "cell_type": "code",
   "execution_count": 221,
   "id": "bf2e1dbf",
   "metadata": {},
   "outputs": [
    {
     "name": "stdout",
     "output_type": "stream",
     "text": [
      "\n",
      "================Train Result=============\n",
      "R2_Score:46.63%\n",
      "\n",
      "================Test Result=============\n",
      "R2_Score:42.40%\n",
      "\n",
      " Mean_Absolute_Error: 0.3972592664679349\n",
      "\n",
      " Mean_Squared_Error: 0.2718575653838893\n",
      "\n",
      " Random_mean_squared_error: 0.5213996215801171\n",
      "\n",
      " [0.42453847 0.40066566 0.42575998 0.41927811 0.46967066]\n",
      "\n",
      " 0.42798257536445383\n",
      "\n",
      " Difference between R2_score and cross validation is: -0.0039357865074372\n"
     ]
    }
   ],
   "source": [
    "metric_score(clf,x_train,x_test,y_train,y_test,train=True)\n",
    "metric_score(clf,x_train,x_test,y_train,y_test,train=False)"
   ]
  },
  {
   "cell_type": "markdown",
   "id": "336a904b",
   "metadata": {},
   "source": [
    "# ExtraTreesRegressor"
   ]
  },
  {
   "cell_type": "code",
   "execution_count": 222,
   "id": "78ca8945",
   "metadata": {},
   "outputs": [
    {
     "data": {
      "text/html": [
       "<style>#sk-container-id-11 {color: black;background-color: white;}#sk-container-id-11 pre{padding: 0;}#sk-container-id-11 div.sk-toggleable {background-color: white;}#sk-container-id-11 label.sk-toggleable__label {cursor: pointer;display: block;width: 100%;margin-bottom: 0;padding: 0.3em;box-sizing: border-box;text-align: center;}#sk-container-id-11 label.sk-toggleable__label-arrow:before {content: \"▸\";float: left;margin-right: 0.25em;color: #696969;}#sk-container-id-11 label.sk-toggleable__label-arrow:hover:before {color: black;}#sk-container-id-11 div.sk-estimator:hover label.sk-toggleable__label-arrow:before {color: black;}#sk-container-id-11 div.sk-toggleable__content {max-height: 0;max-width: 0;overflow: hidden;text-align: left;background-color: #f0f8ff;}#sk-container-id-11 div.sk-toggleable__content pre {margin: 0.2em;color: black;border-radius: 0.25em;background-color: #f0f8ff;}#sk-container-id-11 input.sk-toggleable__control:checked~div.sk-toggleable__content {max-height: 200px;max-width: 100%;overflow: auto;}#sk-container-id-11 input.sk-toggleable__control:checked~label.sk-toggleable__label-arrow:before {content: \"▾\";}#sk-container-id-11 div.sk-estimator input.sk-toggleable__control:checked~label.sk-toggleable__label {background-color: #d4ebff;}#sk-container-id-11 div.sk-label input.sk-toggleable__control:checked~label.sk-toggleable__label {background-color: #d4ebff;}#sk-container-id-11 input.sk-hidden--visually {border: 0;clip: rect(1px 1px 1px 1px);clip: rect(1px, 1px, 1px, 1px);height: 1px;margin: -1px;overflow: hidden;padding: 0;position: absolute;width: 1px;}#sk-container-id-11 div.sk-estimator {font-family: monospace;background-color: #f0f8ff;border: 1px dotted black;border-radius: 0.25em;box-sizing: border-box;margin-bottom: 0.5em;}#sk-container-id-11 div.sk-estimator:hover {background-color: #d4ebff;}#sk-container-id-11 div.sk-parallel-item::after {content: \"\";width: 100%;border-bottom: 1px solid gray;flex-grow: 1;}#sk-container-id-11 div.sk-label:hover label.sk-toggleable__label {background-color: #d4ebff;}#sk-container-id-11 div.sk-serial::before {content: \"\";position: absolute;border-left: 1px solid gray;box-sizing: border-box;top: 0;bottom: 0;left: 50%;z-index: 0;}#sk-container-id-11 div.sk-serial {display: flex;flex-direction: column;align-items: center;background-color: white;padding-right: 0.2em;padding-left: 0.2em;position: relative;}#sk-container-id-11 div.sk-item {position: relative;z-index: 1;}#sk-container-id-11 div.sk-parallel {display: flex;align-items: stretch;justify-content: center;background-color: white;position: relative;}#sk-container-id-11 div.sk-item::before, #sk-container-id-11 div.sk-parallel-item::before {content: \"\";position: absolute;border-left: 1px solid gray;box-sizing: border-box;top: 0;bottom: 0;left: 50%;z-index: -1;}#sk-container-id-11 div.sk-parallel-item {display: flex;flex-direction: column;z-index: 1;position: relative;background-color: white;}#sk-container-id-11 div.sk-parallel-item:first-child::after {align-self: flex-end;width: 50%;}#sk-container-id-11 div.sk-parallel-item:last-child::after {align-self: flex-start;width: 50%;}#sk-container-id-11 div.sk-parallel-item:only-child::after {width: 0;}#sk-container-id-11 div.sk-dashed-wrapped {border: 1px dashed gray;margin: 0 0.4em 0.5em 0.4em;box-sizing: border-box;padding-bottom: 0.4em;background-color: white;}#sk-container-id-11 div.sk-label label {font-family: monospace;font-weight: bold;display: inline-block;line-height: 1.2em;}#sk-container-id-11 div.sk-label-container {text-align: center;}#sk-container-id-11 div.sk-container {/* jupyter's `normalize.less` sets `[hidden] { display: none; }` but bootstrap.min.css set `[hidden] { display: none !important; }` so we also need the `!important` here to be able to override the default hidden behavior on the sphinx rendered scikit-learn.org. See: https://github.com/scikit-learn/scikit-learn/issues/21755 */display: inline-block !important;position: relative;}#sk-container-id-11 div.sk-text-repr-fallback {display: none;}</style><div id=\"sk-container-id-11\" class=\"sk-top-container\"><div class=\"sk-text-repr-fallback\"><pre>ExtraTreesRegressor()</pre><b>In a Jupyter environment, please rerun this cell to show the HTML representation or trust the notebook. <br />On GitHub, the HTML representation is unable to render, please try loading this page with nbviewer.org.</b></div><div class=\"sk-container\" hidden><div class=\"sk-item\"><div class=\"sk-estimator sk-toggleable\"><input class=\"sk-toggleable__control sk-hidden--visually\" id=\"sk-estimator-id-11\" type=\"checkbox\" checked><label for=\"sk-estimator-id-11\" class=\"sk-toggleable__label sk-toggleable__label-arrow\">ExtraTreesRegressor</label><div class=\"sk-toggleable__content\"><pre>ExtraTreesRegressor()</pre></div></div></div></div></div>"
      ],
      "text/plain": [
       "ExtraTreesRegressor()"
      ]
     },
     "execution_count": 222,
     "metadata": {},
     "output_type": "execute_result"
    }
   ],
   "source": [
    "clf=ExtraTreesRegressor()\n",
    "clf.fit(x_train,y_train)"
   ]
  },
  {
   "cell_type": "code",
   "execution_count": 223,
   "id": "29145b40",
   "metadata": {},
   "outputs": [
    {
     "name": "stdout",
     "output_type": "stream",
     "text": [
      "\n",
      "================Train Result=============\n",
      "R2_Score:100.00%\n",
      "\n",
      "================Test Result=============\n",
      "R2_Score:64.87%\n",
      "\n",
      " Mean_Absolute_Error: 0.3161522250146608\n",
      "\n",
      " Mean_Squared_Error: 0.16582651948049482\n",
      "\n",
      " Random_mean_squared_error: 0.40721802450345296\n",
      "\n",
      " [0.64869781 0.64510374 0.66306428 0.63800122 0.68571155]\n",
      "\n",
      " 0.6561157194686187\n",
      "\n",
      " Difference between R2_score and cross validation is: -0.0074332053461534375\n"
     ]
    }
   ],
   "source": [
    "metric_score(clf,x_train,x_test,y_train,y_test,train=True)\n",
    "metric_score(clf,x_train,x_test,y_train,y_test,train=False)"
   ]
  },
  {
   "cell_type": "markdown",
   "id": "a06718cf",
   "metadata": {},
   "source": [
    "## Checking Difference between r2_score and cross validation,the model RandomForestRegressor has lowest value so RandomForestRegressor is our best model."
   ]
  },
  {
   "cell_type": "markdown",
   "id": "10f974f9",
   "metadata": {},
   "source": [
    "# Hyperparameter Tuning"
   ]
  },
  {
   "cell_type": "code",
   "execution_count": 230,
   "id": "4311f3fe",
   "metadata": {},
   "outputs": [],
   "source": [
    "param = {\n",
    "    'n_estimators': [100, 200, 300],  \n",
    "    'max_depth': [10, 20, 30],\n",
    "    'max_features': ['sqrt', 'log2'],\n",
    "    'min_samples_split':[2,5,10],\n",
    "      'min_samples_leaf':[2,4,6]\n",
    "}\n"
   ]
  },
  {
   "cell_type": "code",
   "execution_count": 231,
   "id": "a27cb89e",
   "metadata": {},
   "outputs": [
    {
     "data": {
      "text/html": [
       "<style>#sk-container-id-12 {color: black;background-color: white;}#sk-container-id-12 pre{padding: 0;}#sk-container-id-12 div.sk-toggleable {background-color: white;}#sk-container-id-12 label.sk-toggleable__label {cursor: pointer;display: block;width: 100%;margin-bottom: 0;padding: 0.3em;box-sizing: border-box;text-align: center;}#sk-container-id-12 label.sk-toggleable__label-arrow:before {content: \"▸\";float: left;margin-right: 0.25em;color: #696969;}#sk-container-id-12 label.sk-toggleable__label-arrow:hover:before {color: black;}#sk-container-id-12 div.sk-estimator:hover label.sk-toggleable__label-arrow:before {color: black;}#sk-container-id-12 div.sk-toggleable__content {max-height: 0;max-width: 0;overflow: hidden;text-align: left;background-color: #f0f8ff;}#sk-container-id-12 div.sk-toggleable__content pre {margin: 0.2em;color: black;border-radius: 0.25em;background-color: #f0f8ff;}#sk-container-id-12 input.sk-toggleable__control:checked~div.sk-toggleable__content {max-height: 200px;max-width: 100%;overflow: auto;}#sk-container-id-12 input.sk-toggleable__control:checked~label.sk-toggleable__label-arrow:before {content: \"▾\";}#sk-container-id-12 div.sk-estimator input.sk-toggleable__control:checked~label.sk-toggleable__label {background-color: #d4ebff;}#sk-container-id-12 div.sk-label input.sk-toggleable__control:checked~label.sk-toggleable__label {background-color: #d4ebff;}#sk-container-id-12 input.sk-hidden--visually {border: 0;clip: rect(1px 1px 1px 1px);clip: rect(1px, 1px, 1px, 1px);height: 1px;margin: -1px;overflow: hidden;padding: 0;position: absolute;width: 1px;}#sk-container-id-12 div.sk-estimator {font-family: monospace;background-color: #f0f8ff;border: 1px dotted black;border-radius: 0.25em;box-sizing: border-box;margin-bottom: 0.5em;}#sk-container-id-12 div.sk-estimator:hover {background-color: #d4ebff;}#sk-container-id-12 div.sk-parallel-item::after {content: \"\";width: 100%;border-bottom: 1px solid gray;flex-grow: 1;}#sk-container-id-12 div.sk-label:hover label.sk-toggleable__label {background-color: #d4ebff;}#sk-container-id-12 div.sk-serial::before {content: \"\";position: absolute;border-left: 1px solid gray;box-sizing: border-box;top: 0;bottom: 0;left: 50%;z-index: 0;}#sk-container-id-12 div.sk-serial {display: flex;flex-direction: column;align-items: center;background-color: white;padding-right: 0.2em;padding-left: 0.2em;position: relative;}#sk-container-id-12 div.sk-item {position: relative;z-index: 1;}#sk-container-id-12 div.sk-parallel {display: flex;align-items: stretch;justify-content: center;background-color: white;position: relative;}#sk-container-id-12 div.sk-item::before, #sk-container-id-12 div.sk-parallel-item::before {content: \"\";position: absolute;border-left: 1px solid gray;box-sizing: border-box;top: 0;bottom: 0;left: 50%;z-index: -1;}#sk-container-id-12 div.sk-parallel-item {display: flex;flex-direction: column;z-index: 1;position: relative;background-color: white;}#sk-container-id-12 div.sk-parallel-item:first-child::after {align-self: flex-end;width: 50%;}#sk-container-id-12 div.sk-parallel-item:last-child::after {align-self: flex-start;width: 50%;}#sk-container-id-12 div.sk-parallel-item:only-child::after {width: 0;}#sk-container-id-12 div.sk-dashed-wrapped {border: 1px dashed gray;margin: 0 0.4em 0.5em 0.4em;box-sizing: border-box;padding-bottom: 0.4em;background-color: white;}#sk-container-id-12 div.sk-label label {font-family: monospace;font-weight: bold;display: inline-block;line-height: 1.2em;}#sk-container-id-12 div.sk-label-container {text-align: center;}#sk-container-id-12 div.sk-container {/* jupyter's `normalize.less` sets `[hidden] { display: none; }` but bootstrap.min.css set `[hidden] { display: none !important; }` so we also need the `!important` here to be able to override the default hidden behavior on the sphinx rendered scikit-learn.org. See: https://github.com/scikit-learn/scikit-learn/issues/21755 */display: inline-block !important;position: relative;}#sk-container-id-12 div.sk-text-repr-fallback {display: none;}</style><div id=\"sk-container-id-12\" class=\"sk-top-container\"><div class=\"sk-text-repr-fallback\"><pre>GridSearchCV(cv=5, estimator=RandomForestRegressor(),\n",
       "             param_grid={&#x27;max_depth&#x27;: [10, 20, 30],\n",
       "                         &#x27;max_features&#x27;: [&#x27;sqrt&#x27;, &#x27;log2&#x27;],\n",
       "                         &#x27;min_samples_leaf&#x27;: [2, 4, 6],\n",
       "                         &#x27;min_samples_split&#x27;: [2, 5, 10],\n",
       "                         &#x27;n_estimators&#x27;: [100, 200, 300]})</pre><b>In a Jupyter environment, please rerun this cell to show the HTML representation or trust the notebook. <br />On GitHub, the HTML representation is unable to render, please try loading this page with nbviewer.org.</b></div><div class=\"sk-container\" hidden><div class=\"sk-item sk-dashed-wrapped\"><div class=\"sk-label-container\"><div class=\"sk-label sk-toggleable\"><input class=\"sk-toggleable__control sk-hidden--visually\" id=\"sk-estimator-id-12\" type=\"checkbox\" ><label for=\"sk-estimator-id-12\" class=\"sk-toggleable__label sk-toggleable__label-arrow\">GridSearchCV</label><div class=\"sk-toggleable__content\"><pre>GridSearchCV(cv=5, estimator=RandomForestRegressor(),\n",
       "             param_grid={&#x27;max_depth&#x27;: [10, 20, 30],\n",
       "                         &#x27;max_features&#x27;: [&#x27;sqrt&#x27;, &#x27;log2&#x27;],\n",
       "                         &#x27;min_samples_leaf&#x27;: [2, 4, 6],\n",
       "                         &#x27;min_samples_split&#x27;: [2, 5, 10],\n",
       "                         &#x27;n_estimators&#x27;: [100, 200, 300]})</pre></div></div></div><div class=\"sk-parallel\"><div class=\"sk-parallel-item\"><div class=\"sk-item\"><div class=\"sk-label-container\"><div class=\"sk-label sk-toggleable\"><input class=\"sk-toggleable__control sk-hidden--visually\" id=\"sk-estimator-id-13\" type=\"checkbox\" ><label for=\"sk-estimator-id-13\" class=\"sk-toggleable__label sk-toggleable__label-arrow\">estimator: RandomForestRegressor</label><div class=\"sk-toggleable__content\"><pre>RandomForestRegressor()</pre></div></div></div><div class=\"sk-serial\"><div class=\"sk-item\"><div class=\"sk-estimator sk-toggleable\"><input class=\"sk-toggleable__control sk-hidden--visually\" id=\"sk-estimator-id-14\" type=\"checkbox\" ><label for=\"sk-estimator-id-14\" class=\"sk-toggleable__label sk-toggleable__label-arrow\">RandomForestRegressor</label><div class=\"sk-toggleable__content\"><pre>RandomForestRegressor()</pre></div></div></div></div></div></div></div></div></div></div>"
      ],
      "text/plain": [
       "GridSearchCV(cv=5, estimator=RandomForestRegressor(),\n",
       "             param_grid={'max_depth': [10, 20, 30],\n",
       "                         'max_features': ['sqrt', 'log2'],\n",
       "                         'min_samples_leaf': [2, 4, 6],\n",
       "                         'min_samples_split': [2, 5, 10],\n",
       "                         'n_estimators': [100, 200, 300]})"
      ]
     },
     "execution_count": 231,
     "metadata": {},
     "output_type": "execute_result"
    }
   ],
   "source": [
    "gscv=GridSearchCV(RandomForestRegressor(),param,cv=5)\n",
    "gscv.fit(x_train,y_train)"
   ]
  },
  {
   "cell_type": "code",
   "execution_count": 232,
   "id": "bc088acb",
   "metadata": {},
   "outputs": [
    {
     "data": {
      "text/plain": [
       "{'max_depth': 20,\n",
       " 'max_features': 'sqrt',\n",
       " 'min_samples_leaf': 2,\n",
       " 'min_samples_split': 5,\n",
       " 'n_estimators': 200}"
      ]
     },
     "execution_count": 232,
     "metadata": {},
     "output_type": "execute_result"
    }
   ],
   "source": [
    "gscv.best_params_"
   ]
  },
  {
   "cell_type": "markdown",
   "id": "16c93333",
   "metadata": {},
   "source": [
    "# Final Model"
   ]
  },
  {
   "cell_type": "code",
   "execution_count": 233,
   "id": "181c3add",
   "metadata": {},
   "outputs": [],
   "source": [
    "RFC_model=RandomForestRegressor(max_features='sqrt',\n",
    "                                    max_depth=20,\n",
    "                                    min_samples_leaf=2,\n",
    "                                    min_samples_split=5,\n",
    "                                    n_estimators=200)"
   ]
  },
  {
   "cell_type": "code",
   "execution_count": 234,
   "id": "9865f72d",
   "metadata": {},
   "outputs": [
    {
     "name": "stdout",
     "output_type": "stream",
     "text": [
      "63.147070771448234\n"
     ]
    }
   ],
   "source": [
    "RFC_model.fit(x_train,y_train)\n",
    "pred=RFC_model.predict(x_test)\n",
    "r2_score=r2_score(y_test,pred)\n",
    "print(r2_score*100)"
   ]
  },
  {
   "cell_type": "markdown",
   "id": "32f8c28c",
   "metadata": {},
   "source": [
    "# Saving The Model"
   ]
  },
  {
   "cell_type": "code",
   "execution_count": 235,
   "id": "d2e52a7b",
   "metadata": {},
   "outputs": [
    {
     "data": {
      "text/plain": [
       "['Restaurant Food Cost project.pkl']"
      ]
     },
     "execution_count": 235,
     "metadata": {},
     "output_type": "execute_result"
    }
   ],
   "source": [
    "joblib.dump(RFC_model,'Restaurant Food Cost project.pkl')"
   ]
  },
  {
   "cell_type": "markdown",
   "id": "d301d2d4",
   "metadata": {},
   "source": [
    "# Predicting the saved model"
   ]
  },
  {
   "cell_type": "code",
   "execution_count": 236,
   "id": "bdefd883",
   "metadata": {},
   "outputs": [],
   "source": [
    "model=joblib.load('Restaurant Food Cost project.pkl')"
   ]
  },
  {
   "cell_type": "code",
   "execution_count": 237,
   "id": "72fefcf4",
   "metadata": {},
   "outputs": [
    {
     "data": {
      "text/plain": [
       "array([6.653755  , 6.17766216, 6.24760074, ..., 6.96899008, 5.72527588,\n",
       "       7.09682155])"
      ]
     },
     "execution_count": 237,
     "metadata": {},
     "output_type": "execute_result"
    }
   ],
   "source": [
    "prediction=model.predict(x_test)\n",
    "prediction"
   ]
  },
  {
   "cell_type": "code",
   "execution_count": 238,
   "id": "fb1f048e",
   "metadata": {},
   "outputs": [
    {
     "data": {
      "text/html": [
       "<div>\n",
       "<style scoped>\n",
       "    .dataframe tbody tr th:only-of-type {\n",
       "        vertical-align: middle;\n",
       "    }\n",
       "\n",
       "    .dataframe tbody tr th {\n",
       "        vertical-align: top;\n",
       "    }\n",
       "\n",
       "    .dataframe thead th {\n",
       "        text-align: right;\n",
       "    }\n",
       "</style>\n",
       "<table border=\"1\" class=\"dataframe\">\n",
       "  <thead>\n",
       "    <tr style=\"text-align: right;\">\n",
       "      <th></th>\n",
       "      <th>Predicted</th>\n",
       "      <th>original</th>\n",
       "    </tr>\n",
       "  </thead>\n",
       "  <tbody>\n",
       "    <tr>\n",
       "      <th>0</th>\n",
       "      <td>6.653755</td>\n",
       "      <td>6.551080</td>\n",
       "    </tr>\n",
       "    <tr>\n",
       "      <th>1</th>\n",
       "      <td>6.177662</td>\n",
       "      <td>6.551080</td>\n",
       "    </tr>\n",
       "    <tr>\n",
       "      <th>2</th>\n",
       "      <td>6.247601</td>\n",
       "      <td>6.907755</td>\n",
       "    </tr>\n",
       "    <tr>\n",
       "      <th>3</th>\n",
       "      <td>6.017003</td>\n",
       "      <td>5.857933</td>\n",
       "    </tr>\n",
       "    <tr>\n",
       "      <th>4</th>\n",
       "      <td>5.551094</td>\n",
       "      <td>5.521461</td>\n",
       "    </tr>\n",
       "    <tr>\n",
       "      <th>...</th>\n",
       "      <td>...</td>\n",
       "      <td>...</td>\n",
       "    </tr>\n",
       "    <tr>\n",
       "      <th>3580</th>\n",
       "      <td>6.547665</td>\n",
       "      <td>6.551080</td>\n",
       "    </tr>\n",
       "    <tr>\n",
       "      <th>3581</th>\n",
       "      <td>6.209467</td>\n",
       "      <td>5.991465</td>\n",
       "    </tr>\n",
       "    <tr>\n",
       "      <th>3582</th>\n",
       "      <td>6.968990</td>\n",
       "      <td>7.090077</td>\n",
       "    </tr>\n",
       "    <tr>\n",
       "      <th>3583</th>\n",
       "      <td>5.725276</td>\n",
       "      <td>4.605170</td>\n",
       "    </tr>\n",
       "    <tr>\n",
       "      <th>3584</th>\n",
       "      <td>7.096822</td>\n",
       "      <td>7.244228</td>\n",
       "    </tr>\n",
       "  </tbody>\n",
       "</table>\n",
       "<p>3585 rows × 2 columns</p>\n",
       "</div>"
      ],
      "text/plain": [
       "      Predicted  original\n",
       "0      6.653755  6.551080\n",
       "1      6.177662  6.551080\n",
       "2      6.247601  6.907755\n",
       "3      6.017003  5.857933\n",
       "4      5.551094  5.521461\n",
       "...         ...       ...\n",
       "3580   6.547665  6.551080\n",
       "3581   6.209467  5.991465\n",
       "3582   6.968990  7.090077\n",
       "3583   5.725276  4.605170\n",
       "3584   7.096822  7.244228\n",
       "\n",
       "[3585 rows x 2 columns]"
      ]
     },
     "execution_count": 238,
     "metadata": {},
     "output_type": "execute_result"
    }
   ],
   "source": [
    "a=np.array(y_test)\n",
    "df=pd.DataFrame()\n",
    "df[\"Predicted\"]=prediction\n",
    "df[\"original\"]=a\n",
    "df"
   ]
  },
  {
   "cell_type": "markdown",
   "id": "8ce51c0a",
   "metadata": {},
   "source": [
    "**The values are in log transform ,we can convert it into normal form**"
   ]
  },
  {
   "cell_type": "markdown",
   "id": "99fd9aa2",
   "metadata": {},
   "source": [
    "# Predicting on testing data"
   ]
  },
  {
   "cell_type": "code",
   "execution_count": 241,
   "id": "f2555fbf",
   "metadata": {},
   "outputs": [
    {
     "data": {
      "text/html": [
       "<div>\n",
       "<style scoped>\n",
       "    .dataframe tbody tr th:only-of-type {\n",
       "        vertical-align: middle;\n",
       "    }\n",
       "\n",
       "    .dataframe tbody tr th {\n",
       "        vertical-align: top;\n",
       "    }\n",
       "\n",
       "    .dataframe thead th {\n",
       "        text-align: right;\n",
       "    }\n",
       "</style>\n",
       "<table border=\"1\" class=\"dataframe\">\n",
       "  <thead>\n",
       "    <tr style=\"text-align: right;\">\n",
       "      <th></th>\n",
       "      <th>TITLE</th>\n",
       "      <th>CUISINES</th>\n",
       "      <th>TIME</th>\n",
       "      <th>CITY</th>\n",
       "      <th>LOCALITY</th>\n",
       "      <th>RATING</th>\n",
       "      <th>COST</th>\n",
       "    </tr>\n",
       "  </thead>\n",
       "  <tbody>\n",
       "    <tr>\n",
       "      <th>0</th>\n",
       "      <td>-0.865970</td>\n",
       "      <td>0.732516</td>\n",
       "      <td>-0.060454</td>\n",
       "      <td>1.336780</td>\n",
       "      <td>1.185448</td>\n",
       "      <td>0.856933</td>\n",
       "      <td>7.020471</td>\n",
       "    </tr>\n",
       "    <tr>\n",
       "      <th>1</th>\n",
       "      <td>1.059097</td>\n",
       "      <td>1.412578</td>\n",
       "      <td>1.202501</td>\n",
       "      <td>0.975152</td>\n",
       "      <td>-0.691133</td>\n",
       "      <td>0.694526</td>\n",
       "      <td>5.860127</td>\n",
       "    </tr>\n",
       "    <tr>\n",
       "      <th>2</th>\n",
       "      <td>-0.865970</td>\n",
       "      <td>1.057502</td>\n",
       "      <td>-0.894591</td>\n",
       "      <td>0.975152</td>\n",
       "      <td>0.117371</td>\n",
       "      <td>0.044897</td>\n",
       "      <td>6.595788</td>\n",
       "    </tr>\n",
       "    <tr>\n",
       "      <th>3</th>\n",
       "      <td>1.059097</td>\n",
       "      <td>-1.444082</td>\n",
       "      <td>1.607821</td>\n",
       "      <td>-0.445526</td>\n",
       "      <td>0.308859</td>\n",
       "      <td>0.044897</td>\n",
       "      <td>5.740824</td>\n",
       "    </tr>\n",
       "    <tr>\n",
       "      <th>4</th>\n",
       "      <td>1.059097</td>\n",
       "      <td>1.422608</td>\n",
       "      <td>-0.926899</td>\n",
       "      <td>0.510203</td>\n",
       "      <td>-0.354965</td>\n",
       "      <td>-0.279917</td>\n",
       "      <td>5.863681</td>\n",
       "    </tr>\n",
       "    <tr>\n",
       "      <th>...</th>\n",
       "      <td>...</td>\n",
       "      <td>...</td>\n",
       "      <td>...</td>\n",
       "      <td>...</td>\n",
       "      <td>...</td>\n",
       "      <td>...</td>\n",
       "      <td>...</td>\n",
       "    </tr>\n",
       "    <tr>\n",
       "      <th>4220</th>\n",
       "      <td>-0.865970</td>\n",
       "      <td>0.997319</td>\n",
       "      <td>-1.235295</td>\n",
       "      <td>1.285119</td>\n",
       "      <td>0.908854</td>\n",
       "      <td>0.207304</td>\n",
       "      <td>6.748544</td>\n",
       "    </tr>\n",
       "    <tr>\n",
       "      <th>4221</th>\n",
       "      <td>1.059097</td>\n",
       "      <td>-1.325723</td>\n",
       "      <td>-0.768296</td>\n",
       "      <td>-1.272103</td>\n",
       "      <td>-0.623048</td>\n",
       "      <td>0.856933</td>\n",
       "      <td>6.166302</td>\n",
       "    </tr>\n",
       "    <tr>\n",
       "      <th>4222</th>\n",
       "      <td>1.059097</td>\n",
       "      <td>-0.499217</td>\n",
       "      <td>1.552016</td>\n",
       "      <td>-0.445526</td>\n",
       "      <td>1.330128</td>\n",
       "      <td>-0.117510</td>\n",
       "      <td>5.806207</td>\n",
       "    </tr>\n",
       "    <tr>\n",
       "      <th>4223</th>\n",
       "      <td>1.059097</td>\n",
       "      <td>1.230025</td>\n",
       "      <td>-0.906339</td>\n",
       "      <td>0.510203</td>\n",
       "      <td>-0.218796</td>\n",
       "      <td>-2.878430</td>\n",
       "      <td>5.915938</td>\n",
       "    </tr>\n",
       "    <tr>\n",
       "      <th>4224</th>\n",
       "      <td>1.059097</td>\n",
       "      <td>0.435616</td>\n",
       "      <td>0.756061</td>\n",
       "      <td>-1.297933</td>\n",
       "      <td>0.836515</td>\n",
       "      <td>-0.117510</td>\n",
       "      <td>5.825011</td>\n",
       "    </tr>\n",
       "  </tbody>\n",
       "</table>\n",
       "<p>4225 rows × 7 columns</p>\n",
       "</div>"
      ],
      "text/plain": [
       "         TITLE  CUISINES      TIME      CITY  LOCALITY    RATING      COST\n",
       "0    -0.865970  0.732516 -0.060454  1.336780  1.185448  0.856933  7.020471\n",
       "1     1.059097  1.412578  1.202501  0.975152 -0.691133  0.694526  5.860127\n",
       "2    -0.865970  1.057502 -0.894591  0.975152  0.117371  0.044897  6.595788\n",
       "3     1.059097 -1.444082  1.607821 -0.445526  0.308859  0.044897  5.740824\n",
       "4     1.059097  1.422608 -0.926899  0.510203 -0.354965 -0.279917  5.863681\n",
       "...        ...       ...       ...       ...       ...       ...       ...\n",
       "4220 -0.865970  0.997319 -1.235295  1.285119  0.908854  0.207304  6.748544\n",
       "4221  1.059097 -1.325723 -0.768296 -1.272103 -0.623048  0.856933  6.166302\n",
       "4222  1.059097 -0.499217  1.552016 -0.445526  1.330128 -0.117510  5.806207\n",
       "4223  1.059097  1.230025 -0.906339  0.510203 -0.218796 -2.878430  5.915938\n",
       "4224  1.059097  0.435616  0.756061 -1.297933  0.836515 -0.117510  5.825011\n",
       "\n",
       "[4225 rows x 7 columns]"
      ]
     },
     "execution_count": 241,
     "metadata": {},
     "output_type": "execute_result"
    }
   ],
   "source": [
    "# Prediction on the testing data provided\n",
    "prediction = model.predict(df_test)\n",
    "\n",
    "df_final = df_test.copy()\n",
    "df_final['COST'] = prediction\n",
    "\n",
    "df_final.to_csv(\"Restaurant_food_cost_predicted_final.csv\")\n",
    "df_final"
   ]
  },
  {
   "cell_type": "markdown",
   "id": "401ac4cf",
   "metadata": {},
   "source": [
    "**COST column in log form ,we can convert it in normal form**"
   ]
  },
  {
   "cell_type": "markdown",
   "id": "c1165dc6",
   "metadata": {},
   "source": [
    "# Conclusion"
   ]
  },
  {
   "cell_type": "markdown",
   "id": "ab2ba3db",
   "metadata": {},
   "source": [
    "### 1)The best model was RandomForestRegressor"
   ]
  },
  {
   "cell_type": "markdown",
   "id": "b71ec8f2",
   "metadata": {},
   "source": [
    "### 2)COST are in log form,we can convert it in normal form any time"
   ]
  },
  {
   "cell_type": "code",
   "execution_count": null,
   "id": "4be5a714",
   "metadata": {},
   "outputs": [],
   "source": []
  }
 ],
 "metadata": {
  "kernelspec": {
   "display_name": "Python 3 (ipykernel)",
   "language": "python",
   "name": "python3"
  },
  "language_info": {
   "codemirror_mode": {
    "name": "ipython",
    "version": 3
   },
   "file_extension": ".py",
   "mimetype": "text/x-python",
   "name": "python",
   "nbconvert_exporter": "python",
   "pygments_lexer": "ipython3",
   "version": "3.11.5"
  }
 },
 "nbformat": 4,
 "nbformat_minor": 5
}
